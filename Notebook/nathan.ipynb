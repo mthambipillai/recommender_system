{
 "cells": [
  {
   "cell_type": "code",
   "execution_count": 1,
   "metadata": {
    "collapsed": false
   },
   "outputs": [],
   "source": [
    "# Useful starting lines\n",
    "%matplotlib inline\n",
    "\n",
    "import numpy as np\n",
    "import scipy\n",
    "import scipy.io\n",
    "import scipy.sparse as sp\n",
    "import matplotlib.pyplot as plt\n",
    "import pandas as pd\n",
    "%load_ext autoreload\n",
    "%autoreload 2"
   ]
  },
  {
   "cell_type": "markdown",
   "metadata": {},
   "source": [
    "## Load the Data\n",
    "Note that `ratings` is a sparse matrix that in the shape of (num_items, num_users)"
   ]
  },
  {
   "cell_type": "code",
   "execution_count": 2,
   "metadata": {
    "collapsed": false
   },
   "outputs": [
    {
     "name": "stdout",
     "output_type": "stream",
     "text": [
      "number of items: 1000, number of users: 10000\n"
     ]
    }
   ],
   "source": [
    "from helpers import load_data, preprocess_data\n",
    "\n",
    "path_dataset = \"data/data_train.csv\"\n",
    "ratings = load_data(path_dataset)"
   ]
  },
  {
   "cell_type": "markdown",
   "metadata": {},
   "source": [
    "### Plot the number of ratings per movie and user"
   ]
  },
  {
   "cell_type": "code",
   "execution_count": 3,
   "metadata": {
    "collapsed": false,
    "scrolled": true
   },
   "outputs": [
    {
     "data": {
      "image/png": "[encoded data removed]",
      "text/plain": [
       "<matplotlib.figure.Figure at 0x7f20eb5a3898>"
      ]
     },
     "metadata": {},
     "output_type": "display_data"
    },
    {
     "name": "stdout",
     "output_type": "stream",
     "text": [
      "min # of items per user = 3, min # of users per item = 8.\n"
     ]
    }
   ],
   "source": [
    "from plots import plot_raw_data\n",
    "\n",
    "num_items_per_user, num_users_per_item = plot_raw_data(ratings)\n",
    "\n",
    "print(\"min # of items per user = {}, min # of users per item = {}.\".format(\n",
    "        min(num_items_per_user), min(num_users_per_item)))"
   ]
  },
  {
   "cell_type": "markdown",
   "metadata": {},
   "source": [
    "### Split the data into a train and test set"
   ]
  },
  {
   "cell_type": "code",
   "execution_count": 4,
   "metadata": {
    "collapsed": false
   },
   "outputs": [],
   "source": [
    "def split_data(ratings, num_items_per_user, num_users_per_item,\n",
    "               min_num_ratings, p_test=0.1):\n",
    "    \"\"\"split the ratings to training data and test data.\n",
    "    Args:\n",
    "        min_num_ratings: \n",
    "            all users and items we keep must have at least min_num_ratings per user and per item. \n",
    "    \"\"\"\n",
    "    # set seed\n",
    "    np.random.seed(988)\n",
    "    \n",
    "    # select user and item based on the condition.\n",
    "    valid_users = np.where(num_items_per_user >= min_num_ratings)[0]\n",
    "    valid_items = np.where(num_users_per_item >= min_num_ratings)[0]\n",
    "    valid_ratings = ratings[valid_items, :][: , valid_users]  \n",
    "    \n",
    "    # ***************************************************\n",
    "    # INSERT YOUR CODE HERE\n",
    "    # split the data and return train and test data. TODO\n",
    "    # NOTE: we only consider users and movies that have more\n",
    "    # than 10 ratings\n",
    "    # ***************************************************\n",
    "    \n",
    "    # build rating matrix.\n",
    "    rows, cols = ratings.get_shape()\n",
    "\n",
    "    \n",
    "    train = sp.lil_matrix((rows, cols))\n",
    "    test = sp.lil_matrix((rows, cols))\n",
    "    \n",
    "    print(rows, cols)\n",
    "    \n",
    "    nz_row, nz_col = valid_ratings.nonzero()\n",
    "    print(len(nz_col))\n",
    "    print(len(nz_row))\n",
    "    for i in range(0, len(nz_col)):\n",
    "        rand = np.random.random()\n",
    "        if rand > p_test:\n",
    "            train[nz_row[i],nz_col[i]] = valid_ratings[nz_row[i],nz_col[i]]\n",
    "        else:\n",
    "            test[nz_row[i],nz_col[i]] = valid_ratings[nz_row[i],nz_col[i]]\n",
    "               \n",
    "    print(\"Total number of nonzero elements in original data:{v}\".format(v=valid_ratings.nnz))\n",
    "    print(\"Total number of nonzero elements in train data:{v}\".format(v=train.nnz))\n",
    "    print(\"Total number of nonzero elements in test data:{v}\".format(v=test.nnz))\n",
    "    return valid_ratings, train, test"
   ]
  },
  {
   "cell_type": "code",
   "execution_count": 5,
   "metadata": {
    "collapsed": false,
    "scrolled": true
   },
   "outputs": [
    {
     "name": "stdout",
     "output_type": "stream",
     "text": [
      "1000 10000\n",
      "1176952\n",
      "1176952\n",
      "Total number of nonzero elements in original data:1176952\n",
      "Total number of nonzero elements in train data:1058987\n",
      "Total number of nonzero elements in test data:117965\n"
     ]
    }
   ],
   "source": [
    "from plots import plot_train_test_data\n",
    "\n",
    "valid_ratings, train, test = split_data(\n",
    "    ratings, num_items_per_user, num_users_per_item, min_num_ratings=0, p_test=0.1)"
   ]
  },
  {
   "cell_type": "code",
   "execution_count": 6,
   "metadata": {
    "collapsed": false
   },
   "outputs": [
    {
     "data": {
      "image/png": "[encoded data removed]",
      "text/plain": [
       "<matplotlib.figure.Figure at 0x7f20eb34a908>"
      ]
     },
     "metadata": {},
     "output_type": "display_data"
    }
   ],
   "source": [
    "plot_train_test_data(train, test)"
   ]
  },
  {
   "cell_type": "markdown",
   "metadata": {},
   "source": [
    "## Implementing Baselines "
   ]
  },
  {
   "cell_type": "markdown",
   "metadata": {},
   "source": [
    "### Use the global mean to do the prediction"
   ]
  },
  {
   "cell_type": "code",
   "execution_count": 49,
   "metadata": {
    "collapsed": false,
    "scrolled": true
   },
   "outputs": [
    {
     "data": {
      "text/plain": [
       "0.6261441314983357"
      ]
     },
     "execution_count": 49,
     "metadata": {},
     "output_type": "execute_result"
    }
   ],
   "source": [
    "from helpers import calculate_mse\n",
    "\n",
    "def baseline_global_mean(train, test):\n",
    "    \"\"\"baseline method: use the global mean.\"\"\"\n",
    "    train_mean = train[train.nonzero()].mean()\n",
    "    test_mean = test[test.nonzero()].mean()\n",
    "    \n",
    "    return train_mean, test_mean\n",
    "\n",
    "mean = baseline_global_mean(train, test)\n",
    "pred = np.ones(train.shape) * mean[0]\n",
    "nz = valid_ratings.nonzero()\n",
    "diff = valid_ratings[nz] - pred[nz]\n",
    "rmse = 1/2 * np.sum(np.square(diff)) / len(nz[0])\n",
    "rmse"
   ]
  },
  {
   "cell_type": "markdown",
   "metadata": {},
   "source": [
    "### Use the user means as the prediction"
   ]
  },
  {
   "cell_type": "code",
   "execution_count": 50,
   "metadata": {
    "collapsed": false
   },
   "outputs": [
    {
     "name": "stdout",
     "output_type": "stream",
     "text": [
      "(1, 10000)\n",
      "(1000, 10000)\n"
     ]
    },
    {
     "data": {
      "text/plain": [
       "0.58919719707149609"
      ]
     },
     "execution_count": 50,
     "metadata": {},
     "output_type": "execute_result"
    }
   ],
   "source": [
    "def baseline_user_mean(train, test):\n",
    "    \"\"\"baseline method: use the user means as the prediction.\"\"\"\n",
    "    mse = 0\n",
    "    num_items, num_users = train.shape\n",
    "    \n",
    "    train_means = train.sum(axis = 0) / (train.getnnz(axis=0)+1e-12)\n",
    "    test_means = test.sum(axis = 0) / (test.getnnz(axis=0)+1e-12)\n",
    "    \n",
    "    return train_means, test_means\n",
    "\n",
    "mean = baseline_user_mean(train, test)\n",
    "print(mean[0].shape)\n",
    "means = mean[0].tolist()\n",
    "print(train.shape)\n",
    "pred = np.ones(train.shape)\n",
    "for col in range(train.shape[1]):\n",
    "    pred[:,col] *= means[0][col]\n",
    "nz = valid_ratings.nonzero()\n",
    "diff = valid_ratings[nz] - pred[nz]\n",
    "rmse = 1/2 * np.sum(np.square(diff)) / len(nz[0])\n",
    "rmse"
   ]
  },
  {
   "cell_type": "markdown",
   "metadata": {},
   "source": [
    "### Use the item means as the prediction"
   ]
  },
  {
   "cell_type": "code",
   "execution_count": 51,
   "metadata": {
    "collapsed": false
   },
   "outputs": [
    {
     "name": "stdout",
     "output_type": "stream",
     "text": [
      "(1000, 1)\n",
      "1000\n",
      "(1000, 10000)\n",
      "0.529905886529\n"
     ]
    },
    {
     "ename": "NameError",
     "evalue": "name 'exportSubmission' is not defined",
     "output_type": "error",
     "traceback": [
      "\u001b[1;31m---------------------------------------------------------------------------\u001b[0m",
      "\u001b[1;31mNameError\u001b[0m                                 Traceback (most recent call last)",
      "\u001b[1;32m<ipython-input-51-8b8aba1a13c0>\u001b[0m in \u001b[0;36m<module>\u001b[1;34m()\u001b[0m\n\u001b[0;32m     22\u001b[0m \u001b[0mprint\u001b[0m\u001b[1;33m(\u001b[0m\u001b[0mrmse\u001b[0m\u001b[1;33m)\u001b[0m\u001b[1;33m\u001b[0m\u001b[0m\n\u001b[0;32m     23\u001b[0m \u001b[1;33m\u001b[0m\u001b[0m\n\u001b[1;32m---> 24\u001b[1;33m \u001b[0mexportSubmission\u001b[0m\u001b[1;33m(\u001b[0m\u001b[1;34m\"data/submission_item_mean.csv\"\u001b[0m\u001b[1;33m,\u001b[0m \u001b[0mpred\u001b[0m\u001b[1;33m)\u001b[0m\u001b[1;33m\u001b[0m\u001b[0m\n\u001b[0m",
      "\u001b[1;31mNameError\u001b[0m: name 'exportSubmission' is not defined"
     ]
    }
   ],
   "source": [
    "def baseline_item_mean(train, test):\n",
    "    \"\"\"baseline method: use item means as the prediction.\"\"\"\n",
    "    mse = 0\n",
    "    num_items, num_users = train.shape\n",
    "    \n",
    "    train_means = train.sum(axis = 1) / (train.getnnz(axis=1)+1e-12).reshape(num_items, 1)\n",
    "    test_means = test.sum(axis = 1) / (test.getnnz(axis=1)+1e-12).reshape(num_items, 1)\n",
    "    \n",
    "    return train_means, test_means\n",
    "    \n",
    "mean = baseline_item_mean(train, test)\n",
    "print(mean[0].shape)\n",
    "means = mean[0].tolist()\n",
    "print(len(means))\n",
    "print(train.shape)\n",
    "pred = np.ones(train.shape)\n",
    "for col in range(train.shape[0]):\n",
    "    pred[col,:] *= means[col]\n",
    "nz = valid_ratings.nonzero()\n",
    "diff = valid_ratings[nz] - pred[nz]\n",
    "rmse = 1/2 * np.sum(np.square(diff)) / len(nz[0])\n",
    "print(rmse)\n",
    "\n",
    "exportSubmission(\"data/submission_item_mean.csv\", pred)"
   ]
  },
  {
   "cell_type": "markdown",
   "metadata": {},
   "source": [
    "### Learn the Matrix Factorization using SGD"
   ]
  },
  {
   "cell_type": "markdown",
   "metadata": {},
   "source": [
    "#### Initialize matrix factorization"
   ]
  },
  {
   "cell_type": "code",
   "execution_count": null,
   "metadata": {
    "collapsed": false
   },
   "outputs": [],
   "source": [
    "def init_MF(train, num_features):\n",
    "    \"\"\"init the parameter for matrix factorization.\"\"\"\n",
    "    \n",
    "    # ***************************************************\n",
    "    # INSERT YOUR CODE HERE\n",
    "    # TODO\n",
    "    # you should return:\n",
    "    #     user_features: shape = num_features, num_user\n",
    "    #     item_features: shape = num_features, num_item\n",
    "    # ***************************************************\n",
    "    mean = baseline_global_mean(train, train)[0]\n",
    "    num_items, num_users = train.shape\n",
    "    user_features = np.ones((num_users, num_features))/np.sqrt(num_features/mean)\n",
    "    item_features = np.ones((num_items, num_features))/np.sqrt(num_features/mean)\n",
    "    \n",
    "    return user_features, item_features"
   ]
  },
  {
   "cell_type": "markdown",
   "metadata": {},
   "source": [
    "Compute the cost by the method of matrix factorization.\n"
   ]
  },
  {
   "cell_type": "code",
   "execution_count": null,
   "metadata": {
    "collapsed": false
   },
   "outputs": [],
   "source": [
    "def compute_error(data, user_features, item_features, nz):\n",
    "    \"\"\"compute the loss (MSE) of the prediction of nonzero elements.\"\"\"\n",
    "    # ***************************************************\n",
    "    # INSERT YOUR CODE HERE\n",
    "    # TODO\n",
    "    # calculate rmse (we only consider nonzero entries.)\n",
    "    # ***************************************************\n",
    "    pred = item_features @ user_features.T\n",
    "    diff = data[nz] - pred[nz]\n",
    "    rmse = 1/2 * np.sum(np.square(diff)) / len(nz[0])\n",
    "    \n",
    "    return rmse\n",
    "\n",
    "user_features, item_features = init_MF(train, 20)\n",
    "compute_error(train, user_features, item_features, train.nonzero())\n",
    "train.nonzero()"
   ]
  },
  {
   "cell_type": "code",
   "execution_count": null,
   "metadata": {
    "collapsed": false
   },
   "outputs": [],
   "source": [
    "import csv\n",
    "import sys\n",
    "def exportSubmission(path, pred):\n",
    "    path_dataset = \"data/sampleSubmission.csv\"\n",
    "    submission_ratings = load_data(path_dataset)\n",
    "    submission_ratings.shape\n",
    "    nz_row, nz_col = submission_ratings.nonzero()\n",
    "    for i in range(0, len(nz_col)):\n",
    "        submission_ratings[nz_row[i],nz_col[i]] = pred[nz_row[i],nz_col[i]]\n",
    "\n",
    "    f = open(path, 'wt')\n",
    "    try:\n",
    "        writer = csv.writer(f)\n",
    "        writer.writerow( ('Id', 'Prediction') )\n",
    "        for i in range(0, len(nz_col)):\n",
    "            ide = \"r\" + str(nz_col[i]+1) + \"_c\" + str(nz_row[i]+1)\n",
    "            writer.writerow((ide, int(submission_ratings[nz_row[i],nz_col[i]] + 0.5)))\n",
    "    finally:\n",
    "        f.close()"
   ]
  },
  {
   "cell_type": "code",
   "execution_count": null,
   "metadata": {
    "collapsed": true
   },
   "outputs": [],
   "source": [
    "def factorize(V):\n",
    "    \"\"\"\n",
    "    Perform SNMF/R factorization on the sparse MovieLens data matrix. \n",
    "    \n",
    "    :param V: The MovieLens data matrix. \n",
    "    :type V: `numpy.matrix`\n",
    "    \"\"\"\n",
    "    snmf = nimfa.Snmf(V, seed=None, rank=30, max_iter=30, version='r', eta=1.,\n",
    "                      beta=1e-4, i_conv=10, w_min_change=0)\n",
    "    print(\"Algorithm: %s\\nInitialization: %s\\nRank: %d\" % (snmf, snmf.seed, snmf.rank))\n",
    "    fit = snmf()\n",
    "    print(\"snmf ran\")\n",
    "    return fit"
   ]
  },
  {
   "cell_type": "code",
   "execution_count": null,
   "metadata": {
    "collapsed": true
   },
   "outputs": [],
   "source": []
  },
  {
   "cell_type": "code",
   "execution_count": 174,
   "metadata": {
    "collapsed": false
   },
   "outputs": [
    {
     "name": "stdout",
     "output_type": "stream",
     "text": [
      "1176952\n",
      "Creating validation dataset of 0.01 of training for adaptive regularization\n",
      "-- Epoch 1\n",
      "Training MSE: 0.51915\n",
      "-- Epoch 2\n",
      "Training MSE: 0.49774\n",
      "-- Epoch 3\n",
      "Training MSE: 0.49291\n",
      "-- Epoch 4\n",
      "Training MSE: 0.49001\n",
      "-- Epoch 5\n",
      "Training MSE: 0.48692\n",
      "-- Epoch 6\n",
      "Training MSE: 0.48299\n",
      "-- Epoch 7\n",
      "Training MSE: 0.47668\n",
      "-- Epoch 8\n",
      "Training MSE: 0.46966\n",
      "-- Epoch 9\n",
      "Training MSE: 0.46513\n",
      "-- Epoch 10\n",
      "Training MSE: 0.46155\n",
      "-- Epoch 11\n",
      "Training MSE: 0.45844\n",
      "-- Epoch 12\n",
      "Training MSE: 0.45525\n",
      "-- Epoch 13\n",
      "Training MSE: 0.45316\n",
      "-- Epoch 14\n",
      "Training MSE: 0.45194\n",
      "-- Epoch 15\n",
      "Training MSE: 0.45028\n",
      "-- Epoch 16\n"
     ]
    },
    {
     "ename": "KeyboardInterrupt",
     "evalue": "",
     "output_type": "error",
     "traceback": [
      "\u001b[1;31m---------------------------------------------------------------------------\u001b[0m",
      "\u001b[1;31mKeyboardInterrupt\u001b[0m                         Traceback (most recent call last)",
      "\u001b[1;32m<ipython-input-174-23fda9835391>\u001b[0m in \u001b[0;36m<module>\u001b[1;34m()\u001b[0m\n\u001b[0;32m     25\u001b[0m \u001b[0mfm\u001b[0m \u001b[1;33m=\u001b[0m \u001b[0mpylibfm\u001b[0m\u001b[1;33m.\u001b[0m\u001b[0mFM\u001b[0m\u001b[1;33m(\u001b[0m\u001b[0mnum_factors\u001b[0m\u001b[1;33m=\u001b[0m\u001b[1;36m30\u001b[0m\u001b[1;33m,\u001b[0m \u001b[0mnum_iter\u001b[0m\u001b[1;33m=\u001b[0m\u001b[1;36m20\u001b[0m\u001b[1;33m,\u001b[0m \u001b[0mverbose\u001b[0m\u001b[1;33m=\u001b[0m\u001b[1;32mTrue\u001b[0m\u001b[1;33m,\u001b[0m \u001b[0mtask\u001b[0m\u001b[1;33m=\u001b[0m\u001b[1;34m\"regression\"\u001b[0m\u001b[1;33m,\u001b[0m \u001b[0minitial_learning_rate\u001b[0m\u001b[1;33m=\u001b[0m\u001b[1;36m0.005\u001b[0m\u001b[1;33m,\u001b[0m \u001b[0mlearning_rate_schedule\u001b[0m\u001b[1;33m=\u001b[0m\u001b[1;34m\"optimal\"\u001b[0m\u001b[1;33m)\u001b[0m\u001b[1;33m\u001b[0m\u001b[0m\n\u001b[0;32m     26\u001b[0m \u001b[1;33m\u001b[0m\u001b[0m\n\u001b[1;32m---> 27\u001b[1;33m \u001b[0mfm\u001b[0m\u001b[1;33m.\u001b[0m\u001b[0mfit\u001b[0m\u001b[1;33m(\u001b[0m\u001b[0mX_train\u001b[0m\u001b[1;33m,\u001b[0m\u001b[0my_train\u001b[0m\u001b[1;33m)\u001b[0m\u001b[1;33m\u001b[0m\u001b[0m\n\u001b[0m\u001b[0;32m     28\u001b[0m \u001b[1;33m\u001b[0m\u001b[0m\n\u001b[0;32m     29\u001b[0m \u001b[1;31m# Evaluate\u001b[0m\u001b[1;33m\u001b[0m\u001b[1;33m\u001b[0m\u001b[0m\n",
      "\u001b[1;32m/home/nathan/anaconda3/lib/python3.5/site-packages/pyfm/pylibfm.py\u001b[0m in \u001b[0;36mfit\u001b[1;34m(self, X, y)\u001b[0m\n\u001b[0;32m    208\u001b[0m                                verbose)\n\u001b[0;32m    209\u001b[0m \u001b[1;33m\u001b[0m\u001b[0m\n\u001b[1;32m--> 210\u001b[1;33m         \u001b[1;32mreturn\u001b[0m \u001b[0mself\u001b[0m\u001b[1;33m.\u001b[0m\u001b[0mfm_fast\u001b[0m\u001b[1;33m.\u001b[0m\u001b[0mfit\u001b[0m\u001b[1;33m(\u001b[0m\u001b[0mX_train_dataset\u001b[0m\u001b[1;33m,\u001b[0m \u001b[0mvalidation_dataset\u001b[0m\u001b[1;33m)\u001b[0m\u001b[1;33m\u001b[0m\u001b[0m\n\u001b[0m\u001b[0;32m    211\u001b[0m \u001b[1;33m\u001b[0m\u001b[0m\n\u001b[0;32m    212\u001b[0m         \u001b[1;31m# report epoch information\u001b[0m\u001b[1;33m\u001b[0m\u001b[1;33m\u001b[0m\u001b[0m\n",
      "\u001b[1;32mpyfm_fast.pyx\u001b[0m in \u001b[0;36mpyfm_fast.FM_fast.fit (pyfm_fast.c:5545)\u001b[1;34m()\u001b[0m\n",
      "\u001b[1;31mKeyboardInterrupt\u001b[0m: "
     ]
    }
   ],
   "source": [
    "import numpy as np\n",
    "from sklearn.feature_extraction import DictVectorizer\n",
    "from pyfm import pylibfm\n",
    "\n",
    "# Read in data\n",
    "def loadData(filename,path=\"data/\"):\n",
    "    data = []\n",
    "    y = []\n",
    "    with open(path+filename, \"r\") as f:\n",
    "        lines = f.read().splitlines()[1:]\n",
    "    for line in lines:\n",
    "        (row_col, rating)=line.split(',')\n",
    "        row, col = row_col.split('_')\n",
    "        data.append({ \"user_id\": row, \"movie_id\": col})\n",
    "        y.append(float(rating))\n",
    "\n",
    "    return (data, np.array(y))\n",
    "\n",
    "train_data, y_train = loadData(\"data_train.csv\")\n",
    "print(len(train_data))\n",
    "X_train = v.fit_transform(train_data)\n",
    "#X_test = v.transform(test_data)\n",
    "\n",
    "# Build and train a Factorization Machine\n",
    "fm = pylibfm.FM(num_factors=30, num_iter=20, verbose=True, task=\"regression\", initial_learning_rate=0.005, learning_rate_schedule=\"optimal\")\n",
    "\n",
    "fm.fit(X_train,y_train)\n",
    "\n",
    "# Evaluate\n",
    "predictions = fm.predict(X_train)\n",
    "from sklearn.metrics import mean_squared_error\n",
    "print(\"FM MSE: %.4f\" % mean_squared_error(y_train,predictions))"
   ]
  },
  {
   "cell_type": "code",
   "execution_count": 145,
   "metadata": {
    "collapsed": false
   },
   "outputs": [
    {
     "ename": "IndexError",
     "evalue": "too many indices for array",
     "output_type": "error",
     "traceback": [
      "\u001b[1;31m---------------------------------------------------------------------------\u001b[0m",
      "\u001b[1;31mIndexError\u001b[0m                                Traceback (most recent call last)",
      "\u001b[1;32m<ipython-input-145-dafdbc929c5c>\u001b[0m in \u001b[0;36m<module>\u001b[1;34m()\u001b[0m\n\u001b[0;32m      1\u001b[0m \u001b[0mnz\u001b[0m \u001b[1;33m=\u001b[0m \u001b[0mvalid_ratings\u001b[0m\u001b[1;33m.\u001b[0m\u001b[0mnonzero\u001b[0m\u001b[1;33m(\u001b[0m\u001b[1;33m)\u001b[0m\u001b[1;33m\u001b[0m\u001b[0m\n\u001b[1;32m----> 2\u001b[1;33m \u001b[0mdiff\u001b[0m \u001b[1;33m=\u001b[0m \u001b[0mvalid_ratings\u001b[0m\u001b[1;33m[\u001b[0m\u001b[0mnz\u001b[0m\u001b[1;33m]\u001b[0m \u001b[1;33m-\u001b[0m \u001b[0mpreds\u001b[0m\u001b[1;33m[\u001b[0m\u001b[0mnz\u001b[0m\u001b[1;33m]\u001b[0m\u001b[1;33m\u001b[0m\u001b[0m\n\u001b[0m\u001b[0;32m      3\u001b[0m \u001b[0mrmse\u001b[0m \u001b[1;33m=\u001b[0m \u001b[1;36m1\u001b[0m\u001b[1;33m/\u001b[0m\u001b[1;36m2\u001b[0m \u001b[1;33m*\u001b[0m \u001b[0mnp\u001b[0m\u001b[1;33m.\u001b[0m\u001b[0msum\u001b[0m\u001b[1;33m(\u001b[0m\u001b[0mnp\u001b[0m\u001b[1;33m.\u001b[0m\u001b[0msquare\u001b[0m\u001b[1;33m(\u001b[0m\u001b[0mdiff\u001b[0m\u001b[1;33m)\u001b[0m\u001b[1;33m)\u001b[0m \u001b[1;33m/\u001b[0m \u001b[0mlen\u001b[0m\u001b[1;33m(\u001b[0m\u001b[0mnz\u001b[0m\u001b[1;33m[\u001b[0m\u001b[1;36m0\u001b[0m\u001b[1;33m]\u001b[0m\u001b[1;33m)\u001b[0m\u001b[1;33m\u001b[0m\u001b[0m\n\u001b[0;32m      4\u001b[0m \u001b[0mrmse\u001b[0m\u001b[1;33m\u001b[0m\u001b[0m\n",
      "\u001b[1;31mIndexError\u001b[0m: too many indices for array"
     ]
    }
   ],
   "source": [
    "nz = valid_ratings.nonzero()\n",
    "diff = valid_ratings[nz] - (preds[nz]\n",
    "rmse = 1/2 * np.sum(np.square(diff)) / len(nz[0])\n",
    "rmse"
   ]
  },
  {
   "cell_type": "raw",
   "metadata": {},
   "source": []
  },
  {
   "cell_type": "code",
   "execution_count": 160,
   "metadata": {
    "collapsed": false
   },
   "outputs": [
    {
     "data": {
      "text/plain": [
       "(1000, 10000)"
      ]
     },
     "execution_count": 160,
     "metadata": {},
     "output_type": "execute_result"
    }
   ],
   "source": [
    "valid_ratings.shape"
   ]
  },
  {
   "cell_type": "code",
   "execution_count": 168,
   "metadata": {
    "collapsed": false
   },
   "outputs": [],
   "source": [
    "preds = predictions"
   ]
  },
  {
   "cell_type": "code",
   "execution_count": 169,
   "metadata": {
    "collapsed": false
   },
   "outputs": [
    {
     "data": {
      "text/plain": [
       "0.73576972651948991"
      ]
     },
     "execution_count": 169,
     "metadata": {},
     "output_type": "execute_result"
    }
   ],
   "source": [
    "np.mean(np.abs(y_train - preds)*np.abs(y_train - preds))"
   ]
  },
  {
   "cell_type": "code",
   "execution_count": 170,
   "metadata": {
    "collapsed": true
   },
   "outputs": [],
   "source": [
    "submit_data, y_submit = loadData(\"sampleSubmission.csv\")\n",
    "X_submit = v.fit_transform(train_data)"
   ]
  },
  {
   "cell_type": "code",
   "execution_count": 171,
   "metadata": {
    "collapsed": true
   },
   "outputs": [],
   "source": [
    "preds = fm.predict(X_submit)"
   ]
  },
  {
   "cell_type": "code",
   "execution_count": 172,
   "metadata": {
    "collapsed": true
   },
   "outputs": [],
   "source": [
    "import csv\n",
    "import sys\n",
    "def exportSubmission2(path, pred):\n",
    "    path_dataset = \"data/sampleSubmission.csv\"\n",
    "    submission_ratings = load_data(path_dataset)\n",
    "    submission_ratings.shape\n",
    "    nz_row, nz_col = submission_ratings.nonzero()\n",
    "    for i in range(0, len(nz_col)):\n",
    "        submission_ratings[nz_row[i],nz_col[i]] = pred[i]\n",
    "\n",
    "    f = open(path, 'wt')\n",
    "    try:\n",
    "        writer = csv.writer(f)\n",
    "        writer.writerow( ('Id', 'Prediction') )\n",
    "        for i in range(0, len(nz_col)):\n",
    "            ide = \"r\" + str(nz_col[i]+1) + \"_c\" + str(nz_row[i]+1)\n",
    "            writer.writerow((ide, int(submission_ratings[nz_row[i],nz_col[i]] + 0.5)))\n",
    "    finally:\n",
    "        f.close()"
   ]
  },
  {
   "cell_type": "code",
   "execution_count": 173,
   "metadata": {
    "collapsed": false
   },
   "outputs": [
    {
     "name": "stdout",
     "output_type": "stream",
     "text": [
      "number of items: 1000, number of users: 10000\n"
     ]
    }
   ],
   "source": [
    "exportSubmission2(\"data/sldakds\", preds)"
   ]
  },
  {
   "cell_type": "code",
   "execution_count": null,
   "metadata": {
    "collapsed": true
   },
   "outputs": [],
   "source": []
  },
  {
   "cell_type": "code",
   "execution_count": null,
   "metadata": {
    "collapsed": true
   },
   "outputs": [],
   "source": []
  },
  {
   "cell_type": "code",
   "execution_count": 10,
   "metadata": {
    "collapsed": true
   },
   "outputs": [],
   "source": [
    "# Read in data\n",
    "def loadDataFrame(path):\n",
    "    d = []\n",
    "    with open(path, \"r\") as f:\n",
    "        lines = f.read().splitlines()[1:]\n",
    "    for line in lines:\n",
    "        (row_col, rating)=line.split(',')\n",
    "        row_col = row_col.replace(\"r\", \"\")\n",
    "        row_col = row_col.replace(\"c\", \"\")\n",
    "        row, col = row_col.split('_')\n",
    "        d.append([int(row), int(col), float(rating)])\n",
    "        \n",
    "    data = pd.DataFrame(d, columns = [\"user\", \"item\", \"rating\"])\n",
    "\n",
    "    return data"
   ]
  },
  {
   "cell_type": "code",
   "execution_count": 11,
   "metadata": {
    "collapsed": false
   },
   "outputs": [],
   "source": [
    "path_dataset = \"data/data_train.csv\"\n",
    "data = loadDataFrame(path_dataset)"
   ]
  },
  {
   "cell_type": "code",
   "execution_count": 9,
   "metadata": {
    "collapsed": false
   },
   "outputs": [
    {
     "data": {
      "text/html": [
       "<div>\n",
       "<table border=\"1\" class=\"dataframe\">\n",
       "  <thead>\n",
       "    <tr style=\"text-align: right;\">\n",
       "      <th></th>\n",
       "      <th>user</th>\n",
       "      <th>item</th>\n",
       "      <th>rating</th>\n",
       "    </tr>\n",
       "  </thead>\n",
       "  <tbody>\n",
       "    <tr>\n",
       "      <th>0</th>\n",
       "      <td>44</td>\n",
       "      <td>1</td>\n",
       "      <td>4.0</td>\n",
       "    </tr>\n",
       "    <tr>\n",
       "      <th>1</th>\n",
       "      <td>61</td>\n",
       "      <td>1</td>\n",
       "      <td>3.0</td>\n",
       "    </tr>\n",
       "    <tr>\n",
       "      <th>2</th>\n",
       "      <td>67</td>\n",
       "      <td>1</td>\n",
       "      <td>4.0</td>\n",
       "    </tr>\n",
       "    <tr>\n",
       "      <th>3</th>\n",
       "      <td>72</td>\n",
       "      <td>1</td>\n",
       "      <td>3.0</td>\n",
       "    </tr>\n",
       "    <tr>\n",
       "      <th>4</th>\n",
       "      <td>86</td>\n",
       "      <td>1</td>\n",
       "      <td>5.0</td>\n",
       "    </tr>\n",
       "  </tbody>\n",
       "</table>\n",
       "</div>"
      ],
      "text/plain": [
       "   user  item  rating\n",
       "0    44     1     4.0\n",
       "1    61     1     3.0\n",
       "2    67     1     4.0\n",
       "3    72     1     3.0\n",
       "4    86     1     5.0"
      ]
     },
     "execution_count": 9,
     "metadata": {},
     "output_type": "execute_result"
    }
   ],
   "source": [
    "data.head()"
   ]
  },
  {
   "cell_type": "code",
   "execution_count": 10,
   "metadata": {
    "collapsed": false
   },
   "outputs": [
    {
     "data": {
      "text/plain": [
       "3.8572805008190647"
      ]
     },
     "execution_count": 10,
     "metadata": {},
     "output_type": "execute_result"
    }
   ],
   "source": [
    "data.rating.mean()"
   ]
  },
  {
   "cell_type": "code",
   "execution_count": 11,
   "metadata": {
    "collapsed": false
   },
   "outputs": [
    {
     "data": {
      "text/plain": [
       "1.1190572091671531"
      ]
     },
     "execution_count": 11,
     "metadata": {},
     "output_type": "execute_result"
    }
   ],
   "source": [
    "data.rating.std()"
   ]
  },
  {
   "cell_type": "code",
   "execution_count": 12,
   "metadata": {
    "collapsed": false
   },
   "outputs": [
    {
     "data": {
      "text/plain": [
       "count    1.176952e+06\n",
       "mean     3.857281e+00\n",
       "std      1.119057e+00\n",
       "min      1.000000e+00\n",
       "25%      3.000000e+00\n",
       "50%      4.000000e+00\n",
       "75%      5.000000e+00\n",
       "max      5.000000e+00\n",
       "Name: rating, dtype: float64"
      ]
     },
     "execution_count": 12,
     "metadata": {},
     "output_type": "execute_result"
    }
   ],
   "source": [
    "data.rating.describe()"
   ]
  },
  {
   "cell_type": "code",
   "execution_count": 13,
   "metadata": {
    "collapsed": false
   },
   "outputs": [
    {
     "data": {
      "text/html": [
       "<div>\n",
       "<table border=\"1\" class=\"dataframe\">\n",
       "  <thead>\n",
       "    <tr style=\"text-align: right;\">\n",
       "      <th></th>\n",
       "      <th>rating</th>\n",
       "      <th>user</th>\n",
       "      <th>item</th>\n",
       "    </tr>\n",
       "  </thead>\n",
       "  <tbody>\n",
       "    <tr>\n",
       "      <th>0</th>\n",
       "      <td>1.0</td>\n",
       "      <td>43508</td>\n",
       "      <td>43508</td>\n",
       "    </tr>\n",
       "    <tr>\n",
       "      <th>1</th>\n",
       "      <td>2.0</td>\n",
       "      <td>99180</td>\n",
       "      <td>99180</td>\n",
       "    </tr>\n",
       "    <tr>\n",
       "      <th>2</th>\n",
       "      <td>3.0</td>\n",
       "      <td>274327</td>\n",
       "      <td>274327</td>\n",
       "    </tr>\n",
       "    <tr>\n",
       "      <th>3</th>\n",
       "      <td>4.0</td>\n",
       "      <td>324700</td>\n",
       "      <td>324700</td>\n",
       "    </tr>\n",
       "    <tr>\n",
       "      <th>4</th>\n",
       "      <td>5.0</td>\n",
       "      <td>435237</td>\n",
       "      <td>435237</td>\n",
       "    </tr>\n",
       "  </tbody>\n",
       "</table>\n",
       "</div>"
      ],
      "text/plain": [
       "   rating    user    item\n",
       "0     1.0   43508   43508\n",
       "1     2.0   99180   99180\n",
       "2     3.0  274327  274327\n",
       "3     4.0  324700  324700\n",
       "4     5.0  435237  435237"
      ]
     },
     "execution_count": 13,
     "metadata": {},
     "output_type": "execute_result"
    }
   ],
   "source": [
    "data.groupby(\"rating\").count().reset_index()"
   ]
  },
  {
   "cell_type": "code",
   "execution_count": 14,
   "metadata": {
    "collapsed": false
   },
   "outputs": [
    {
     "data": {
      "text/html": [
       "<div>\n",
       "<table border=\"1\" class=\"dataframe\">\n",
       "  <thead>\n",
       "    <tr style=\"text-align: right;\">\n",
       "      <th></th>\n",
       "      <th>nb ratings</th>\n",
       "    </tr>\n",
       "  </thead>\n",
       "  <tbody>\n",
       "    <tr>\n",
       "      <th>count</th>\n",
       "      <td>10000.000000</td>\n",
       "    </tr>\n",
       "    <tr>\n",
       "      <th>mean</th>\n",
       "      <td>117.695200</td>\n",
       "    </tr>\n",
       "    <tr>\n",
       "      <th>std</th>\n",
       "      <td>67.900609</td>\n",
       "    </tr>\n",
       "    <tr>\n",
       "      <th>min</th>\n",
       "      <td>3.000000</td>\n",
       "    </tr>\n",
       "    <tr>\n",
       "      <th>25%</th>\n",
       "      <td>68.000000</td>\n",
       "    </tr>\n",
       "    <tr>\n",
       "      <th>50%</th>\n",
       "      <td>104.000000</td>\n",
       "    </tr>\n",
       "    <tr>\n",
       "      <th>75%</th>\n",
       "      <td>153.000000</td>\n",
       "    </tr>\n",
       "    <tr>\n",
       "      <th>max</th>\n",
       "      <td>522.000000</td>\n",
       "    </tr>\n",
       "  </tbody>\n",
       "</table>\n",
       "</div>"
      ],
      "text/plain": [
       "         nb ratings\n",
       "count  10000.000000\n",
       "mean     117.695200\n",
       "std       67.900609\n",
       "min        3.000000\n",
       "25%       68.000000\n",
       "50%      104.000000\n",
       "75%      153.000000\n",
       "max      522.000000"
      ]
     },
     "execution_count": 14,
     "metadata": {},
     "output_type": "execute_result"
    }
   ],
   "source": [
    "user_ratings = data.groupby(\"user\").count()[\"item\"].to_frame()\n",
    "user_ratings.columns = [\"nb ratings\"]\n",
    "user_ratings.describe()"
   ]
  },
  {
   "cell_type": "code",
   "execution_count": 15,
   "metadata": {
    "collapsed": false
   },
   "outputs": [
    {
     "data": {
      "text/html": [
       "<div>\n",
       "<table border=\"1\" class=\"dataframe\">\n",
       "  <thead>\n",
       "    <tr style=\"text-align: right;\">\n",
       "      <th></th>\n",
       "      <th>rating</th>\n",
       "    </tr>\n",
       "    <tr>\n",
       "      <th>user</th>\n",
       "      <th></th>\n",
       "    </tr>\n",
       "  </thead>\n",
       "  <tbody>\n",
       "    <tr>\n",
       "      <th>1</th>\n",
       "      <td>4.043478</td>\n",
       "    </tr>\n",
       "    <tr>\n",
       "      <th>2</th>\n",
       "      <td>3.771812</td>\n",
       "    </tr>\n",
       "    <tr>\n",
       "      <th>3</th>\n",
       "      <td>3.523256</td>\n",
       "    </tr>\n",
       "    <tr>\n",
       "      <th>4</th>\n",
       "      <td>3.800000</td>\n",
       "    </tr>\n",
       "    <tr>\n",
       "      <th>5</th>\n",
       "      <td>3.985075</td>\n",
       "    </tr>\n",
       "  </tbody>\n",
       "</table>\n",
       "</div>"
      ],
      "text/plain": [
       "        rating\n",
       "user          \n",
       "1     4.043478\n",
       "2     3.771812\n",
       "3     3.523256\n",
       "4     3.800000\n",
       "5     3.985075"
      ]
     },
     "execution_count": 15,
     "metadata": {},
     "output_type": "execute_result"
    }
   ],
   "source": [
    "mean_user = data.groupby(\"user\")[\"rating\"].mean().to_frame()\n",
    "mean_user.head()"
   ]
  },
  {
   "cell_type": "code",
   "execution_count": 16,
   "metadata": {
    "collapsed": false
   },
   "outputs": [
    {
     "data": {
      "text/plain": [
       "rating    0.274196\n",
       "dtype: float64"
      ]
     },
     "execution_count": 16,
     "metadata": {},
     "output_type": "execute_result"
    }
   ],
   "source": [
    "mean_user.std()"
   ]
  },
  {
   "cell_type": "code",
   "execution_count": 17,
   "metadata": {
    "collapsed": false
   },
   "outputs": [
    {
     "data": {
      "text/html": [
       "<div>\n",
       "<table border=\"1\" class=\"dataframe\">\n",
       "  <thead>\n",
       "    <tr style=\"text-align: right;\">\n",
       "      <th></th>\n",
       "      <th>rating</th>\n",
       "    </tr>\n",
       "    <tr>\n",
       "      <th>user</th>\n",
       "      <th></th>\n",
       "    </tr>\n",
       "  </thead>\n",
       "  <tbody>\n",
       "    <tr>\n",
       "      <th>1</th>\n",
       "      <td>1.065076</td>\n",
       "    </tr>\n",
       "    <tr>\n",
       "      <th>2</th>\n",
       "      <td>1.180476</td>\n",
       "    </tr>\n",
       "    <tr>\n",
       "      <th>3</th>\n",
       "      <td>1.185468</td>\n",
       "    </tr>\n",
       "    <tr>\n",
       "      <th>4</th>\n",
       "      <td>1.239694</td>\n",
       "    </tr>\n",
       "    <tr>\n",
       "      <th>5</th>\n",
       "      <td>1.054778</td>\n",
       "    </tr>\n",
       "  </tbody>\n",
       "</table>\n",
       "</div>"
      ],
      "text/plain": [
       "        rating\n",
       "user          \n",
       "1     1.065076\n",
       "2     1.180476\n",
       "3     1.185468\n",
       "4     1.239694\n",
       "5     1.054778"
      ]
     },
     "execution_count": 17,
     "metadata": {},
     "output_type": "execute_result"
    }
   ],
   "source": [
    "std_user = data.groupby(\"user\")[\"rating\"].std().to_frame()\n",
    "std_user.head()"
   ]
  },
  {
   "cell_type": "code",
   "execution_count": 18,
   "metadata": {
    "collapsed": false
   },
   "outputs": [
    {
     "data": {
      "text/html": [
       "<div>\n",
       "<table border=\"1\" class=\"dataframe\">\n",
       "  <thead>\n",
       "    <tr style=\"text-align: right;\">\n",
       "      <th></th>\n",
       "      <th>rating</th>\n",
       "    </tr>\n",
       "  </thead>\n",
       "  <tbody>\n",
       "    <tr>\n",
       "      <th>count</th>\n",
       "      <td>10000.000000</td>\n",
       "    </tr>\n",
       "    <tr>\n",
       "      <th>mean</th>\n",
       "      <td>1.065531</td>\n",
       "    </tr>\n",
       "    <tr>\n",
       "      <th>std</th>\n",
       "      <td>0.149794</td>\n",
       "    </tr>\n",
       "    <tr>\n",
       "      <th>min</th>\n",
       "      <td>0.378535</td>\n",
       "    </tr>\n",
       "    <tr>\n",
       "      <th>25%</th>\n",
       "      <td>0.964366</td>\n",
       "    </tr>\n",
       "    <tr>\n",
       "      <th>50%</th>\n",
       "      <td>1.061773</td>\n",
       "    </tr>\n",
       "    <tr>\n",
       "      <th>75%</th>\n",
       "      <td>1.158456</td>\n",
       "    </tr>\n",
       "    <tr>\n",
       "      <th>max</th>\n",
       "      <td>1.786474</td>\n",
       "    </tr>\n",
       "  </tbody>\n",
       "</table>\n",
       "</div>"
      ],
      "text/plain": [
       "             rating\n",
       "count  10000.000000\n",
       "mean       1.065531\n",
       "std        0.149794\n",
       "min        0.378535\n",
       "25%        0.964366\n",
       "50%        1.061773\n",
       "75%        1.158456\n",
       "max        1.786474"
      ]
     },
     "execution_count": 18,
     "metadata": {},
     "output_type": "execute_result"
    }
   ],
   "source": [
    "std_user.describe()"
   ]
  },
  {
   "cell_type": "code",
   "execution_count": 19,
   "metadata": {
    "collapsed": false
   },
   "outputs": [
    {
     "data": {
      "text/html": [
       "<div>\n",
       "<table border=\"1\" class=\"dataframe\">\n",
       "  <thead>\n",
       "    <tr style=\"text-align: right;\">\n",
       "      <th></th>\n",
       "      <th>user</th>\n",
       "      <th>rating mean</th>\n",
       "      <th>rating std</th>\n",
       "      <th>nb rating</th>\n",
       "    </tr>\n",
       "  </thead>\n",
       "  <tbody>\n",
       "    <tr>\n",
       "      <th>0</th>\n",
       "      <td>1</td>\n",
       "      <td>4.043478</td>\n",
       "      <td>1.065076</td>\n",
       "      <td>23</td>\n",
       "    </tr>\n",
       "    <tr>\n",
       "      <th>1</th>\n",
       "      <td>2</td>\n",
       "      <td>3.771812</td>\n",
       "      <td>1.180476</td>\n",
       "      <td>149</td>\n",
       "    </tr>\n",
       "    <tr>\n",
       "      <th>2</th>\n",
       "      <td>3</td>\n",
       "      <td>3.523256</td>\n",
       "      <td>1.185468</td>\n",
       "      <td>86</td>\n",
       "    </tr>\n",
       "    <tr>\n",
       "      <th>3</th>\n",
       "      <td>4</td>\n",
       "      <td>3.800000</td>\n",
       "      <td>1.239694</td>\n",
       "      <td>20</td>\n",
       "    </tr>\n",
       "    <tr>\n",
       "      <th>4</th>\n",
       "      <td>5</td>\n",
       "      <td>3.985075</td>\n",
       "      <td>1.054778</td>\n",
       "      <td>134</td>\n",
       "    </tr>\n",
       "  </tbody>\n",
       "</table>\n",
       "</div>"
      ],
      "text/plain": [
       "   user  rating mean  rating std  nb rating\n",
       "0     1     4.043478    1.065076         23\n",
       "1     2     3.771812    1.180476        149\n",
       "2     3     3.523256    1.185468         86\n",
       "3     4     3.800000    1.239694         20\n",
       "4     5     3.985075    1.054778        134"
      ]
     },
     "execution_count": 19,
     "metadata": {},
     "output_type": "execute_result"
    }
   ],
   "source": [
    "user_grouped = data.copy()\n",
    "user_grouped[\"nb rating\"] =  user_grouped.groupby([\"user\"])['rating'].transform('count')\n",
    "user_grouped = user_grouped.sort_values([\"user\"])\n",
    "user_grouped = user_grouped.groupby(\"user\").agg({'rating' : [np.mean, np.std], 'nb rating' : np.mean})[[\"rating\",\"nb rating\"]].reset_index()\n",
    "user_grouped.columns = [\"user\", \"rating mean\", \"rating std\", \"nb rating\"]\n",
    "user_grouped.head()"
   ]
  },
  {
   "cell_type": "code",
   "execution_count": 20,
   "metadata": {
    "collapsed": false
   },
   "outputs": [
    {
     "data": {
      "text/plain": [
       "<matplotlib.text.Text at 0x7f0c7b691898>"
      ]
     },
     "execution_count": 20,
     "metadata": {},
     "output_type": "execute_result"
    },
    {
     "data": {
      "image/png": "[encoded data removed]",
      "text/plain": [
       "<matplotlib.figure.Figure at 0x7f0c7b638400>"
      ]
     },
     "metadata": {},
     "output_type": "display_data"
    }
   ],
   "source": [
    "fig = plt.figure(figsize=(16, 6))\n",
    "ax1 = fig.add_subplot(1, 2, 1)\n",
    "ax1.scatter(user_grouped[\"nb rating\"], user_grouped[\"rating mean\"], color='b', s=2, marker='o', alpha=.2)\n",
    "ax1.set_xlabel(\"Nb of items rated\")\n",
    "ax1.set_ylabel(\"User Average rating\")\n",
    "ax2 = fig.add_subplot(1, 2, 2)\n",
    "ax2.scatter(user_grouped[\"nb rating\"], user_grouped[\"rating std\"], color='r', s=2, marker='o', alpha=.2)\n",
    "ax2.set_xlabel(\"Nb of items rated\")\n",
    "ax2.set_ylabel(\"User rating standard deviation\")"
   ]
  },
  {
   "cell_type": "code",
   "execution_count": null,
   "metadata": {
    "collapsed": true
   },
   "outputs": [],
   "source": []
  },
  {
   "cell_type": "code",
   "execution_count": 21,
   "metadata": {
    "collapsed": false
   },
   "outputs": [
    {
     "data": {
      "text/html": [
       "<div>\n",
       "<table border=\"1\" class=\"dataframe\">\n",
       "  <thead>\n",
       "    <tr style=\"text-align: right;\">\n",
       "      <th></th>\n",
       "      <th>item</th>\n",
       "      <th>rating mean</th>\n",
       "      <th>rating std</th>\n",
       "      <th>nb rating</th>\n",
       "    </tr>\n",
       "  </thead>\n",
       "  <tbody>\n",
       "    <tr>\n",
       "      <th>0</th>\n",
       "      <td>1</td>\n",
       "      <td>3.379412</td>\n",
       "      <td>1.061607</td>\n",
       "      <td>340</td>\n",
       "    </tr>\n",
       "    <tr>\n",
       "      <th>1</th>\n",
       "      <td>2</td>\n",
       "      <td>3.500942</td>\n",
       "      <td>1.030433</td>\n",
       "      <td>531</td>\n",
       "    </tr>\n",
       "    <tr>\n",
       "      <th>2</th>\n",
       "      <td>3</td>\n",
       "      <td>3.483586</td>\n",
       "      <td>1.073639</td>\n",
       "      <td>792</td>\n",
       "    </tr>\n",
       "    <tr>\n",
       "      <th>3</th>\n",
       "      <td>4</td>\n",
       "      <td>3.936473</td>\n",
       "      <td>1.180813</td>\n",
       "      <td>3164</td>\n",
       "    </tr>\n",
       "    <tr>\n",
       "      <th>4</th>\n",
       "      <td>5</td>\n",
       "      <td>3.559131</td>\n",
       "      <td>1.036532</td>\n",
       "      <td>1243</td>\n",
       "    </tr>\n",
       "  </tbody>\n",
       "</table>\n",
       "</div>"
      ],
      "text/plain": [
       "   item  rating mean  rating std  nb rating\n",
       "0     1     3.379412    1.061607        340\n",
       "1     2     3.500942    1.030433        531\n",
       "2     3     3.483586    1.073639        792\n",
       "3     4     3.936473    1.180813       3164\n",
       "4     5     3.559131    1.036532       1243"
      ]
     },
     "execution_count": 21,
     "metadata": {},
     "output_type": "execute_result"
    }
   ],
   "source": [
    "item_grouped = data.copy()\n",
    "item_grouped[\"nb rating\"] =  item_grouped.groupby([\"item\"])['rating'].transform('count')\n",
    "item_grouped = item_grouped.sort_values([\"item\"])\n",
    "item_grouped = item_grouped.groupby(\"item\").agg({'rating' : [np.mean, np.std], 'nb rating' : np.mean})[[\"rating\",\"nb rating\"]].reset_index()\n",
    "item_grouped.columns = [\"item\", \"rating mean\", \"rating std\", \"nb rating\"]\n",
    "item_grouped.head()"
   ]
  },
  {
   "cell_type": "code",
   "execution_count": 22,
   "metadata": {
    "collapsed": false
   },
   "outputs": [
    {
     "data": {
      "text/plain": [
       "<matplotlib.text.Text at 0x7f0c786faac8>"
      ]
     },
     "execution_count": 22,
     "metadata": {},
     "output_type": "execute_result"
    },
    {
     "data": {
      "image/png": "[encoded data removed]",
      "text/plain": [
       "<matplotlib.figure.Figure at 0x7f0c78836d30>"
      ]
     },
     "metadata": {},
     "output_type": "display_data"
    }
   ],
   "source": [
    "fig = plt.figure(figsize=(16, 6))\n",
    "ax1 = fig.add_subplot(1, 2, 1)\n",
    "ax1.scatter(item_grouped[\"nb rating\"], item_grouped[\"rating mean\"], color='b', s=4, marker='o', alpha=.5)\n",
    "ax1.set_xlabel(\"Nb of items rated\")\n",
    "ax1.set_ylabel(\"Item Average rating\")\n",
    "ax2 = fig.add_subplot(1, 2, 2)\n",
    "ax2.scatter(item_grouped[\"nb rating\"], item_grouped[\"rating std\"], color='r', s=4, marker='o', alpha=.5)\n",
    "ax2.set_xlabel(\"Nb of items rated\")\n",
    "ax2.set_ylabel(\"Item rating standard deviation\")"
   ]
  },
  {
   "cell_type": "code",
   "execution_count": null,
   "metadata": {
    "collapsed": true
   },
   "outputs": [],
   "source": []
  },
  {
   "cell_type": "code",
   "execution_count": 14,
   "metadata": {
    "collapsed": true
   },
   "outputs": [],
   "source": [
    "def predict(data, user_features, item_features):\n",
    "    product = item_features @ user_features.T\n",
    "    preds = data.copy()\n",
    "    nz = preds.nonzero()\n",
    "    preds[nz] = product[nz[0],nz[1]]\n",
    "    return preds"
   ]
  },
  {
   "cell_type": "code",
   "execution_count": 15,
   "metadata": {
    "collapsed": false
   },
   "outputs": [],
   "source": [
    "def predict_user(data, mean_user):\n",
    "    preds = data.copy()\n",
    "    nz = preds.nonzero()\n",
    "    preds[nz] = mean_user[nz[1]+1]\n",
    "    return preds"
   ]
  },
  {
   "cell_type": "code",
   "execution_count": 16,
   "metadata": {
    "collapsed": false
   },
   "outputs": [],
   "source": [
    "def predict_item(data, mean_item):\n",
    "    preds = data.copy()\n",
    "    nz = preds.nonzero()\n",
    "    preds[nz] = mean_item[nz[0]+1]\n",
    "    return preds"
   ]
  },
  {
   "cell_type": "code",
   "execution_count": 39,
   "metadata": {
    "collapsed": false
   },
   "outputs": [],
   "source": [
    "def compute_rmse(data, preds):\n",
    "    nz_item, nz_user = data.nonzero()\n",
    "    diff = 0\n",
    "    for i in range(0, len(nz_item)):\n",
    "        diff += np.square(data[nz_item[i], nz_user[i]] - preds[nz_item[i], nz_user[i]])\n",
    "    rmse = diff / len(nz_item)\n",
    "    return rmse"
   ]
  },
  {
   "cell_type": "code",
   "execution_count": null,
   "metadata": {
    "collapsed": false
   },
   "outputs": [],
   "source": []
  },
  {
   "cell_type": "code",
   "execution_count": 28,
   "metadata": {
    "collapsed": false
   },
   "outputs": [
    {
     "name": "stdout",
     "output_type": "stream",
     "text": [
      "1.02942067458\n"
     ]
    }
   ],
   "source": [
    "mean_item = data.groupby(\"item\").mean()[\"rating\"]\n",
    "mean_item.head()\n",
    "preds_item = predict_item(valid_ratings, mean_item)\n",
    "print(compute_rmse(valid_ratings, preds_item))"
   ]
  },
  {
   "cell_type": "code",
   "execution_count": 29,
   "metadata": {
    "collapsed": false
   },
   "outputs": [
    {
     "name": "stdout",
     "output_type": "stream",
     "text": [
      "1.08502915952\n"
     ]
    }
   ],
   "source": [
    "mean_user = data.groupby(\"user\").mean()[\"rating\"]\n",
    "mean_user.head()\n",
    "preds_user = predict_user(valid_ratings, mean_user)\n",
    "print(compute_rmse(valid_ratings, preds_user))"
   ]
  },
  {
   "cell_type": "code",
   "execution_count": 30,
   "metadata": {
    "collapsed": false
   },
   "outputs": [
    {
     "name": "stdout",
     "output_type": "stream",
     "text": [
      "3.8572805008190647\n"
     ]
    },
    {
     "data": {
      "text/plain": [
       "1.1190982030259891"
      ]
     },
     "execution_count": 30,
     "metadata": {},
     "output_type": "execute_result"
    }
   ],
   "source": [
    "# init matrix\n",
    "mean = data[\"rating\"].mean()\n",
    "print(mean)\n",
    "user_features, item_features = init_MF(valid_ratings, 20, mean)\n",
    "\n",
    "# find the non-zero ratings indices \n",
    "nz_row, nz_col = train.nonzero()\n",
    "nz_train = list(zip(nz_row, nz_col))\n",
    "\n",
    "preds = predict(train, user_features, item_features)\n",
    "rmse = compute_rmse(train, preds)\n",
    "rmse"
   ]
  },
  {
   "cell_type": "code",
   "execution_count": 52,
   "metadata": {
    "collapsed": true
   },
   "outputs": [],
   "source": [
    "def init_MF(train, num_features, mean):\n",
    "    \"\"\"init the parameter for matrix factorization.\"\"\"\n",
    "    \n",
    "    # ***************************************************\n",
    "    # INSERT YOUR CODE HERE\n",
    "    # TODO\n",
    "    # you should return:\n",
    "    #     user_features: shape = num_features, num_user\n",
    "    #     item_features: shape = num_features, num_item\n",
    "    # ***************************************************\n",
    "    num_items, num_users = train.shape\n",
    "    user_features = np.ones((num_users, num_features))/np.sqrt(num_features/mean)\n",
    "    item_features = np.ones((num_items, num_features))/np.sqrt(num_features/mean)\n",
    "    \n",
    "    return user_features, item_features"
   ]
  },
  {
   "cell_type": "code",
   "execution_count": 65,
   "metadata": {
    "collapsed": false
   },
   "outputs": [],
   "source": [
    "from plots import visualization\n",
    "\n",
    "def matrix_factorization_SGD(train, num_epochs=50, num_features=20):\n",
    "    \"\"\"matrix factorization by SGD.\"\"\"\n",
    "    # define parameters\n",
    "    gamma = 0.0005\n",
    "    lambda_user = 0.1\n",
    "    lambda_item = 0.7\n",
    "    errors = []\n",
    "    \n",
    "    # set seed\n",
    "    np.random.seed(988)\n",
    "\n",
    "    # init matrix\n",
    "    mean = train[train.nonzero()].mean()\n",
    "    print(mean)\n",
    "    user_features, item_features = init_MF(train, num_features, mean)\n",
    "    \n",
    "    # find the non-zero ratings indices \n",
    "    nz_row, nz_col = train.nonzero()\n",
    "    nz_train = list(zip(nz_row, nz_col))\n",
    "\n",
    "    preds = predict(train, user_features, item_features)\n",
    "    rmse = compute_rmse(train, preds)\n",
    "\n",
    "    print(\"iter: k = {}, RMSE on training set: {}.\".format(num_features, rmse))\n",
    "\n",
    "    print(\"learn the matrix factorization using SGD...\")\n",
    "    \n",
    "    for it in range(num_epochs):        \n",
    "        # shuffle the training rating indices\n",
    "        np.random.shuffle(nz_train)\n",
    "        \n",
    "        # decrease step size\n",
    "        gamma /= 1\n",
    "        \n",
    "        mult = item_features @ user_features.T\n",
    "        item_grad = np.zeros(item_features.shape)\n",
    "        user_grad = np.zeros(user_features.shape)\n",
    "        nb = int(len(nz_train)/(5+np.sqrt(it)))\n",
    "        for d, n in nz_train[:nb]:\n",
    "        # ***************************************************\n",
    "        # INSERT YOUR CODE HERE\n",
    "        # TODO\n",
    "        # do matrix factorization.\n",
    "        # ***************************************************\n",
    "            pred_error = train[d, n] - mult[d, n]\n",
    "            item_grad[d,:] += pred_error * user_features[n,:] * gamma\n",
    "            user_grad[n,:] += pred_error * item_features[d,:] * gamma\n",
    "        \n",
    "        item_features += item_grad\n",
    "        user_features += user_grad\n",
    "           \n",
    "        preds = predict(train, user_features, item_features)\n",
    "        rmse = compute_rmse(train, preds)\n",
    "        #print(\"iter: {}, RMSE on training set: {}.\".format(it, rmse))\n",
    "        errors.append(rmse)\n",
    "        \n",
    "        print(\"iter: {}, RMSE on training set: {}.\".format(it, rmse))\n",
    "        \n",
    "    # ***************************************************\n",
    "    # TODO\n",
    "    # evaluate the test error.\n",
    "    # ***************************************************\n",
    "    print(len(errors))\n",
    "    print(np.linspace(1,num_epochs,num_epochs))\n",
    "    visualization(np.linspace(1,num_epochs,num_epochs),errors,errors)\n",
    "    print(user_features)\n",
    "    print(item_features)\n",
    "    \n",
    "    return user_features, item_features"
   ]
  },
  {
   "cell_type": "code",
   "execution_count": 72,
   "metadata": {
    "collapsed": false
   },
   "outputs": [
    {
     "name": "stdout",
     "output_type": "stream",
     "text": [
      "3.85728050082\n",
      "iter: k = 30, RMSE on training set: 1.252287973378689.\n",
      "learn the matrix factorization using SGD...\n",
      "iter: 0, RMSE on training set: 1.1195384844923868.\n",
      "iter: 1, RMSE on training set: 1.0805568618467065.\n",
      "iter: 2, RMSE on training set: 1.0639471892068921.\n",
      "iter: 3, RMSE on training set: 1.0533169540783294.\n",
      "iter: 4, RMSE on training set: 1.0457815537387758.\n",
      "iter: 5, RMSE on training set: 1.0395376172205808.\n",
      "iter: 6, RMSE on training set: 1.0344874933705015.\n",
      "iter: 7, RMSE on training set: 1.0302747586674725.\n",
      "iter: 8, RMSE on training set: 1.026645804813678.\n",
      "iter: 9, RMSE on training set: 1.0235983437184724.\n",
      "iter: 10, RMSE on training set: 1.021003757987894.\n",
      "iter: 11, RMSE on training set: 1.0185607540107162.\n",
      "iter: 12, RMSE on training set: 1.0163842229864373.\n",
      "iter: 13, RMSE on training set: 1.0145825822120718.\n",
      "iter: 14, RMSE on training set: 1.0127281225552025.\n",
      "iter: 15, RMSE on training set: 1.0112275296529543.\n",
      "iter: 16, RMSE on training set: 1.009778263700288.\n",
      "iter: 17, RMSE on training set: 1.008391936232261.\n",
      "iter: 18, RMSE on training set: 1.007222705585703.\n",
      "iter: 19, RMSE on training set: 1.0060846852998588.\n",
      "iter: 20, RMSE on training set: 1.0049651278393235.\n",
      "iter: 21, RMSE on training set: 1.0039651870314281.\n",
      "iter: 22, RMSE on training set: 1.0031268545091372.\n",
      "iter: 23, RMSE on training set: 1.0022265059310491.\n",
      "iter: 24, RMSE on training set: 1.0013590055549584.\n",
      "iter: 25, RMSE on training set: 1.0006543024864782.\n",
      "iter: 26, RMSE on training set: 1.0000296923597718.\n",
      "iter: 27, RMSE on training set: 0.9994119168841717.\n",
      "iter: 28, RMSE on training set: 0.9988648745297759.\n",
      "iter: 29, RMSE on training set: 0.9982307392591199.\n",
      "30\n",
      "[  1.   2.   3.   4.   5.   6.   7.   8.   9.  10.  11.  12.  13.  14.  15.\n",
      "  16.  17.  18.  19.  20.  21.  22.  23.  24.  25.  26.  27.  28.  29.  30.]\n",
      "[[ 0.35849105  0.35849105  0.35849105 ...,  0.35849105  0.35849105\n",
      "   0.35849105]\n",
      " [ 0.34607418  0.34607418  0.34607418 ...,  0.34607418  0.34607418\n",
      "   0.34607418]\n",
      " [ 0.34088498  0.34088498  0.34088498 ...,  0.34088498  0.34088498\n",
      "   0.34088498]\n",
      " ..., \n",
      " [ 0.35504787  0.35504787  0.35504787 ...,  0.35504787  0.35504787\n",
      "   0.35504787]\n",
      " [ 0.3508279   0.3508279   0.3508279  ...,  0.3508279   0.3508279\n",
      "   0.3508279 ]\n",
      " [ 0.35809144  0.35809144  0.35809144 ...,  0.35809144  0.35809144\n",
      "   0.35809144]]\n",
      "[[ 0.31197325  0.31197325  0.31197325 ...,  0.31197325  0.31197325\n",
      "   0.31197325]\n",
      " [ 0.32844084  0.32844084  0.32844084 ...,  0.32844084  0.32844084\n",
      "   0.32844084]\n",
      " [ 0.32194109  0.32194109  0.32194109 ...,  0.32194109  0.32194109\n",
      "   0.32194109]\n",
      " ..., \n",
      " [ 0.30257914  0.30257914  0.30257914 ...,  0.30257914  0.30257914\n",
      "   0.30257914]\n",
      " [ 0.31134954  0.31134954  0.31134954 ...,  0.31134954  0.31134954\n",
      "   0.31134954]\n",
      " [ 0.34294418  0.34294418  0.34294418 ...,  0.34294418  0.34294418\n",
      "   0.34294418]]\n"
     ]
    },
    {
     "data": {
      "image/png": "[encoded data removed]",
      "text/plain": [
       "<matplotlib.figure.Figure at 0x7fd722738710>"
      ]
     },
     "metadata": {},
     "output_type": "display_data"
    }
   ],
   "source": [
    "user_features, item_features = matrix_factorization_SGD(valid_ratings, 30, 30)"
   ]
  },
  {
   "cell_type": "code",
   "execution_count": 73,
   "metadata": {
    "collapsed": false
   },
   "outputs": [],
   "source": [
    "np.save(\"data/features/user_features.npy\", user_features)\n",
    "np.save(\"data/features/item_features.npy\", item_features)"
   ]
  },
  {
   "cell_type": "code",
   "execution_count": null,
   "metadata": {
    "collapsed": true
   },
   "outputs": [],
   "source": [
    "#user_features = np.load(\"data/features/user_features.npy\")\n",
    "#item_features = np.load(\"data/features/item_features.npy\")"
   ]
  },
  {
   "cell_type": "code",
   "execution_count": 74,
   "metadata": {
    "collapsed": false
   },
   "outputs": [
    {
     "data": {
      "text/plain": [
       "0.99823073925911987"
      ]
     },
     "execution_count": 74,
     "metadata": {},
     "output_type": "execute_result"
    }
   ],
   "source": [
    "preds_mf = predict(valid_ratings, user_features, item_features)\n",
    "rmse = compute_rmse(valid_ratings, preds_mf)\n",
    "rmse"
   ]
  },
  {
   "cell_type": "code",
   "execution_count": 75,
   "metadata": {
    "collapsed": false
   },
   "outputs": [
    {
     "name": "stdout",
     "output_type": "stream",
     "text": [
      "number of items: 1000, number of users: 10000\n"
     ]
    }
   ],
   "source": [
    "from helpers import load_data, preprocess_data\n",
    "\n",
    "path_sample = \"data/sampleSubmission.csv\"\n",
    "submission_sample = load_data(path_sample)"
   ]
  },
  {
   "cell_type": "code",
   "execution_count": 76,
   "metadata": {
    "collapsed": true
   },
   "outputs": [],
   "source": [
    "submission_preds = predict(submission_sample, user_features, item_features)"
   ]
  },
  {
   "cell_type": "code",
   "execution_count": 77,
   "metadata": {
    "collapsed": false
   },
   "outputs": [],
   "source": [
    "import csv\n",
    "import sys\n",
    "from helpers import write_data\n",
    "\n",
    "path_submission = \"data/submission.csv\"\n",
    "write_data(path_submission, submission_preds)"
   ]
  },
  {
   "cell_type": "code",
   "execution_count": 78,
   "metadata": {
    "collapsed": false
   },
   "outputs": [
    {
     "data": {
      "text/html": [
       "<div>\n",
       "<table border=\"1\" class=\"dataframe\">\n",
       "  <thead>\n",
       "    <tr style=\"text-align: right;\">\n",
       "      <th></th>\n",
       "      <th>Item</th>\n",
       "      <th>User</th>\n",
       "      <th>Item mean based prediction</th>\n",
       "    </tr>\n",
       "  </thead>\n",
       "  <tbody>\n",
       "    <tr>\n",
       "      <th>0</th>\n",
       "      <td>0</td>\n",
       "      <td>43</td>\n",
       "      <td>3.379412</td>\n",
       "    </tr>\n",
       "    <tr>\n",
       "      <th>1</th>\n",
       "      <td>0</td>\n",
       "      <td>60</td>\n",
       "      <td>3.379412</td>\n",
       "    </tr>\n",
       "    <tr>\n",
       "      <th>2</th>\n",
       "      <td>0</td>\n",
       "      <td>66</td>\n",
       "      <td>3.379412</td>\n",
       "    </tr>\n",
       "    <tr>\n",
       "      <th>3</th>\n",
       "      <td>0</td>\n",
       "      <td>71</td>\n",
       "      <td>3.379412</td>\n",
       "    </tr>\n",
       "    <tr>\n",
       "      <th>4</th>\n",
       "      <td>0</td>\n",
       "      <td>85</td>\n",
       "      <td>3.379412</td>\n",
       "    </tr>\n",
       "  </tbody>\n",
       "</table>\n",
       "</div>"
      ],
      "text/plain": [
       "   Item  User  Item mean based prediction\n",
       "0     0    43                    3.379412\n",
       "1     0    60                    3.379412\n",
       "2     0    66                    3.379412\n",
       "3     0    71                    3.379412\n",
       "4     0    85                    3.379412"
      ]
     },
     "execution_count": 78,
     "metadata": {},
     "output_type": "execute_result"
    }
   ],
   "source": [
    "nz_row, nz_col = preds_item.nonzero()\n",
    "temp = []\n",
    "for i in range(0, len(nz_row)):\n",
    "    temp.append([nz_row[i], nz_col[i], preds_item[nz_row[i], nz_col[i]]])\n",
    "df_item = pd.DataFrame(temp)\n",
    "df_item.columns = [\"Item\", \"User\", \"Item mean based prediction\"]\n",
    "df_item.head()"
   ]
  },
  {
   "cell_type": "code",
   "execution_count": 79,
   "metadata": {
    "collapsed": false
   },
   "outputs": [
    {
     "data": {
      "text/html": [
       "<div>\n",
       "<table border=\"1\" class=\"dataframe\">\n",
       "  <thead>\n",
       "    <tr style=\"text-align: right;\">\n",
       "      <th></th>\n",
       "      <th>Item</th>\n",
       "      <th>User</th>\n",
       "      <th>User mean based prediction</th>\n",
       "    </tr>\n",
       "  </thead>\n",
       "  <tbody>\n",
       "    <tr>\n",
       "      <th>0</th>\n",
       "      <td>0</td>\n",
       "      <td>43</td>\n",
       "      <td>3.893701</td>\n",
       "    </tr>\n",
       "    <tr>\n",
       "      <th>1</th>\n",
       "      <td>0</td>\n",
       "      <td>60</td>\n",
       "      <td>4.233696</td>\n",
       "    </tr>\n",
       "    <tr>\n",
       "      <th>2</th>\n",
       "      <td>0</td>\n",
       "      <td>66</td>\n",
       "      <td>3.580645</td>\n",
       "    </tr>\n",
       "    <tr>\n",
       "      <th>3</th>\n",
       "      <td>0</td>\n",
       "      <td>71</td>\n",
       "      <td>3.861423</td>\n",
       "    </tr>\n",
       "    <tr>\n",
       "      <th>4</th>\n",
       "      <td>0</td>\n",
       "      <td>85</td>\n",
       "      <td>4.103321</td>\n",
       "    </tr>\n",
       "  </tbody>\n",
       "</table>\n",
       "</div>"
      ],
      "text/plain": [
       "   Item  User  User mean based prediction\n",
       "0     0    43                    3.893701\n",
       "1     0    60                    4.233696\n",
       "2     0    66                    3.580645\n",
       "3     0    71                    3.861423\n",
       "4     0    85                    4.103321"
      ]
     },
     "execution_count": 79,
     "metadata": {},
     "output_type": "execute_result"
    }
   ],
   "source": [
    "nz_row, nz_col = preds_user.nonzero()\n",
    "temp = []\n",
    "for i in range(0, len(nz_row)):\n",
    "    temp.append([nz_row[i], nz_col[i], preds_user[nz_row[i], nz_col[i]]])\n",
    "df_user = pd.DataFrame(temp)\n",
    "df_user.columns = [\"Item\", \"User\", \"User mean based prediction\"]\n",
    "df_user.head()"
   ]
  },
  {
   "cell_type": "code",
   "execution_count": 80,
   "metadata": {
    "collapsed": false
   },
   "outputs": [
    {
     "data": {
      "text/html": [
       "<div>\n",
       "<table border=\"1\" class=\"dataframe\">\n",
       "  <thead>\n",
       "    <tr style=\"text-align: right;\">\n",
       "      <th></th>\n",
       "      <th>Item</th>\n",
       "      <th>User</th>\n",
       "      <th>MF prediction</th>\n",
       "    </tr>\n",
       "  </thead>\n",
       "  <tbody>\n",
       "    <tr>\n",
       "      <th>0</th>\n",
       "      <td>0</td>\n",
       "      <td>43</td>\n",
       "      <td>3.471821</td>\n",
       "    </tr>\n",
       "    <tr>\n",
       "      <th>1</th>\n",
       "      <td>0</td>\n",
       "      <td>60</td>\n",
       "      <td>3.595781</td>\n",
       "    </tr>\n",
       "    <tr>\n",
       "      <th>2</th>\n",
       "      <td>0</td>\n",
       "      <td>66</td>\n",
       "      <td>3.246985</td>\n",
       "    </tr>\n",
       "    <tr>\n",
       "      <th>3</th>\n",
       "      <td>0</td>\n",
       "      <td>71</td>\n",
       "      <td>3.427019</td>\n",
       "    </tr>\n",
       "    <tr>\n",
       "      <th>4</th>\n",
       "      <td>0</td>\n",
       "      <td>85</td>\n",
       "      <td>3.602850</td>\n",
       "    </tr>\n",
       "  </tbody>\n",
       "</table>\n",
       "</div>"
      ],
      "text/plain": [
       "   Item  User  MF prediction\n",
       "0     0    43       3.471821\n",
       "1     0    60       3.595781\n",
       "2     0    66       3.246985\n",
       "3     0    71       3.427019\n",
       "4     0    85       3.602850"
      ]
     },
     "execution_count": 80,
     "metadata": {},
     "output_type": "execute_result"
    }
   ],
   "source": [
    "nz_row, nz_col = preds_mf.nonzero()\n",
    "temp = []\n",
    "for i in range(0, len(nz_row)):\n",
    "    temp.append([nz_row[i], nz_col[i], preds_mf[nz_row[i], nz_col[i]]])\n",
    "df_mf = pd.DataFrame(temp)\n",
    "df_mf.columns = [\"Item\", \"User\", \"MF prediction\"]\n",
    "df_mf.head()"
   ]
  },
  {
   "cell_type": "code",
   "execution_count": 81,
   "metadata": {
    "collapsed": false
   },
   "outputs": [
    {
     "data": {
      "text/html": [
       "<div>\n",
       "<table border=\"1\" class=\"dataframe\">\n",
       "  <thead>\n",
       "    <tr style=\"text-align: right;\">\n",
       "      <th></th>\n",
       "      <th>Item</th>\n",
       "      <th>User</th>\n",
       "      <th>Real values</th>\n",
       "    </tr>\n",
       "  </thead>\n",
       "  <tbody>\n",
       "    <tr>\n",
       "      <th>0</th>\n",
       "      <td>0</td>\n",
       "      <td>43</td>\n",
       "      <td>4.0</td>\n",
       "    </tr>\n",
       "    <tr>\n",
       "      <th>1</th>\n",
       "      <td>0</td>\n",
       "      <td>60</td>\n",
       "      <td>3.0</td>\n",
       "    </tr>\n",
       "    <tr>\n",
       "      <th>2</th>\n",
       "      <td>0</td>\n",
       "      <td>66</td>\n",
       "      <td>4.0</td>\n",
       "    </tr>\n",
       "    <tr>\n",
       "      <th>3</th>\n",
       "      <td>0</td>\n",
       "      <td>71</td>\n",
       "      <td>3.0</td>\n",
       "    </tr>\n",
       "    <tr>\n",
       "      <th>4</th>\n",
       "      <td>0</td>\n",
       "      <td>85</td>\n",
       "      <td>5.0</td>\n",
       "    </tr>\n",
       "  </tbody>\n",
       "</table>\n",
       "</div>"
      ],
      "text/plain": [
       "   Item  User  Real values\n",
       "0     0    43          4.0\n",
       "1     0    60          3.0\n",
       "2     0    66          4.0\n",
       "3     0    71          3.0\n",
       "4     0    85          5.0"
      ]
     },
     "execution_count": 81,
     "metadata": {},
     "output_type": "execute_result"
    }
   ],
   "source": [
    "nz_row, nz_col = valid_ratings.nonzero()\n",
    "temp = []\n",
    "for i in range(0, len(nz_row)):\n",
    "    temp.append([nz_row[i], nz_col[i], valid_ratings[nz_row[i], nz_col[i]]])\n",
    "df_real = pd.DataFrame(temp)\n",
    "df_real.columns = [\"Item\", \"User\", \"Real values\"]\n",
    "df_real.head()"
   ]
  },
  {
   "cell_type": "code",
   "execution_count": 82,
   "metadata": {
    "collapsed": false
   },
   "outputs": [
    {
     "data": {
      "text/html": [
       "<div>\n",
       "<table border=\"1\" class=\"dataframe\">\n",
       "  <thead>\n",
       "    <tr style=\"text-align: right;\">\n",
       "      <th></th>\n",
       "      <th>Item</th>\n",
       "      <th>User</th>\n",
       "      <th>Real values</th>\n",
       "      <th>item diff</th>\n",
       "      <th>user diff</th>\n",
       "      <th>mf diff</th>\n",
       "    </tr>\n",
       "  </thead>\n",
       "  <tbody>\n",
       "    <tr>\n",
       "      <th>0</th>\n",
       "      <td>0</td>\n",
       "      <td>43</td>\n",
       "      <td>4.0</td>\n",
       "      <td>0.385130</td>\n",
       "      <td>0.011300</td>\n",
       "      <td>0.278973</td>\n",
       "    </tr>\n",
       "    <tr>\n",
       "      <th>1</th>\n",
       "      <td>0</td>\n",
       "      <td>60</td>\n",
       "      <td>3.0</td>\n",
       "      <td>0.143953</td>\n",
       "      <td>1.522005</td>\n",
       "      <td>0.354955</td>\n",
       "    </tr>\n",
       "    <tr>\n",
       "      <th>2</th>\n",
       "      <td>0</td>\n",
       "      <td>66</td>\n",
       "      <td>4.0</td>\n",
       "      <td>0.385130</td>\n",
       "      <td>0.175858</td>\n",
       "      <td>0.567031</td>\n",
       "    </tr>\n",
       "    <tr>\n",
       "      <th>3</th>\n",
       "      <td>0</td>\n",
       "      <td>71</td>\n",
       "      <td>3.0</td>\n",
       "      <td>0.143953</td>\n",
       "      <td>0.742050</td>\n",
       "      <td>0.182345</td>\n",
       "    </tr>\n",
       "    <tr>\n",
       "      <th>4</th>\n",
       "      <td>0</td>\n",
       "      <td>85</td>\n",
       "      <td>5.0</td>\n",
       "      <td>2.626306</td>\n",
       "      <td>0.804033</td>\n",
       "      <td>1.952027</td>\n",
       "    </tr>\n",
       "  </tbody>\n",
       "</table>\n",
       "</div>"
      ],
      "text/plain": [
       "   Item  User  Real values  item diff  user diff   mf diff\n",
       "0     0    43          4.0   0.385130   0.011300  0.278973\n",
       "1     0    60          3.0   0.143953   1.522005  0.354955\n",
       "2     0    66          4.0   0.385130   0.175858  0.567031\n",
       "3     0    71          3.0   0.143953   0.742050  0.182345\n",
       "4     0    85          5.0   2.626306   0.804033  1.952027"
      ]
     },
     "execution_count": 82,
     "metadata": {},
     "output_type": "execute_result"
    }
   ],
   "source": [
    "df_all = df_real.copy()\n",
    "df_all[\"item diff\"] = np.square(df_real[\"Real values\"] - df_item[\"Item mean based prediction\"])\n",
    "df_all[\"user diff\"] = np.square(df_real[\"Real values\"] - df_user[\"User mean based prediction\"])\n",
    "df_all[\"mf diff\"] = np.square(df_real[\"Real values\"] - df_mf[\"MF prediction\"])\n",
    "df_all.head()"
   ]
  },
  {
   "cell_type": "code",
   "execution_count": 83,
   "metadata": {
    "collapsed": false
   },
   "outputs": [
    {
     "data": {
      "text/html": [
       "<div>\n",
       "<table border=\"1\" class=\"dataframe\">\n",
       "  <thead>\n",
       "    <tr style=\"text-align: right;\">\n",
       "      <th></th>\n",
       "      <th>Item</th>\n",
       "      <th>User</th>\n",
       "      <th>Real values</th>\n",
       "      <th>item diff</th>\n",
       "      <th>user diff</th>\n",
       "      <th>mf diff</th>\n",
       "      <th>item nb rating</th>\n",
       "      <th>user nb rating</th>\n",
       "    </tr>\n",
       "  </thead>\n",
       "  <tbody>\n",
       "    <tr>\n",
       "      <th>0</th>\n",
       "      <td>0</td>\n",
       "      <td>43</td>\n",
       "      <td>4.0</td>\n",
       "      <td>0.385130</td>\n",
       "      <td>0.011300</td>\n",
       "      <td>0.278973</td>\n",
       "      <td>340</td>\n",
       "      <td>254</td>\n",
       "    </tr>\n",
       "    <tr>\n",
       "      <th>1</th>\n",
       "      <td>0</td>\n",
       "      <td>60</td>\n",
       "      <td>3.0</td>\n",
       "      <td>0.143953</td>\n",
       "      <td>1.522005</td>\n",
       "      <td>0.354955</td>\n",
       "      <td>340</td>\n",
       "      <td>184</td>\n",
       "    </tr>\n",
       "    <tr>\n",
       "      <th>2</th>\n",
       "      <td>0</td>\n",
       "      <td>66</td>\n",
       "      <td>4.0</td>\n",
       "      <td>0.385130</td>\n",
       "      <td>0.175858</td>\n",
       "      <td>0.567031</td>\n",
       "      <td>340</td>\n",
       "      <td>62</td>\n",
       "    </tr>\n",
       "    <tr>\n",
       "      <th>3</th>\n",
       "      <td>0</td>\n",
       "      <td>71</td>\n",
       "      <td>3.0</td>\n",
       "      <td>0.143953</td>\n",
       "      <td>0.742050</td>\n",
       "      <td>0.182345</td>\n",
       "      <td>340</td>\n",
       "      <td>267</td>\n",
       "    </tr>\n",
       "    <tr>\n",
       "      <th>4</th>\n",
       "      <td>0</td>\n",
       "      <td>85</td>\n",
       "      <td>5.0</td>\n",
       "      <td>2.626306</td>\n",
       "      <td>0.804033</td>\n",
       "      <td>1.952027</td>\n",
       "      <td>340</td>\n",
       "      <td>271</td>\n",
       "    </tr>\n",
       "  </tbody>\n",
       "</table>\n",
       "</div>"
      ],
      "text/plain": [
       "   Item  User  Real values  item diff  user diff   mf diff  item nb rating  \\\n",
       "0     0    43          4.0   0.385130   0.011300  0.278973             340   \n",
       "1     0    60          3.0   0.143953   1.522005  0.354955             340   \n",
       "2     0    66          4.0   0.385130   0.175858  0.567031             340   \n",
       "3     0    71          3.0   0.143953   0.742050  0.182345             340   \n",
       "4     0    85          5.0   2.626306   0.804033  1.952027             340   \n",
       "\n",
       "   user nb rating  \n",
       "0             254  \n",
       "1             184  \n",
       "2              62  \n",
       "3             267  \n",
       "4             271  "
      ]
     },
     "execution_count": 83,
     "metadata": {},
     "output_type": "execute_result"
    }
   ],
   "source": [
    "df_all[\"item nb rating\"] =  df_all.groupby([\"Item\"])['Real values'].transform('count')\n",
    "df_all[\"user nb rating\"] =  df_all.groupby([\"User\"])['Real values'].transform('count')\n",
    "df_all.head()"
   ]
  },
  {
   "cell_type": "code",
   "execution_count": 115,
   "metadata": {
    "collapsed": false
   },
   "outputs": [
    {
     "data": {
      "text/html": [
       "<div>\n",
       "<table border=\"1\" class=\"dataframe\">\n",
       "  <thead>\n",
       "    <tr style=\"text-align: right;\">\n",
       "      <th></th>\n",
       "      <th>Real values</th>\n",
       "      <th>item nb rating</th>\n",
       "      <th>user nb rating</th>\n",
       "    </tr>\n",
       "  </thead>\n",
       "  <tbody>\n",
       "    <tr>\n",
       "      <th>count</th>\n",
       "      <td>360067.000000</td>\n",
       "      <td>360067.000000</td>\n",
       "      <td>360067.000000</td>\n",
       "    </tr>\n",
       "    <tr>\n",
       "      <th>mean</th>\n",
       "      <td>3.848806</td>\n",
       "      <td>1934.190220</td>\n",
       "      <td>157.541047</td>\n",
       "    </tr>\n",
       "    <tr>\n",
       "      <th>std</th>\n",
       "      <td>1.153616</td>\n",
       "      <td>1093.069454</td>\n",
       "      <td>76.654691</td>\n",
       "    </tr>\n",
       "    <tr>\n",
       "      <th>min</th>\n",
       "      <td>1.000000</td>\n",
       "      <td>8.000000</td>\n",
       "      <td>3.000000</td>\n",
       "    </tr>\n",
       "    <tr>\n",
       "      <th>25%</th>\n",
       "      <td>3.000000</td>\n",
       "      <td>1029.000000</td>\n",
       "      <td>100.000000</td>\n",
       "    </tr>\n",
       "    <tr>\n",
       "      <th>50%</th>\n",
       "      <td>4.000000</td>\n",
       "      <td>1782.000000</td>\n",
       "      <td>145.000000</td>\n",
       "    </tr>\n",
       "    <tr>\n",
       "      <th>75%</th>\n",
       "      <td>5.000000</td>\n",
       "      <td>2697.000000</td>\n",
       "      <td>203.000000</td>\n",
       "    </tr>\n",
       "    <tr>\n",
       "      <th>max</th>\n",
       "      <td>5.000000</td>\n",
       "      <td>4590.000000</td>\n",
       "      <td>522.000000</td>\n",
       "    </tr>\n",
       "  </tbody>\n",
       "</table>\n",
       "</div>"
      ],
      "text/plain": [
       "         Real values  item nb rating  user nb rating\n",
       "count  360067.000000   360067.000000   360067.000000\n",
       "mean        3.848806     1934.190220      157.541047\n",
       "std         1.153616     1093.069454       76.654691\n",
       "min         1.000000        8.000000        3.000000\n",
       "25%         3.000000     1029.000000      100.000000\n",
       "50%         4.000000     1782.000000      145.000000\n",
       "75%         5.000000     2697.000000      203.000000\n",
       "max         5.000000     4590.000000      522.000000"
      ]
     },
     "execution_count": 115,
     "metadata": {},
     "output_type": "execute_result"
    }
   ],
   "source": [
    "df_item_best = df_all[(df_all[\"item diff\"] < df_all[\"user diff\"]) & (df_all[\"item diff\"] < df_all[\"mf diff\"])]\n",
    "df_item_best[[\"Real values\", \"item nb rating\", \"user nb rating\"]].describe()"
   ]
  },
  {
   "cell_type": "code",
   "execution_count": 116,
   "metadata": {
    "collapsed": false
   },
   "outputs": [
    {
     "data": {
      "text/html": [
       "<div>\n",
       "<table border=\"1\" class=\"dataframe\">\n",
       "  <thead>\n",
       "    <tr style=\"text-align: right;\">\n",
       "      <th></th>\n",
       "      <th>Real values</th>\n",
       "      <th>item nb rating</th>\n",
       "      <th>user nb rating</th>\n",
       "    </tr>\n",
       "  </thead>\n",
       "  <tbody>\n",
       "    <tr>\n",
       "      <th>count</th>\n",
       "      <td>447548.000000</td>\n",
       "      <td>447548.000000</td>\n",
       "      <td>447548.000000</td>\n",
       "    </tr>\n",
       "    <tr>\n",
       "      <th>mean</th>\n",
       "      <td>3.830407</td>\n",
       "      <td>1837.262097</td>\n",
       "      <td>151.094513</td>\n",
       "    </tr>\n",
       "    <tr>\n",
       "      <th>std</th>\n",
       "      <td>0.995290</td>\n",
       "      <td>1025.427902</td>\n",
       "      <td>77.434979</td>\n",
       "    </tr>\n",
       "    <tr>\n",
       "      <th>min</th>\n",
       "      <td>1.000000</td>\n",
       "      <td>8.000000</td>\n",
       "      <td>5.000000</td>\n",
       "    </tr>\n",
       "    <tr>\n",
       "      <th>25%</th>\n",
       "      <td>3.000000</td>\n",
       "      <td>987.000000</td>\n",
       "      <td>94.000000</td>\n",
       "    </tr>\n",
       "    <tr>\n",
       "      <th>50%</th>\n",
       "      <td>4.000000</td>\n",
       "      <td>1657.000000</td>\n",
       "      <td>138.000000</td>\n",
       "    </tr>\n",
       "    <tr>\n",
       "      <th>75%</th>\n",
       "      <td>5.000000</td>\n",
       "      <td>2568.000000</td>\n",
       "      <td>195.000000</td>\n",
       "    </tr>\n",
       "    <tr>\n",
       "      <th>max</th>\n",
       "      <td>5.000000</td>\n",
       "      <td>4590.000000</td>\n",
       "      <td>522.000000</td>\n",
       "    </tr>\n",
       "  </tbody>\n",
       "</table>\n",
       "</div>"
      ],
      "text/plain": [
       "         Real values  item nb rating  user nb rating\n",
       "count  447548.000000   447548.000000   447548.000000\n",
       "mean        3.830407     1837.262097      151.094513\n",
       "std         0.995290     1025.427902       77.434979\n",
       "min         1.000000        8.000000        5.000000\n",
       "25%         3.000000      987.000000       94.000000\n",
       "50%         4.000000     1657.000000      138.000000\n",
       "75%         5.000000     2568.000000      195.000000\n",
       "max         5.000000     4590.000000      522.000000"
      ]
     },
     "execution_count": 116,
     "metadata": {},
     "output_type": "execute_result"
    }
   ],
   "source": [
    "df_user_best = df_all[(df_all[\"user diff\"] < df_all[\"item diff\"]) & (df_all[\"user diff\"] < df_all[\"mf diff\"])]\n",
    "df_user_best[[\"Real values\", \"item nb rating\", \"user nb rating\"]].describe()"
   ]
  },
  {
   "cell_type": "code",
   "execution_count": 117,
   "metadata": {
    "collapsed": false
   },
   "outputs": [
    {
     "data": {
      "text/html": [
       "<div>\n",
       "<table border=\"1\" class=\"dataframe\">\n",
       "  <thead>\n",
       "    <tr style=\"text-align: right;\">\n",
       "      <th></th>\n",
       "      <th>Real values</th>\n",
       "      <th>item nb rating</th>\n",
       "      <th>user nb rating</th>\n",
       "    </tr>\n",
       "  </thead>\n",
       "  <tbody>\n",
       "    <tr>\n",
       "      <th>count</th>\n",
       "      <td>369298.000000</td>\n",
       "      <td>369298.000000</td>\n",
       "      <td>369298.00000</td>\n",
       "    </tr>\n",
       "    <tr>\n",
       "      <th>mean</th>\n",
       "      <td>3.898123</td>\n",
       "      <td>2095.544249</td>\n",
       "      <td>163.20158</td>\n",
       "    </tr>\n",
       "    <tr>\n",
       "      <th>std</th>\n",
       "      <td>1.220779</td>\n",
       "      <td>1121.905365</td>\n",
       "      <td>79.82078</td>\n",
       "    </tr>\n",
       "    <tr>\n",
       "      <th>min</th>\n",
       "      <td>1.000000</td>\n",
       "      <td>8.000000</td>\n",
       "      <td>3.00000</td>\n",
       "    </tr>\n",
       "    <tr>\n",
       "      <th>25%</th>\n",
       "      <td>3.000000</td>\n",
       "      <td>1128.000000</td>\n",
       "      <td>104.00000</td>\n",
       "    </tr>\n",
       "    <tr>\n",
       "      <th>50%</th>\n",
       "      <td>4.000000</td>\n",
       "      <td>2046.000000</td>\n",
       "      <td>150.00000</td>\n",
       "    </tr>\n",
       "    <tr>\n",
       "      <th>75%</th>\n",
       "      <td>5.000000</td>\n",
       "      <td>3001.000000</td>\n",
       "      <td>209.00000</td>\n",
       "    </tr>\n",
       "    <tr>\n",
       "      <th>max</th>\n",
       "      <td>5.000000</td>\n",
       "      <td>4590.000000</td>\n",
       "      <td>522.00000</td>\n",
       "    </tr>\n",
       "  </tbody>\n",
       "</table>\n",
       "</div>"
      ],
      "text/plain": [
       "         Real values  item nb rating  user nb rating\n",
       "count  369298.000000   369298.000000    369298.00000\n",
       "mean        3.898123     2095.544249       163.20158\n",
       "std         1.220779     1121.905365        79.82078\n",
       "min         1.000000        8.000000         3.00000\n",
       "25%         3.000000     1128.000000       104.00000\n",
       "50%         4.000000     2046.000000       150.00000\n",
       "75%         5.000000     3001.000000       209.00000\n",
       "max         5.000000     4590.000000       522.00000"
      ]
     },
     "execution_count": 117,
     "metadata": {},
     "output_type": "execute_result"
    }
   ],
   "source": [
    "df_mf_best = df_all[(df_all[\"mf diff\"] < df_all[\"user diff\"]) & (df_all[\"mf diff\"] < df_all[\"item diff\"])]\n",
    "df_mf_best[[\"Real values\", \"item nb rating\", \"user nb rating\"]].describe()"
   ]
  },
  {
   "cell_type": "code",
   "execution_count": 119,
   "metadata": {
    "collapsed": false
   },
   "outputs": [
    {
     "data": {
      "text/html": [
       "<div>\n",
       "<table border=\"1\" class=\"dataframe\">\n",
       "  <thead>\n",
       "    <tr style=\"text-align: right;\">\n",
       "      <th></th>\n",
       "      <th>Real values</th>\n",
       "      <th>item nb rating</th>\n",
       "      <th>user nb rating</th>\n",
       "    </tr>\n",
       "  </thead>\n",
       "  <tbody>\n",
       "    <tr>\n",
       "      <th>count</th>\n",
       "      <td>0.825158</td>\n",
       "      <td>0.825158</td>\n",
       "      <td>0.825158</td>\n",
       "    </tr>\n",
       "    <tr>\n",
       "      <th>mean</th>\n",
       "      <td>1.017679</td>\n",
       "      <td>1.140580</td>\n",
       "      <td>1.080129</td>\n",
       "    </tr>\n",
       "    <tr>\n",
       "      <th>std</th>\n",
       "      <td>1.226557</td>\n",
       "      <td>1.094085</td>\n",
       "      <td>1.030810</td>\n",
       "    </tr>\n",
       "    <tr>\n",
       "      <th>min</th>\n",
       "      <td>1.000000</td>\n",
       "      <td>1.000000</td>\n",
       "      <td>0.600000</td>\n",
       "    </tr>\n",
       "    <tr>\n",
       "      <th>25%</th>\n",
       "      <td>1.000000</td>\n",
       "      <td>1.142857</td>\n",
       "      <td>1.106383</td>\n",
       "    </tr>\n",
       "    <tr>\n",
       "      <th>50%</th>\n",
       "      <td>1.000000</td>\n",
       "      <td>1.234762</td>\n",
       "      <td>1.086957</td>\n",
       "    </tr>\n",
       "    <tr>\n",
       "      <th>75%</th>\n",
       "      <td>1.000000</td>\n",
       "      <td>1.168614</td>\n",
       "      <td>1.071795</td>\n",
       "    </tr>\n",
       "    <tr>\n",
       "      <th>max</th>\n",
       "      <td>1.000000</td>\n",
       "      <td>1.000000</td>\n",
       "      <td>1.000000</td>\n",
       "    </tr>\n",
       "  </tbody>\n",
       "</table>\n",
       "</div>"
      ],
      "text/plain": [
       "       Real values  item nb rating  user nb rating\n",
       "count     0.825158        0.825158        0.825158\n",
       "mean      1.017679        1.140580        1.080129\n",
       "std       1.226557        1.094085        1.030810\n",
       "min       1.000000        1.000000        0.600000\n",
       "25%       1.000000        1.142857        1.106383\n",
       "50%       1.000000        1.234762        1.086957\n",
       "75%       1.000000        1.168614        1.071795\n",
       "max       1.000000        1.000000        1.000000"
      ]
     },
     "execution_count": 119,
     "metadata": {},
     "output_type": "execute_result"
    }
   ],
   "source": [
    "df_mf_best[[\"Real values\", \"item nb rating\", \"user nb rating\"]].describe() / df_user_best[[\"Real values\", \"item nb rating\", \"user nb rating\"]].describe()"
   ]
  },
  {
   "cell_type": "code",
   "execution_count": 120,
   "metadata": {
    "collapsed": false
   },
   "outputs": [
    {
     "data": {
      "text/html": [
       "<div>\n",
       "<table border=\"1\" class=\"dataframe\">\n",
       "  <thead>\n",
       "    <tr style=\"text-align: right;\">\n",
       "      <th></th>\n",
       "      <th>Real values</th>\n",
       "      <th>item nb rating</th>\n",
       "      <th>user nb rating</th>\n",
       "    </tr>\n",
       "  </thead>\n",
       "  <tbody>\n",
       "    <tr>\n",
       "      <th>count</th>\n",
       "      <td>1.025637</td>\n",
       "      <td>1.025637</td>\n",
       "      <td>1.025637</td>\n",
       "    </tr>\n",
       "    <tr>\n",
       "      <th>mean</th>\n",
       "      <td>1.012814</td>\n",
       "      <td>1.083422</td>\n",
       "      <td>1.035931</td>\n",
       "    </tr>\n",
       "    <tr>\n",
       "      <th>std</th>\n",
       "      <td>1.058219</td>\n",
       "      <td>1.026381</td>\n",
       "      <td>1.041303</td>\n",
       "    </tr>\n",
       "    <tr>\n",
       "      <th>min</th>\n",
       "      <td>1.000000</td>\n",
       "      <td>1.000000</td>\n",
       "      <td>1.000000</td>\n",
       "    </tr>\n",
       "    <tr>\n",
       "      <th>25%</th>\n",
       "      <td>1.000000</td>\n",
       "      <td>1.096210</td>\n",
       "      <td>1.040000</td>\n",
       "    </tr>\n",
       "    <tr>\n",
       "      <th>50%</th>\n",
       "      <td>1.000000</td>\n",
       "      <td>1.148148</td>\n",
       "      <td>1.034483</td>\n",
       "    </tr>\n",
       "    <tr>\n",
       "      <th>75%</th>\n",
       "      <td>1.000000</td>\n",
       "      <td>1.112718</td>\n",
       "      <td>1.029557</td>\n",
       "    </tr>\n",
       "    <tr>\n",
       "      <th>max</th>\n",
       "      <td>1.000000</td>\n",
       "      <td>1.000000</td>\n",
       "      <td>1.000000</td>\n",
       "    </tr>\n",
       "  </tbody>\n",
       "</table>\n",
       "</div>"
      ],
      "text/plain": [
       "       Real values  item nb rating  user nb rating\n",
       "count     1.025637        1.025637        1.025637\n",
       "mean      1.012814        1.083422        1.035931\n",
       "std       1.058219        1.026381        1.041303\n",
       "min       1.000000        1.000000        1.000000\n",
       "25%       1.000000        1.096210        1.040000\n",
       "50%       1.000000        1.148148        1.034483\n",
       "75%       1.000000        1.112718        1.029557\n",
       "max       1.000000        1.000000        1.000000"
      ]
     },
     "execution_count": 120,
     "metadata": {},
     "output_type": "execute_result"
    }
   ],
   "source": [
    "df_mf_best[[\"Real values\", \"item nb rating\", \"user nb rating\"]].describe() / df_item_best[[\"Real values\", \"item nb rating\", \"user nb rating\"]].describe()"
   ]
  },
  {
   "cell_type": "code",
   "execution_count": null,
   "metadata": {
    "collapsed": true
   },
   "outputs": [],
   "source": []
  },
  {
   "cell_type": "code",
   "execution_count": 141,
   "metadata": {
    "collapsed": false
   },
   "outputs": [
    {
     "data": {
      "text/html": [
       "<div>\n",
       "<table border=\"1\" class=\"dataframe\">\n",
       "  <thead>\n",
       "    <tr style=\"text-align: right;\">\n",
       "      <th></th>\n",
       "      <th>Item</th>\n",
       "      <th>mf diff</th>\n",
       "      <th>item diff</th>\n",
       "      <th>user diff</th>\n",
       "      <th>item nb rating</th>\n",
       "    </tr>\n",
       "  </thead>\n",
       "  <tbody>\n",
       "    <tr>\n",
       "      <th>954</th>\n",
       "      <td>954</td>\n",
       "      <td>3.293503</td>\n",
       "      <td>0.984375</td>\n",
       "      <td>3.074152</td>\n",
       "      <td>8</td>\n",
       "    </tr>\n",
       "    <tr>\n",
       "      <th>927</th>\n",
       "      <td>927</td>\n",
       "      <td>3.949321</td>\n",
       "      <td>1.534626</td>\n",
       "      <td>4.042670</td>\n",
       "      <td>19</td>\n",
       "    </tr>\n",
       "    <tr>\n",
       "      <th>783</th>\n",
       "      <td>783</td>\n",
       "      <td>2.357672</td>\n",
       "      <td>1.673525</td>\n",
       "      <td>2.502025</td>\n",
       "      <td>27</td>\n",
       "    </tr>\n",
       "    <tr>\n",
       "      <th>467</th>\n",
       "      <td>467</td>\n",
       "      <td>1.402044</td>\n",
       "      <td>1.212620</td>\n",
       "      <td>1.439705</td>\n",
       "      <td>27</td>\n",
       "    </tr>\n",
       "    <tr>\n",
       "      <th>945</th>\n",
       "      <td>945</td>\n",
       "      <td>1.822445</td>\n",
       "      <td>1.076217</td>\n",
       "      <td>1.951145</td>\n",
       "      <td>33</td>\n",
       "    </tr>\n",
       "  </tbody>\n",
       "</table>\n",
       "</div>"
      ],
      "text/plain": [
       "     Item   mf diff  item diff  user diff  item nb rating\n",
       "954   954  3.293503   0.984375   3.074152               8\n",
       "927   927  3.949321   1.534626   4.042670              19\n",
       "783   783  2.357672   1.673525   2.502025              27\n",
       "467   467  1.402044   1.212620   1.439705              27\n",
       "945   945  1.822445   1.076217   1.951145              33"
      ]
     },
     "execution_count": 141,
     "metadata": {},
     "output_type": "execute_result"
    }
   ],
   "source": [
    "item_grouped = df_all.copy()\n",
    "item_grouped = item_grouped.groupby(\"Item\").agg({'item nb rating' : np.mean,'item diff' : np.mean, 'user diff' : np.mean, 'mf diff' : np.mean,})[[\"mf diff\", \"item diff\", \"user diff\", \"item nb rating\"]].reset_index()\n",
    "item_grouped = item_grouped.sort_values([\"item nb rating\"])\n",
    "item_grouped.head()"
   ]
  },
  {
   "cell_type": "code",
   "execution_count": 177,
   "metadata": {
    "collapsed": false
   },
   "outputs": [
    {
     "data": {
      "image/png": "[encoded data removed]",
      "text/plain": [
       "<matplotlib.figure.Figure at 0x7f0c41ea9cc0>"
      ]
     },
     "metadata": {},
     "output_type": "display_data"
    }
   ],
   "source": [
    "fig = plt.figure(figsize=(16, 6))\n",
    "ax1 = fig.add_subplot(1, 3, 1)\n",
    "ax2 = fig.add_subplot(1, 3, 2)\n",
    "ax3 = fig.add_subplot(1, 3, 3)\n",
    "mf_diff = ax1.scatter(item_grouped[\"item nb rating\"], item_grouped[\"mf diff\"], color='b', s=4, marker='o', alpha=.3)\n",
    "item_diff = ax2.scatter(item_grouped[\"item nb rating\"], item_grouped[\"item diff\"], color='r', s=4, marker='o', alpha=.3)\n",
    "user_diff = ax3.scatter(item_grouped[\"item nb rating\"], item_grouped[\"user diff\"], color='g', s=4, marker='o', alpha=.3)\n",
    "ax1.set_xlabel(\"Nb of times item is rated\")\n",
    "ax1.set_ylabel(\"Mean squared difference with true value\")\n",
    "ax2.set_xlabel(\"Nb of times item is rated\")\n",
    "ax2.set_ylabel(\"Mean squared difference with true value\")\n",
    "ax3.set_xlabel(\"Nb of times item is rated\")\n",
    "ax3.set_ylabel(\"Mean squared difference with true value\")\n",
    "ax1.axis([0, 5000, 0, 5])\n",
    "ax2.axis([0, 5000, 0, 5])\n",
    "ax3.axis([0, 5000, 0, 5])\n",
    "\n",
    "lgnd = fig.legend((mf_diff, item_diff, user_diff),\n",
    "           ('MF difference', 'Item based mean difference', 'User base mean difference'),\n",
    "           scatterpoints=5,\n",
    "           loc='upper center',\n",
    "           ncol=3,\n",
    "           fontsize=16)\n",
    "\n",
    "lgnd.legendHandles[0]._sizes = [15]\n",
    "lgnd.legendHandles[1]._sizes = [15]\n",
    "lgnd.legendHandles[2]._sizes = [15]\n",
    "lgnd.legendHandles[0].set_alpha(0.8)\n",
    "lgnd.legendHandles[1].set_alpha(0.8)\n",
    "lgnd.legendHandles[2].set_alpha(0.8)"
   ]
  },
  {
   "cell_type": "code",
   "execution_count": 158,
   "metadata": {
    "collapsed": false
   },
   "outputs": [
    {
     "data": {
      "text/html": [
       "<div>\n",
       "<table border=\"1\" class=\"dataframe\">\n",
       "  <thead>\n",
       "    <tr style=\"text-align: right;\">\n",
       "      <th></th>\n",
       "      <th>User</th>\n",
       "      <th>mf diff</th>\n",
       "      <th>item diff</th>\n",
       "      <th>user diff</th>\n",
       "      <th>user nb rating</th>\n",
       "    </tr>\n",
       "  </thead>\n",
       "  <tbody>\n",
       "    <tr>\n",
       "      <th>480</th>\n",
       "      <td>480</td>\n",
       "      <td>0.132997</td>\n",
       "      <td>0.145100</td>\n",
       "      <td>0.888889</td>\n",
       "      <td>3</td>\n",
       "    </tr>\n",
       "    <tr>\n",
       "      <th>5787</th>\n",
       "      <td>5787</td>\n",
       "      <td>0.529785</td>\n",
       "      <td>0.538475</td>\n",
       "      <td>0.560000</td>\n",
       "      <td>5</td>\n",
       "    </tr>\n",
       "    <tr>\n",
       "      <th>3677</th>\n",
       "      <td>3677</td>\n",
       "      <td>0.539269</td>\n",
       "      <td>0.574169</td>\n",
       "      <td>0.805556</td>\n",
       "      <td>6</td>\n",
       "    </tr>\n",
       "    <tr>\n",
       "      <th>3270</th>\n",
       "      <td>3270</td>\n",
       "      <td>0.756613</td>\n",
       "      <td>0.786954</td>\n",
       "      <td>0.571429</td>\n",
       "      <td>7</td>\n",
       "    </tr>\n",
       "    <tr>\n",
       "      <th>2841</th>\n",
       "      <td>2841</td>\n",
       "      <td>1.110559</td>\n",
       "      <td>1.118060</td>\n",
       "      <td>1.673469</td>\n",
       "      <td>7</td>\n",
       "    </tr>\n",
       "  </tbody>\n",
       "</table>\n",
       "</div>"
      ],
      "text/plain": [
       "      User   mf diff  item diff  user diff  user nb rating\n",
       "480    480  0.132997   0.145100   0.888889               3\n",
       "5787  5787  0.529785   0.538475   0.560000               5\n",
       "3677  3677  0.539269   0.574169   0.805556               6\n",
       "3270  3270  0.756613   0.786954   0.571429               7\n",
       "2841  2841  1.110559   1.118060   1.673469               7"
      ]
     },
     "execution_count": 158,
     "metadata": {},
     "output_type": "execute_result"
    }
   ],
   "source": [
    "user_grouped = df_all.copy()\n",
    "user_grouped = user_grouped.groupby(\"User\").agg({'user nb rating' : np.mean,'item diff' : np.mean, 'user diff' : np.mean, 'mf diff' : np.mean,})[[\"mf diff\", \"item diff\", \"user diff\", \"user nb rating\"]].reset_index()\n",
    "user_grouped = user_grouped.sort_values([\"user nb rating\"])\n",
    "user_grouped.head()"
   ]
  },
  {
   "cell_type": "code",
   "execution_count": 181,
   "metadata": {
    "collapsed": false
   },
   "outputs": [
    {
     "data": {
      "image/png": "[encoded data removed]",
      "text/plain": [
       "<matplotlib.figure.Figure at 0x7f0c45a08898>"
      ]
     },
     "metadata": {},
     "output_type": "display_data"
    }
   ],
   "source": [
    "fig = plt.figure(figsize=(16, 6))\n",
    "ax1 = fig.add_subplot(1, 3, 1)\n",
    "ax2 = fig.add_subplot(1, 3, 2)\n",
    "ax3 = fig.add_subplot(1, 3, 3)\n",
    "mf_diff = ax1.scatter(user_grouped[\"user nb rating\"], user_grouped[\"mf diff\"], color='b', s=5, marker='o', alpha=.4)\n",
    "item_diff = ax2.scatter(user_grouped[\"user nb rating\"], user_grouped[\"item diff\"], color='r', s=5, marker='o', alpha=.4)\n",
    "user_diff = ax3.scatter(user_grouped[\"user nb rating\"], user_grouped[\"user diff\"], color='g', s=5, marker='o', alpha=.4)\n",
    "ax1.set_xlabel(\"Nb of times user gave rating\")\n",
    "ax1.set_ylabel(\"Mean squared difference with true value\")\n",
    "ax1.set_xlabel(\"Nb of times user gave rating\")\n",
    "ax2.set_ylabel(\"Mean squared difference with true value\")\n",
    "ax1.set_xlabel(\"Nb of times user gave rating\")\n",
    "ax3.set_ylabel(\"Mean squared difference with true value\")\n",
    "ax1.axis([0, 600, 0, 5])\n",
    "ax2.axis([0, 600, 0, 5])\n",
    "ax3.axis([0, 600, 0, 5])\n",
    "\n",
    "lgnd = fig.legend((mf_diff, item_diff, user_diff),\n",
    "           ('MF difference', 'Item based mean difference', 'User base mean difference'),\n",
    "           scatterpoints=5,\n",
    "           loc='upper center',\n",
    "           ncol=3,\n",
    "           fontsize=16)\n",
    "\n",
    "lgnd.legendHandles[0]._sizes = [15]\n",
    "lgnd.legendHandles[1]._sizes = [15]\n",
    "lgnd.legendHandles[2]._sizes = [15]\n",
    "lgnd.legendHandles[0].set_alpha(0.8)\n",
    "lgnd.legendHandles[1].set_alpha(0.8)\n",
    "lgnd.legendHandles[2].set_alpha(0.8)"
   ]
  },
  {
   "cell_type": "code",
   "execution_count": null,
   "metadata": {
    "collapsed": true
   },
   "outputs": [],
   "source": []
  },
  {
   "cell_type": "code",
   "execution_count": 263,
   "metadata": {
    "collapsed": true
   },
   "outputs": [],
   "source": [
    "from sklearn.preprocessing import LabelEncoder  \n",
    "from sklearn.ensemble import RandomForestRegressor\n",
    "\n",
    "regressor = RandomForestRegressor(n_estimators=20, min_samples_split=0.2, max_features=3)"
   ]
  },
  {
   "cell_type": "code",
   "execution_count": null,
   "metadata": {
    "collapsed": true
   },
   "outputs": [],
   "source": []
  },
  {
   "cell_type": "code",
   "execution_count": 264,
   "metadata": {
    "collapsed": false
   },
   "outputs": [
    {
     "data": {
      "text/html": [
       "<div>\n",
       "<table border=\"1\" class=\"dataframe\">\n",
       "  <thead>\n",
       "    <tr style=\"text-align: right;\">\n",
       "      <th></th>\n",
       "      <th>Item</th>\n",
       "      <th>User</th>\n",
       "      <th>Real values</th>\n",
       "      <th>item preds</th>\n",
       "      <th>user preds</th>\n",
       "      <th>mf preds</th>\n",
       "    </tr>\n",
       "  </thead>\n",
       "  <tbody>\n",
       "    <tr>\n",
       "      <th>0</th>\n",
       "      <td>0</td>\n",
       "      <td>43</td>\n",
       "      <td>4.0</td>\n",
       "      <td>3.379412</td>\n",
       "      <td>3.893701</td>\n",
       "      <td>3.505570</td>\n",
       "    </tr>\n",
       "    <tr>\n",
       "      <th>1</th>\n",
       "      <td>0</td>\n",
       "      <td>60</td>\n",
       "      <td>3.0</td>\n",
       "      <td>3.379412</td>\n",
       "      <td>4.233696</td>\n",
       "      <td>3.625158</td>\n",
       "    </tr>\n",
       "    <tr>\n",
       "      <th>2</th>\n",
       "      <td>0</td>\n",
       "      <td>66</td>\n",
       "      <td>4.0</td>\n",
       "      <td>3.379412</td>\n",
       "      <td>3.580645</td>\n",
       "      <td>3.335722</td>\n",
       "    </tr>\n",
       "    <tr>\n",
       "      <th>3</th>\n",
       "      <td>0</td>\n",
       "      <td>71</td>\n",
       "      <td>3.0</td>\n",
       "      <td>3.379412</td>\n",
       "      <td>3.861423</td>\n",
       "      <td>3.479910</td>\n",
       "    </tr>\n",
       "    <tr>\n",
       "      <th>4</th>\n",
       "      <td>0</td>\n",
       "      <td>85</td>\n",
       "      <td>5.0</td>\n",
       "      <td>3.379412</td>\n",
       "      <td>4.103321</td>\n",
       "      <td>3.618830</td>\n",
       "    </tr>\n",
       "  </tbody>\n",
       "</table>\n",
       "</div>"
      ],
      "text/plain": [
       "   Item  User  Real values  item preds  user preds  mf preds\n",
       "0     0    43          4.0    3.379412    3.893701  3.505570\n",
       "1     0    60          3.0    3.379412    4.233696  3.625158\n",
       "2     0    66          4.0    3.379412    3.580645  3.335722\n",
       "3     0    71          3.0    3.379412    3.861423  3.479910\n",
       "4     0    85          5.0    3.379412    4.103321  3.618830"
      ]
     },
     "execution_count": 264,
     "metadata": {},
     "output_type": "execute_result"
    }
   ],
   "source": [
    "df_regression = df_real.copy()\n",
    "df_regression[\"item preds\"] = df_item[\"Item mean based prediction\"]\n",
    "df_regression[\"user preds\"] = df_user[\"User mean based prediction\"]\n",
    "df_regression[\"mf preds\"] = df_mf[\"MF prediction\"]\n",
    "df_regression.head()"
   ]
  },
  {
   "cell_type": "code",
   "execution_count": 187,
   "metadata": {
    "collapsed": false,
    "scrolled": true
   },
   "outputs": [
    {
     "data": {
      "text/plain": [
       "RandomForestRegressor(bootstrap=True, criterion='mse', max_depth=None,\n",
       "           max_features=3, max_leaf_nodes=None, min_samples_leaf=1,\n",
       "           min_samples_split=0.1, min_weight_fraction_leaf=0.0,\n",
       "           n_estimators=50, n_jobs=1, oob_score=False, random_state=None,\n",
       "           verbose=0, warm_start=False)"
      ]
     },
     "execution_count": 187,
     "metadata": {},
     "output_type": "execute_result"
    }
   ],
   "source": [
    "regressor.fit(df_regression[[\"item preds\",\"user preds\",\"mf preds\"]], df_regression[\"Real values\"])"
   ]
  },
  {
   "cell_type": "code",
   "execution_count": 189,
   "metadata": {
    "collapsed": false
   },
   "outputs": [],
   "source": [
    "result = regressor.predict(df_regression[[\"item preds\",\"user preds\",\"mf preds\"]])"
   ]
  },
  {
   "cell_type": "code",
   "execution_count": 194,
   "metadata": {
    "collapsed": false
   },
   "outputs": [],
   "source": [
    "def to_result(data, result):\n",
    "    preds = data.copy()\n",
    "    nz = preds.nonzero()\n",
    "    preds[nz] = result\n",
    "    return preds"
   ]
  },
  {
   "cell_type": "code",
   "execution_count": 195,
   "metadata": {
    "collapsed": true
   },
   "outputs": [],
   "source": [
    "preds = to_result(valid_ratings, result)"
   ]
  },
  {
   "cell_type": "code",
   "execution_count": 196,
   "metadata": {
    "collapsed": false
   },
   "outputs": [
    {
     "name": "stdout",
     "output_type": "stream",
     "text": [
      "0.157090164084\n"
     ]
    }
   ],
   "source": [
    "print(compute_rmse(valid_ratings, preds))"
   ]
  },
  {
   "cell_type": "code",
   "execution_count": null,
   "metadata": {
    "collapsed": true
   },
   "outputs": [],
   "source": []
  },
  {
   "cell_type": "code",
   "execution_count": 265,
   "metadata": {
    "collapsed": false
   },
   "outputs": [],
   "source": [
    "train_data = df_regression[[\"item preds\",\"user preds\",\"mf preds\"]][:int(len(df_regression)*0.8)]\n",
    "test_data = df_regression[[\"item preds\",\"user preds\",\"mf preds\"]][int(len(df_regression)*0.8):]"
   ]
  },
  {
   "cell_type": "code",
   "execution_count": null,
   "metadata": {
    "collapsed": false
   },
   "outputs": [],
   "source": [
    "from sklearn.svm import SVR\n",
    "regr = SVR(kernel='poly', C=1e3, degree=2)\n",
    "\n",
    "# Train the model using the training sets\n",
    "regr.fit(train_data, df_regression[\"Real values\"][:int(len(df_regression)*0.8)])"
   ]
  },
  {
   "cell_type": "code",
   "execution_count": null,
   "metadata": {
    "collapsed": false
   },
   "outputs": [],
   "source": [
    "test_result = regr.predict(test_data)\n",
    "row, col = valid_ratings.nonzero()\n",
    "test_valid = valid_ratings[row[int(len(df_regression)*0.8):], col[int(len(df_regression)*0.8):]]\n",
    "test_preds = to_result(test_valid, test_result)\n",
    "print(compute_rmse(test_valid, test_preds))"
   ]
  },
  {
   "cell_type": "code",
   "execution_count": null,
   "metadata": {
    "collapsed": false
   },
   "outputs": [],
   "source": [
    "train_result = regr.predict(train_data)\n",
    "row, col = valid_ratings.nonzero()\n",
    "train_valid = valid_ratings[row[:int(len(df_regression)*0.8)], col[:int(len(df_regression)*0.8)]]\n",
    "train_preds = to_result(train_valid, train_result)\n",
    "print(compute_rmse(train_valid, train_preds))"
   ]
  },
  {
   "cell_type": "code",
   "execution_count": null,
   "metadata": {
    "collapsed": true
   },
   "outputs": [],
   "source": []
  },
  {
   "cell_type": "code",
   "execution_count": 229,
   "metadata": {
    "collapsed": true
   },
   "outputs": [],
   "source": [
    "df_mean = (df_regression[\"item preds\"] + df_regression[\"user preds\"] + df_regression[\"mf preds\"]*3) / 5\n",
    "preds = to_result(valid_ratings, df_mean)"
   ]
  },
  {
   "cell_type": "code",
   "execution_count": 230,
   "metadata": {
    "collapsed": false
   },
   "outputs": [
    {
     "name": "stdout",
     "output_type": "stream",
     "text": [
      "1.01346043587\n"
     ]
    }
   ],
   "source": [
    "print(compute_rmse(valid_ratings, preds))"
   ]
  },
  {
   "cell_type": "markdown",
   "metadata": {},
   "source": [
    "# Result Generation"
   ]
  },
  {
   "cell_type": "code",
   "execution_count": 197,
   "metadata": {
    "collapsed": false
   },
   "outputs": [
    {
     "name": "stdout",
     "output_type": "stream",
     "text": [
      "number of items: 1000, number of users: 10000\n"
     ]
    }
   ],
   "source": [
    "path_sample = \"data/sampleSubmission.csv\"\n",
    "submission_sample = load_data(path_sample)"
   ]
  },
  {
   "cell_type": "code",
   "execution_count": 203,
   "metadata": {
    "collapsed": true
   },
   "outputs": [],
   "source": [
    "submission_preds_mf = predict(submission_sample, user_features, item_features)"
   ]
  },
  {
   "cell_type": "code",
   "execution_count": 204,
   "metadata": {
    "collapsed": true
   },
   "outputs": [],
   "source": [
    "submission_preds_item = predict_item(submission_sample, mean_item)"
   ]
  },
  {
   "cell_type": "code",
   "execution_count": 205,
   "metadata": {
    "collapsed": true
   },
   "outputs": [],
   "source": [
    "submission_preds_user = predict_user(submission_sample, mean_user)"
   ]
  },
  {
   "cell_type": "code",
   "execution_count": 214,
   "metadata": {
    "collapsed": false
   },
   "outputs": [
    {
     "data": {
      "text/html": [
       "<div>\n",
       "<table border=\"1\" class=\"dataframe\">\n",
       "  <thead>\n",
       "    <tr style=\"text-align: right;\">\n",
       "      <th></th>\n",
       "      <th>Item</th>\n",
       "      <th>User</th>\n",
       "      <th>mf preds</th>\n",
       "    </tr>\n",
       "  </thead>\n",
       "  <tbody>\n",
       "    <tr>\n",
       "      <th>0</th>\n",
       "      <td>0</td>\n",
       "      <td>36</td>\n",
       "      <td>3.399228</td>\n",
       "    </tr>\n",
       "    <tr>\n",
       "      <th>1</th>\n",
       "      <td>0</td>\n",
       "      <td>72</td>\n",
       "      <td>3.330368</td>\n",
       "    </tr>\n",
       "    <tr>\n",
       "      <th>2</th>\n",
       "      <td>0</td>\n",
       "      <td>155</td>\n",
       "      <td>3.658866</td>\n",
       "    </tr>\n",
       "    <tr>\n",
       "      <th>3</th>\n",
       "      <td>0</td>\n",
       "      <td>159</td>\n",
       "      <td>3.416334</td>\n",
       "    </tr>\n",
       "    <tr>\n",
       "      <th>4</th>\n",
       "      <td>0</td>\n",
       "      <td>247</td>\n",
       "      <td>3.450316</td>\n",
       "    </tr>\n",
       "  </tbody>\n",
       "</table>\n",
       "</div>"
      ],
      "text/plain": [
       "   Item  User  mf preds\n",
       "0     0    36  3.399228\n",
       "1     0    72  3.330368\n",
       "2     0   155  3.658866\n",
       "3     0   159  3.416334\n",
       "4     0   247  3.450316"
      ]
     },
     "execution_count": 214,
     "metadata": {},
     "output_type": "execute_result"
    }
   ],
   "source": [
    "nz_row, nz_col = submission_preds_mf.nonzero()\n",
    "temp = []\n",
    "for i in range(0, len(nz_row)):\n",
    "    temp.append([nz_row[i], nz_col[i], submission_preds_mf[nz_row[i], nz_col[i]]])\n",
    "submission_df_mf = pd.DataFrame(temp)\n",
    "submission_df_mf.columns = [\"Item\", \"User\", \"mf preds\"]\n",
    "submission_df_mf.head()"
   ]
  },
  {
   "cell_type": "code",
   "execution_count": 215,
   "metadata": {
    "collapsed": false
   },
   "outputs": [
    {
     "data": {
      "text/html": [
       "<div>\n",
       "<table border=\"1\" class=\"dataframe\">\n",
       "  <thead>\n",
       "    <tr style=\"text-align: right;\">\n",
       "      <th></th>\n",
       "      <th>Item</th>\n",
       "      <th>User</th>\n",
       "      <th>User prediction</th>\n",
       "    </tr>\n",
       "  </thead>\n",
       "  <tbody>\n",
       "    <tr>\n",
       "      <th>0</th>\n",
       "      <td>0</td>\n",
       "      <td>36</td>\n",
       "      <td>3.757732</td>\n",
       "    </tr>\n",
       "    <tr>\n",
       "      <th>1</th>\n",
       "      <td>0</td>\n",
       "      <td>72</td>\n",
       "      <td>3.540000</td>\n",
       "    </tr>\n",
       "    <tr>\n",
       "      <th>2</th>\n",
       "      <td>0</td>\n",
       "      <td>155</td>\n",
       "      <td>4.230216</td>\n",
       "    </tr>\n",
       "    <tr>\n",
       "      <th>3</th>\n",
       "      <td>0</td>\n",
       "      <td>159</td>\n",
       "      <td>3.692308</td>\n",
       "    </tr>\n",
       "    <tr>\n",
       "      <th>4</th>\n",
       "      <td>0</td>\n",
       "      <td>247</td>\n",
       "      <td>3.928144</td>\n",
       "    </tr>\n",
       "  </tbody>\n",
       "</table>\n",
       "</div>"
      ],
      "text/plain": [
       "   Item  User  User prediction\n",
       "0     0    36         3.757732\n",
       "1     0    72         3.540000\n",
       "2     0   155         4.230216\n",
       "3     0   159         3.692308\n",
       "4     0   247         3.928144"
      ]
     },
     "execution_count": 215,
     "metadata": {},
     "output_type": "execute_result"
    }
   ],
   "source": [
    "nz_row, nz_col = submission_preds_user.nonzero()\n",
    "temp = []\n",
    "for i in range(0, len(nz_row)):\n",
    "    temp.append([nz_row[i], nz_col[i], submission_preds_user[nz_row[i], nz_col[i]]])\n",
    "submission_df_user = pd.DataFrame(temp)\n",
    "submission_df_user.columns = [\"Item\", \"User\", \"User prediction\"]\n",
    "submission_df_user.head()"
   ]
  },
  {
   "cell_type": "code",
   "execution_count": 216,
   "metadata": {
    "collapsed": false
   },
   "outputs": [
    {
     "data": {
      "text/html": [
       "<div>\n",
       "<table border=\"1\" class=\"dataframe\">\n",
       "  <thead>\n",
       "    <tr style=\"text-align: right;\">\n",
       "      <th></th>\n",
       "      <th>Item</th>\n",
       "      <th>User</th>\n",
       "      <th>Item prediction</th>\n",
       "    </tr>\n",
       "  </thead>\n",
       "  <tbody>\n",
       "    <tr>\n",
       "      <th>0</th>\n",
       "      <td>0</td>\n",
       "      <td>36</td>\n",
       "      <td>3.379412</td>\n",
       "    </tr>\n",
       "    <tr>\n",
       "      <th>1</th>\n",
       "      <td>0</td>\n",
       "      <td>72</td>\n",
       "      <td>3.379412</td>\n",
       "    </tr>\n",
       "    <tr>\n",
       "      <th>2</th>\n",
       "      <td>0</td>\n",
       "      <td>155</td>\n",
       "      <td>3.379412</td>\n",
       "    </tr>\n",
       "    <tr>\n",
       "      <th>3</th>\n",
       "      <td>0</td>\n",
       "      <td>159</td>\n",
       "      <td>3.379412</td>\n",
       "    </tr>\n",
       "    <tr>\n",
       "      <th>4</th>\n",
       "      <td>0</td>\n",
       "      <td>247</td>\n",
       "      <td>3.379412</td>\n",
       "    </tr>\n",
       "  </tbody>\n",
       "</table>\n",
       "</div>"
      ],
      "text/plain": [
       "   Item  User  Item prediction\n",
       "0     0    36         3.379412\n",
       "1     0    72         3.379412\n",
       "2     0   155         3.379412\n",
       "3     0   159         3.379412\n",
       "4     0   247         3.379412"
      ]
     },
     "execution_count": 216,
     "metadata": {},
     "output_type": "execute_result"
    }
   ],
   "source": [
    "nz_row, nz_col = submission_preds_item.nonzero()\n",
    "temp = []\n",
    "for i in range(0, len(nz_row)):\n",
    "    temp.append([nz_row[i], nz_col[i], submission_preds_item[nz_row[i], nz_col[i]]])\n",
    "submission_df_item = pd.DataFrame(temp)\n",
    "submission_df_item.columns = [\"Item\", \"User\", \"Item prediction\"]\n",
    "submission_df_item.head()"
   ]
  },
  {
   "cell_type": "code",
   "execution_count": 217,
   "metadata": {
    "collapsed": false
   },
   "outputs": [
    {
     "data": {
      "text/html": [
       "<div>\n",
       "<table border=\"1\" class=\"dataframe\">\n",
       "  <thead>\n",
       "    <tr style=\"text-align: right;\">\n",
       "      <th></th>\n",
       "      <th>Item</th>\n",
       "      <th>User</th>\n",
       "      <th>mf preds</th>\n",
       "      <th>item preds</th>\n",
       "      <th>user preds</th>\n",
       "    </tr>\n",
       "  </thead>\n",
       "  <tbody>\n",
       "    <tr>\n",
       "      <th>0</th>\n",
       "      <td>0</td>\n",
       "      <td>36</td>\n",
       "      <td>3.399228</td>\n",
       "      <td>3.379412</td>\n",
       "      <td>3.757732</td>\n",
       "    </tr>\n",
       "    <tr>\n",
       "      <th>1</th>\n",
       "      <td>0</td>\n",
       "      <td>72</td>\n",
       "      <td>3.330368</td>\n",
       "      <td>3.379412</td>\n",
       "      <td>3.540000</td>\n",
       "    </tr>\n",
       "    <tr>\n",
       "      <th>2</th>\n",
       "      <td>0</td>\n",
       "      <td>155</td>\n",
       "      <td>3.658866</td>\n",
       "      <td>3.379412</td>\n",
       "      <td>4.230216</td>\n",
       "    </tr>\n",
       "    <tr>\n",
       "      <th>3</th>\n",
       "      <td>0</td>\n",
       "      <td>159</td>\n",
       "      <td>3.416334</td>\n",
       "      <td>3.379412</td>\n",
       "      <td>3.692308</td>\n",
       "    </tr>\n",
       "    <tr>\n",
       "      <th>4</th>\n",
       "      <td>0</td>\n",
       "      <td>247</td>\n",
       "      <td>3.450316</td>\n",
       "      <td>3.379412</td>\n",
       "      <td>3.928144</td>\n",
       "    </tr>\n",
       "  </tbody>\n",
       "</table>\n",
       "</div>"
      ],
      "text/plain": [
       "   Item  User  mf preds  item preds  user preds\n",
       "0     0    36  3.399228    3.379412    3.757732\n",
       "1     0    72  3.330368    3.379412    3.540000\n",
       "2     0   155  3.658866    3.379412    4.230216\n",
       "3     0   159  3.416334    3.379412    3.692308\n",
       "4     0   247  3.450316    3.379412    3.928144"
      ]
     },
     "execution_count": 217,
     "metadata": {},
     "output_type": "execute_result"
    }
   ],
   "source": [
    "df_regression = submission_df_mf.copy()\n",
    "df_regression[\"item preds\"] = submission_df_item[\"Item prediction\"]\n",
    "df_regression[\"user preds\"] = submission_df_user[\"User prediction\"]\n",
    "df_regression.head()"
   ]
  },
  {
   "cell_type": "code",
   "execution_count": 218,
   "metadata": {
    "collapsed": false
   },
   "outputs": [],
   "source": [
    "submission_result = regressor.predict(df_regression[[\"item preds\",\"user preds\",\"mf preds\"]])"
   ]
  },
  {
   "cell_type": "code",
   "execution_count": 222,
   "metadata": {
    "collapsed": true
   },
   "outputs": [],
   "source": [
    "submission_preds = to_result(submission_sample, result)"
   ]
  },
  {
   "cell_type": "code",
   "execution_count": 223,
   "metadata": {
    "collapsed": true
   },
   "outputs": [],
   "source": [
    "path_submission = \"data/submission.csv\"\n",
    "write_data(path_submission, submission_preds)"
   ]
  },
  {
   "cell_type": "code",
   "execution_count": null,
   "metadata": {
    "collapsed": true
   },
   "outputs": [],
   "source": []
  }
 ],
 "metadata": {
  "anaconda-cloud": {},
  "kernelspec": {
   "display_name": "Python [Root]",
   "language": "python",
   "name": "Python [Root]"
  },
  "language_info": {
   "codemirror_mode": {
    "name": "ipython",
    "version": 3
   },
   "file_extension": ".py",
   "mimetype": "text/x-python",
   "name": "python",
   "nbconvert_exporter": "python",
   "pygments_lexer": "ipython3",
   "version": "3.5.2"
  }
 },
 "nbformat": 4,
 "nbformat_minor": 0
}
