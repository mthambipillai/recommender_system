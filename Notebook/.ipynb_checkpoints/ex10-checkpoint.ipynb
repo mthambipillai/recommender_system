{
 "cells": [
  {
   "cell_type": "code",
   "execution_count": 1,
   "metadata": {
    "collapsed": false
   },
   "outputs": [],
   "source": [
    "# Useful starting lines\n",
    "%matplotlib inline\n",
    "\n",
    "import numpy as np\n",
    "import math\n",
    "import scipy\n",
    "import scipy.io\n",
    "import scipy.sparse as sp\n",
    "import matplotlib.pyplot as plt\n",
    "%load_ext autoreload\n",
    "%autoreload 2"
   ]
  },
  {
   "cell_type": "markdown",
   "metadata": {},
   "source": [
    "## Load the Data\n",
    "Note that `ratings` is a sparse matrix that in the shape of (num_items, num_users)"
   ]
  },
  {
   "cell_type": "code",
   "execution_count": 2,
   "metadata": {
    "collapsed": false
   },
   "outputs": [
    {
     "name": "stdout",
     "output_type": "stream",
     "text": [
      "number of items: 1000, number of users: 10000\n"
     ]
    }
   ],
   "source": [
    "from helpers import load_data, preprocess_data\n",
    "\n",
    "path_dataset = \"data/data_train.csv\"\n",
    "ratings = load_data(path_dataset)"
   ]
  },
  {
   "cell_type": "markdown",
   "metadata": {},
   "source": [
    "### Plot the number of ratings per movie and user"
   ]
  },
  {
   "cell_type": "code",
   "execution_count": 3,
   "metadata": {
    "collapsed": false,
    "scrolled": true
   },
   "outputs": [
    {
     "data": {
      "image/png": "[encoded data removed]",
      "text/plain": [
       "<matplotlib.figure.Figure at 0x1f34773bac8>"
      ]
     },
     "metadata": {},
     "output_type": "display_data"
    },
    {
     "name": "stdout",
     "output_type": "stream",
     "text": [
      "min # of items per user = 3, min # of users per item = 8.\n"
     ]
    }
   ],
   "source": [
    "from plots import plot_raw_data\n",
    "\n",
    "num_items_per_user, num_users_per_item = plot_raw_data(ratings)\n",
    "\n",
    "print(\"min # of items per user = {}, min # of users per item = {}.\".format(\n",
    "        min(num_items_per_user), min(num_users_per_item)))"
   ]
  },
  {
   "cell_type": "markdown",
   "metadata": {},
   "source": [
    "### Split the data into a train and test set"
   ]
  },
  {
   "cell_type": "code",
   "execution_count": 4,
   "metadata": {
    "collapsed": false,
    "scrolled": true
   },
   "outputs": [
    {
     "name": "stdout",
     "output_type": "stream",
     "text": [
      "Total number of nonzero elements in original data:1176952\n",
      "Total number of nonzero elements in train data:1058987\n",
      "Total number of nonzero elements in test data:117965\n"
     ]
    }
   ],
   "source": [
    "from plots import plot_train_test_data\n",
    "from helpers import split_data\n",
    "\n",
    "valid_ratings, train_unfiltered, test = split_data(\n",
    "    ratings, num_items_per_user, num_users_per_item, min_num_ratings=0, p_test=0.1)\n"
   ]
  },
  {
   "cell_type": "code",
   "execution_count": 5,
   "metadata": {
    "collapsed": false
   },
   "outputs": [],
   "source": [
    "from outliers_filtering import *\n",
    "#d = disagreements(train_unfiltered)\n",
    "#plot_disagreements(d)\n",
    "#train = filter_outliers(train_unfiltered,d)\n",
    "#nfiltered = train_unfiltered.nnz - train.nnz\n",
    "#print(\"number of filtered ratings : {}\".format(nfiltered))\n",
    "train = train_unfiltered"
   ]
  },
  {
   "cell_type": "code",
   "execution_count": 7,
   "metadata": {
    "collapsed": false
   },
   "outputs": [],
   "source": [
    "from outliers_filtering import threshold_tests\n",
    "#threshold_tests(d, train_unfiltered, valid_ratings, test)"
   ]
  },
  {
   "cell_type": "markdown",
   "metadata": {},
   "source": [
    "## Implementing Baselines "
   ]
  },
  {
   "cell_type": "markdown",
   "metadata": {},
   "source": [
    "### Use the global mean to do the prediction"
   ]
  },
  {
   "cell_type": "code",
   "execution_count": null,
   "metadata": {
    "collapsed": false,
    "scrolled": true
   },
   "outputs": [],
   "source": [
    "from helpers import calculate_mse\n",
    "from baselines import baseline_global_mean, compute_rmse\n",
    "\n",
    "train_mean, test_mean = baseline_global_mean(train, test)\n",
    "pred = np.ones(train.shape) * train_mean\n",
    "test_pred = np.ones(test.shape) * test_mean\n",
    "\n",
    "\n",
    "rmse_test = compute_rmse(test, test_pred)\n",
    "rmse_submission = compute_rmse(valid_ratings, pred)\n",
    "print(rmse_test)\n",
    "print(rmse_submission)"
   ]
  },
  {
   "cell_type": "markdown",
   "metadata": {},
   "source": [
    "### Use the user means as the prediction"
   ]
  },
  {
   "cell_type": "code",
   "execution_count": null,
   "metadata": {
    "collapsed": false
   },
   "outputs": [],
   "source": [
    "from baselines import baseline_user_mean\n",
    "\n",
    "train_means, test_means = baseline_user_mean(train, test)\n",
    "train_means_list = train_means.tolist()\n",
    "pred = np.ones(train.shape)\n",
    "for col in range(train.shape[1]):\n",
    "    pred[:,col] *= train_means_list[0][col]\n",
    "test_means_list = test_means.tolist()\n",
    "test_pred = np.ones(test.shape)\n",
    "for col in range(test.shape[1]):\n",
    "    test_pred[:,col] *= test_means_list[0][col]\n",
    "\n",
    "rmse_test = compute_rmse(test, test_pred)\n",
    "rmse_submission = compute_rmse(valid_ratings, pred)\n",
    "print(rmse_test)\n",
    "print(rmse_submission)"
   ]
  },
  {
   "cell_type": "markdown",
   "metadata": {},
   "source": [
    "### Use the item means as the prediction"
   ]
  },
  {
   "cell_type": "code",
   "execution_count": null,
   "metadata": {
    "collapsed": false
   },
   "outputs": [],
   "source": [
    "from baselines import baseline_item_mean\n",
    "from helpers import exportSubmission\n",
    "\n",
    "train_means, test_means = baseline_item_mean(train, test)\n",
    "train_means_list = train_means.tolist()\n",
    "pred = np.ones(train.shape)\n",
    "for col in range(train.shape[0]):\n",
    "    pred[col,:] *= train_means_list[col]\n",
    "test_means_list = test_means.tolist()\n",
    "test_pred = np.ones(test.shape)\n",
    "for col in range(test.shape[0]):\n",
    "    test_pred[col,:] *= test_means_list[col]\n",
    "\n",
    "rmse_test = compute_rmse(test, test_pred)\n",
    "rmse_submission = compute_rmse(valid_ratings, pred)\n",
    "print(rmse_test)\n",
    "print(rmse_submission)"
   ]
  },
  {
   "cell_type": "markdown",
   "metadata": {},
   "source": [
    "### Learn the Matrix Factorization using SGD"
   ]
  },
  {
   "cell_type": "markdown",
   "metadata": {},
   "source": [
    "#### Initialize matrix factorization"
   ]
  },
  {
   "cell_type": "markdown",
   "metadata": {},
   "source": [
    "Compute the cost by the method of matrix factorization.\n"
   ]
  },
  {
   "cell_type": "code",
   "execution_count": 11,
   "metadata": {
    "collapsed": false
   },
   "outputs": [
    {
     "name": "stdout",
     "output_type": "stream",
     "text": [
      "iter: k = 30, RMSE on training set: 1.2826366743059094.\n",
      "learn the matrix factorization using SGD...\n",
      "iter: 0, RMSE on training set: 2.0818817363770665.\n",
      "iter: 0, RMSE on test set: 2.05332580310938.\n",
      "iter: 10, RMSE on training set: 1.1251553858281957.\n",
      "iter: 10, RMSE on test set: 1.0943798952219048.\n",
      "iter: 20, RMSE on training set: 1.0554216877085905.\n",
      "iter: 20, RMSE on test set: 1.0250965470217406.\n",
      "iter: 30, RMSE on training set: 1.0339823298639654.\n",
      "iter: 30, RMSE on test set: 1.004488120680532.\n",
      "iter: 40, RMSE on training set: 1.0235905548177717.\n",
      "iter: 40, RMSE on test set: 0.9948556567251996.\n",
      "iter: 50, RMSE on training set: 1.0176385848454204.\n",
      "iter: 50, RMSE on test set: 0.9894089039808389.\n",
      "iter: 60, RMSE on training set: 1.0136608016782331.\n",
      "iter: 60, RMSE on test set: 0.985965662618629.\n",
      "iter: 70, RMSE on training set: 1.0105940222751648.\n",
      "iter: 70, RMSE on test set: 0.9834988039647943.\n",
      "iter: 80, RMSE on training set: 1.0082909805137577.\n",
      "iter: 80, RMSE on test set: 0.9818013266345172.\n",
      "iter: 90, RMSE on training set: 1.0064065924016585.\n",
      "iter: 90, RMSE on test set: 0.9803366284502495.\n",
      "iter: 100, RMSE on training set: 1.004834884480192.\n",
      "iter: 100, RMSE on test set: 0.9791544219401567.\n",
      "iter: 110, RMSE on training set: 1.0034545043993734.\n",
      "iter: 110, RMSE on test set: 0.9781620021224696.\n",
      "iter: 120, RMSE on training set: 1.0023209661304218.\n",
      "iter: 120, RMSE on test set: 0.9773791214781435.\n",
      "iter: 130, RMSE on training set: 1.0012159373467635.\n",
      "iter: 130, RMSE on test set: 0.976836152659388.\n",
      "iter: 140, RMSE on training set: 1.0002755477849088.\n",
      "iter: 140, RMSE on test set: 0.9762311680347721.\n",
      "iter: 150, RMSE on training set: 0.9994368841522642.\n",
      "iter: 150, RMSE on test set: 0.9758091493489703.\n",
      "iter: 160, RMSE on training set: 0.9986603582273883.\n",
      "iter: 160, RMSE on test set: 0.9753247145089744.\n",
      "iter: 170, RMSE on training set: 0.9979853295503044.\n",
      "iter: 170, RMSE on test set: 0.9750234682687889.\n",
      "iter: 180, RMSE on training set: 0.9972771490005677.\n",
      "iter: 180, RMSE on test set: 0.9745846474842906.\n",
      "iter: 190, RMSE on training set: 0.9966765989733287.\n",
      "iter: 190, RMSE on test set: 0.9743136268832386.\n",
      "iter: 200, RMSE on training set: 0.9960815472636959.\n",
      "iter: 200, RMSE on test set: 0.9739501227860445.\n",
      "iter: 210, RMSE on training set: 0.9955482400767585.\n",
      "iter: 210, RMSE on test set: 0.973748920931923.\n",
      "iter: 220, RMSE on training set: 0.995034010643079.\n",
      "iter: 220, RMSE on test set: 0.9735722351444591.\n",
      "iter: 230, RMSE on training set: 0.9944856073033072.\n",
      "iter: 230, RMSE on test set: 0.9732940731751641.\n",
      "iter: 240, RMSE on training set: 0.9940705602397626.\n",
      "iter: 240, RMSE on test set: 0.9731547200420958.\n",
      "iter: 250, RMSE on training set: 0.9936757357191831.\n",
      "iter: 250, RMSE on test set: 0.9730460475700676.\n",
      "iter: 260, RMSE on training set: 0.993244242194957.\n",
      "iter: 260, RMSE on test set: 0.972847136999783.\n",
      "iter: 270, RMSE on training set: 0.9928341794924197.\n",
      "iter: 270, RMSE on test set: 0.9727248480056909.\n",
      "iter: 280, RMSE on training set: 0.9923764277332354.\n",
      "iter: 280, RMSE on test set: 0.9724904949593561.\n",
      "iter: 290, RMSE on training set: 0.9920231340722183.\n",
      "iter: 290, RMSE on test set: 0.972459691871413.\n",
      "iter: 300, RMSE on training set: 0.9917268096403038.\n",
      "iter: 300, RMSE on test set: 0.9723071865795573.\n",
      "iter: 310, RMSE on training set: 0.9913765845425366.\n",
      "iter: 310, RMSE on test set: 0.9722420724681602.\n",
      "iter: 320, RMSE on training set: 0.9910366429834755.\n",
      "iter: 320, RMSE on test set: 0.9720626784062505.\n",
      "iter: 330, RMSE on training set: 0.990739875658452.\n",
      "iter: 330, RMSE on test set: 0.9720607894611194.\n",
      "iter: 340, RMSE on training set: 0.9904181468626697.\n",
      "iter: 340, RMSE on test set: 0.9719063842681495.\n",
      "iter: 350, RMSE on training set: 0.9901200931385205.\n",
      "iter: 350, RMSE on test set: 0.9718669219255174.\n",
      "iter: 360, RMSE on training set: 0.9897930613291455.\n",
      "iter: 360, RMSE on test set: 0.9718280478531038.\n",
      "iter: 370, RMSE on training set: 0.9895282456502773.\n",
      "iter: 370, RMSE on test set: 0.97174859761572.\n",
      "iter: 380, RMSE on training set: 0.989309313932299.\n",
      "iter: 380, RMSE on test set: 0.9716924495269031.\n"
     ]
    },
    {
     "ename": "KeyboardInterrupt",
     "evalue": "",
     "output_type": "error",
     "traceback": [
      "\u001b[1;31m---------------------------------------------------------------------------\u001b[0m",
      "\u001b[1;31mKeyboardInterrupt\u001b[0m                         Traceback (most recent call last)",
      "\u001b[1;32m<ipython-input-11-962963aa390a>\u001b[0m in \u001b[0;36m<module>\u001b[1;34m()\u001b[0m\n\u001b[0;32m      3\u001b[0m \u001b[1;31m# set seed\u001b[0m\u001b[1;33m\u001b[0m\u001b[1;33m\u001b[0m\u001b[0m\n\u001b[0;32m      4\u001b[0m \u001b[0mnp\u001b[0m\u001b[1;33m.\u001b[0m\u001b[0mrandom\u001b[0m\u001b[1;33m.\u001b[0m\u001b[0mseed\u001b[0m\u001b[1;33m(\u001b[0m\u001b[1;36m988\u001b[0m\u001b[1;33m)\u001b[0m\u001b[1;33m\u001b[0m\u001b[0m\n\u001b[1;32m----> 5\u001b[1;33m \u001b[0mresults\u001b[0m \u001b[1;33m=\u001b[0m \u001b[0mmultiple_matrix_factorization_SGD\u001b[0m\u001b[1;33m(\u001b[0m\u001b[0mtrain\u001b[0m\u001b[1;33m,\u001b[0m \u001b[0mtest\u001b[0m\u001b[1;33m,\u001b[0m \u001b[0mnum_epochs\u001b[0m\u001b[1;33m=\u001b[0m\u001b[1;36m500\u001b[0m\u001b[1;33m,\u001b[0m \u001b[0mntries\u001b[0m\u001b[1;33m=\u001b[0m\u001b[1;36m5\u001b[0m\u001b[1;33m)\u001b[0m\u001b[1;33m\u001b[0m\u001b[0m\n\u001b[0m\u001b[0;32m      6\u001b[0m \u001b[0mrmse\u001b[0m\u001b[1;33m,\u001b[0m \u001b[0muser_features\u001b[0m\u001b[1;33m,\u001b[0m \u001b[0mitem_features\u001b[0m \u001b[1;33m=\u001b[0m \u001b[0mpick_lowest_rmse\u001b[0m\u001b[1;33m(\u001b[0m\u001b[0mtest\u001b[0m\u001b[1;33m,\u001b[0m \u001b[0mresults\u001b[0m\u001b[1;33m,\u001b[0m \u001b[0mtest\u001b[0m\u001b[1;33m.\u001b[0m\u001b[0mnonzero\u001b[0m\u001b[1;33m(\u001b[0m\u001b[1;33m)\u001b[0m\u001b[1;33m)\u001b[0m\u001b[1;33m\u001b[0m\u001b[0m\n\u001b[0;32m      7\u001b[0m \u001b[0mprint\u001b[0m\u001b[1;33m(\u001b[0m\u001b[0mrmse\u001b[0m\u001b[1;33m)\u001b[0m\u001b[1;33m\u001b[0m\u001b[0m\n",
      "\u001b[1;32mC:\\Users\\Melkior\\Documents\\EPFL\\Master semester 1\\Pattern Classification and Machine Learning\\project 2\\recommender_system\\Notebook\\matrix_factorization.py\u001b[0m in \u001b[0;36mmultiple_matrix_factorization_SGD\u001b[1;34m(train, test, num_epochs, num_features, ntries)\u001b[0m\n\u001b[0;32m    126\u001b[0m     \u001b[0mresults\u001b[0m \u001b[1;33m=\u001b[0m \u001b[1;33m[\u001b[0m\u001b[1;33m]\u001b[0m\u001b[1;33m\u001b[0m\u001b[0m\n\u001b[0;32m    127\u001b[0m     \u001b[1;32mfor\u001b[0m \u001b[0mi\u001b[0m \u001b[1;32min\u001b[0m \u001b[0mrange\u001b[0m\u001b[1;33m(\u001b[0m\u001b[0mntries\u001b[0m\u001b[1;33m)\u001b[0m\u001b[1;33m:\u001b[0m\u001b[1;33m\u001b[0m\u001b[0m\n\u001b[1;32m--> 128\u001b[1;33m         \u001b[0muser_features\u001b[0m\u001b[1;33m,\u001b[0m \u001b[0mitem_features\u001b[0m \u001b[1;33m=\u001b[0m \u001b[0mmatrix_factorization_SGD\u001b[0m\u001b[1;33m(\u001b[0m\u001b[0mtrain\u001b[0m\u001b[1;33m,\u001b[0m \u001b[0mtest\u001b[0m\u001b[1;33m,\u001b[0m \u001b[0mnum_epochs\u001b[0m\u001b[1;33m,\u001b[0m \u001b[0mnum_features\u001b[0m\u001b[1;33m)\u001b[0m\u001b[1;33m\u001b[0m\u001b[0m\n\u001b[0m\u001b[0;32m    129\u001b[0m         \u001b[0mresults\u001b[0m\u001b[1;33m.\u001b[0m\u001b[0mappend\u001b[0m\u001b[1;33m(\u001b[0m\u001b[1;33m(\u001b[0m\u001b[0muser_features\u001b[0m\u001b[1;33m,\u001b[0m \u001b[0mitem_features\u001b[0m\u001b[1;33m)\u001b[0m\u001b[1;33m)\u001b[0m\u001b[1;33m\u001b[0m\u001b[0m\n\u001b[0;32m    130\u001b[0m     \u001b[1;32mreturn\u001b[0m \u001b[0mresults\u001b[0m\u001b[1;33m\u001b[0m\u001b[0m\n",
      "\u001b[1;32mC:\\Users\\Melkior\\Documents\\EPFL\\Master semester 1\\Pattern Classification and Machine Learning\\project 2\\recommender_system\\Notebook\\matrix_factorization.py\u001b[0m in \u001b[0;36mmatrix_factorization_SGD\u001b[1;34m(train, test, num_epochs, num_features)\u001b[0m\n\u001b[0;32m     89\u001b[0m         \u001b[0mnb\u001b[0m \u001b[1;33m=\u001b[0m \u001b[0mint\u001b[0m\u001b[1;33m(\u001b[0m\u001b[0mlen\u001b[0m\u001b[1;33m(\u001b[0m\u001b[0mnz_train\u001b[0m\u001b[1;33m)\u001b[0m\u001b[1;33m/\u001b[0m\u001b[1;33m(\u001b[0m\u001b[1;36m5\u001b[0m\u001b[1;33m+\u001b[0m\u001b[0mnp\u001b[0m\u001b[1;33m.\u001b[0m\u001b[0msqrt\u001b[0m\u001b[1;33m(\u001b[0m\u001b[0mit\u001b[0m\u001b[1;33m)\u001b[0m\u001b[1;33m)\u001b[0m\u001b[1;33m)\u001b[0m\u001b[1;33m\u001b[0m\u001b[0m\n\u001b[0;32m     90\u001b[0m         \u001b[1;32mfor\u001b[0m \u001b[0md\u001b[0m\u001b[1;33m,\u001b[0m \u001b[0mn\u001b[0m \u001b[1;32min\u001b[0m \u001b[0mnz_train\u001b[0m\u001b[1;33m[\u001b[0m\u001b[1;33m:\u001b[0m\u001b[0mnb\u001b[0m\u001b[1;33m]\u001b[0m\u001b[1;33m:\u001b[0m\u001b[1;33m\u001b[0m\u001b[0m\n\u001b[1;32m---> 91\u001b[1;33m             \u001b[0mpred_error\u001b[0m \u001b[1;33m=\u001b[0m \u001b[0mtrain\u001b[0m\u001b[1;33m[\u001b[0m\u001b[0md\u001b[0m\u001b[1;33m,\u001b[0m \u001b[0mn\u001b[0m\u001b[1;33m]\u001b[0m \u001b[1;33m-\u001b[0m \u001b[0mpred\u001b[0m\u001b[1;33m[\u001b[0m\u001b[0md\u001b[0m\u001b[1;33m,\u001b[0m \u001b[0mn\u001b[0m\u001b[1;33m]\u001b[0m\u001b[1;33m\u001b[0m\u001b[0m\n\u001b[0m\u001b[0;32m     92\u001b[0m             \u001b[1;31m#compute gradients\u001b[0m\u001b[1;33m\u001b[0m\u001b[1;33m\u001b[0m\u001b[0m\n\u001b[0;32m     93\u001b[0m             \u001b[0mitem_grad\u001b[0m\u001b[1;33m[\u001b[0m\u001b[0md\u001b[0m\u001b[1;33m,\u001b[0m\u001b[1;33m:\u001b[0m\u001b[1;33m]\u001b[0m \u001b[1;33m+=\u001b[0m \u001b[0mpred_error\u001b[0m \u001b[1;33m*\u001b[0m \u001b[0muser_features\u001b[0m\u001b[1;33m[\u001b[0m\u001b[0mn\u001b[0m\u001b[1;33m,\u001b[0m\u001b[1;33m:\u001b[0m\u001b[1;33m]\u001b[0m \u001b[1;33m*\u001b[0m \u001b[0mgamma\u001b[0m\u001b[1;33m\u001b[0m\u001b[0m\n",
      "\u001b[1;32mC:\\Users\\Melkior\\Anaconda3\\lib\\site-packages\\numpy\\matrixlib\\defmatrix.py\u001b[0m in \u001b[0;36m__getitem__\u001b[1;34m(self, index)\u001b[0m\n\u001b[0;32m    316\u001b[0m \u001b[1;33m\u001b[0m\u001b[0m\n\u001b[0;32m    317\u001b[0m         \u001b[1;32mtry\u001b[0m\u001b[1;33m:\u001b[0m\u001b[1;33m\u001b[0m\u001b[0m\n\u001b[1;32m--> 318\u001b[1;33m             \u001b[0mout\u001b[0m \u001b[1;33m=\u001b[0m \u001b[0mN\u001b[0m\u001b[1;33m.\u001b[0m\u001b[0mndarray\u001b[0m\u001b[1;33m.\u001b[0m\u001b[0m__getitem__\u001b[0m\u001b[1;33m(\u001b[0m\u001b[0mself\u001b[0m\u001b[1;33m,\u001b[0m \u001b[0mindex\u001b[0m\u001b[1;33m)\u001b[0m\u001b[1;33m\u001b[0m\u001b[0m\n\u001b[0m\u001b[0;32m    319\u001b[0m         \u001b[1;32mfinally\u001b[0m\u001b[1;33m:\u001b[0m\u001b[1;33m\u001b[0m\u001b[0m\n\u001b[0;32m    320\u001b[0m             \u001b[0mself\u001b[0m\u001b[1;33m.\u001b[0m\u001b[0m_getitem\u001b[0m \u001b[1;33m=\u001b[0m \u001b[1;32mFalse\u001b[0m\u001b[1;33m\u001b[0m\u001b[0m\n",
      "\u001b[1;31mKeyboardInterrupt\u001b[0m: "
     ]
    }
   ],
   "source": [
    "from matrix_factorization import multiple_matrix_factorization_SGD\n",
    "from helpers import pick_lowest_rmse\n",
    "# set seed\n",
    "np.random.seed(988)\n",
    "results = multiple_matrix_factorization_SGD(train, test, num_epochs=500, ntries=5)\n",
    "rmse, user_features, item_features = pick_lowest_rmse(test, results, test.nonzero())\n",
    "print(rmse)"
   ]
  },
  {
   "cell_type": "code",
   "execution_count": null,
   "metadata": {
    "collapsed": false
   },
   "outputs": [],
   "source": [
    "from helpers import exportSubmission\n",
    "pred =  (item_features @ user_features.T)\n",
    "exportSubmission(\"data/submission_MF.csv\", pred)"
   ]
  },
  {
   "cell_type": "code",
   "execution_count": null,
   "metadata": {
    "collapsed": false
   },
   "outputs": [],
   "source": [
    "from matrix_factorization import matrix_factorization_SGD\n",
    "from helpers import compute_error\n",
    "user_features_list = []\n",
    "item_features_list = []\n",
    "errors = []\n",
    "for i in np.arange(1, 10, 1):\n",
    "    user_features, item_features = matrix_factorization_SGD(train, test, num_epochs = 1000, num_features = i)\n",
    "    user_features_list.append(user_features)\n",
    "    item_features_list.append(item_features)\n",
    "    error = compute_error(test, user_features, item_features, test.nonzero())\n",
    "    errors.append(error)\n"
   ]
  },
  {
   "cell_type": "code",
   "execution_count": null,
   "metadata": {
    "collapsed": false
   },
   "outputs": [],
   "source": [
    "from plots import visualization\n",
    "visualization(np.arange(5, 40, 5),errors,errors)\n",
    "print(errors)"
   ]
  },
  {
   "cell_type": "code",
   "execution_count": null,
   "metadata": {
    "collapsed": false
   },
   "outputs": [],
   "source": [
    "from plots import visualization\n",
    "visualization(np.arange(1, 10, 1),errors,errors)\n",
    "print(errors)"
   ]
  },
  {
   "cell_type": "code",
   "execution_count": null,
   "metadata": {
    "collapsed": false
   },
   "outputs": [],
   "source": [
    "user_features = user_features_list[2]\n",
    "item_features = item_features_list[2]\n",
    "compute_error(test, user_features, item_features, test.nonzero())"
   ]
  },
  {
   "cell_type": "code",
   "execution_count": 15,
   "metadata": {
    "collapsed": false
   },
   "outputs": [
    {
     "name": "stdout",
     "output_type": "stream",
     "text": [
      "iter: k = 20, RMSE on training set: 1.3590004004664478.\n",
      "learn the matrix factorization using SGD...\n",
      "iter: 0, RMSE on training set: 2.060481391919996.\n",
      "iter: 0, RMSE on test set: 2.0274418399407987.\n",
      "iter: 10, RMSE on training set: 1.1139318626159471.\n",
      "iter: 10, RMSE on test set: 1.0804890756110932.\n",
      "iter: 20, RMSE on training set: 1.0543331172817871.\n",
      "iter: 20, RMSE on test set: 1.0205776556431014.\n",
      "iter: 30, RMSE on training set: 1.034981486758187.\n",
      "iter: 30, RMSE on test set: 1.0010751321048152.\n",
      "iter: 40, RMSE on training set: 1.0255339630463778.\n",
      "iter: 40, RMSE on test set: 0.991672625525438.\n",
      "iter: 50, RMSE on training set: 1.0196575353889519.\n",
      "iter: 50, RMSE on test set: 0.9856760120613101.\n",
      "iter: 60, RMSE on training set: 1.0155526789724814.\n",
      "iter: 60, RMSE on test set: 0.9815021272664414.\n",
      "iter: 70, RMSE on training set: 1.0125362744284254.\n",
      "iter: 70, RMSE on test set: 0.9783968918871452.\n",
      "iter: 80, RMSE on training set: 1.0101760225466914.\n",
      "iter: 80, RMSE on test set: 0.9761061971459879.\n",
      "iter: 90, RMSE on training set: 1.008267694516571.\n",
      "iter: 90, RMSE on test set: 0.9742457685589861.\n",
      "iter: 100, RMSE on training set: 1.0066356945045607.\n",
      "iter: 100, RMSE on test set: 0.9725094805935811.\n",
      "iter: 110, RMSE on training set: 1.005295739044665.\n",
      "iter: 110, RMSE on test set: 0.9711107002849698.\n",
      "iter: 120, RMSE on training set: 1.0040983826665988.\n",
      "iter: 120, RMSE on test set: 0.9697861128240872.\n",
      "iter: 130, RMSE on training set: 1.003058050787114.\n",
      "iter: 130, RMSE on test set: 0.9688557786008005.\n",
      "iter: 140, RMSE on training set: 1.00208735797934.\n",
      "iter: 140, RMSE on test set: 0.9678292087056541.\n",
      "iter: 150, RMSE on training set: 1.001295009221603.\n",
      "iter: 150, RMSE on test set: 0.9670857447272593.\n",
      "iter: 160, RMSE on training set: 1.0005214542244958.\n",
      "iter: 160, RMSE on test set: 0.966264863019168.\n"
     ]
    },
    {
     "data": {
      "image/png": "[encoded data removed]",
      "text/plain": [
       "<matplotlib.figure.Figure at 0x1f354c937f0>"
      ]
     },
     "metadata": {},
     "output_type": "display_data"
    }
   ],
   "source": [
    "from matrix_factorization import matrix_factorization_SGD\n",
    "user_features, item_features = matrix_factorization_SGD(valid_ratings, test, num_epochs = 300, num_features = 20)"
   ]
  },
  {
   "cell_type": "code",
   "execution_count": 17,
   "metadata": {
    "collapsed": false
   },
   "outputs": [],
   "source": [
    "from biaises import biaises\n",
    "np.save(\"data/features/best2_user_features.npy\", user_features)\n",
    "np.save(\"data/features/best2_item_features.npy\", item_features)\n",
    "np.save(\"data/biaises.npy\", biaises(valid_ratings))"
   ]
  },
  {
   "cell_type": "markdown",
   "metadata": {},
   "source": [
    "### Learn the Matrix Factorization using Alternating Least Squares"
   ]
  },
  {
   "cell_type": "code",
   "execution_count": null,
   "metadata": {
    "collapsed": true
   },
   "outputs": [],
   "source": [
    "def update_user_feature(\n",
    "        train, item_features, lambda_user,\n",
    "        nnz_items_per_user, nz_user_itemindices):\n",
    "    \"\"\"update user feature matrix.\"\"\"\n",
    "    # ***************************************************\n",
    "    # INSERT YOUR CODE HERE\n",
    "    # TODO\n",
    "    # update and return user feature.\n",
    "    # ***************************************************\n",
    "    raise NotImplementedError\n",
    "\n",
    "def update_item_feature(\n",
    "        train, user_features, lambda_item,\n",
    "        nnz_users_per_item, nz_item_userindices):\n",
    "    \"\"\"update item feature matrix.\"\"\"\n",
    "    # ***************************************************\n",
    "    # INSERT YOUR CODE HERE\n",
    "    # TODO\n",
    "    # update and return item feature.\n",
    "    # ***************************************************\n",
    "    raise NotImplementedError"
   ]
  },
  {
   "cell_type": "code",
   "execution_count": null,
   "metadata": {
    "collapsed": false
   },
   "outputs": [],
   "source": [
    "from helpers import build_index_groups\n",
    "\n",
    "\n",
    "def ALS(train, test):\n",
    "    \"\"\"Alternating Least Squares (ALS) algorithm.\"\"\"\n",
    "    # define parameters\n",
    "    num_features = 20   # K in the lecture notes\n",
    "    lambda_user = 0.1\n",
    "    lambda_item = 0.7\n",
    "    stop_criterion = 1e-4\n",
    "    change = 1\n",
    "    error_list = [0, 0]\n",
    "    \n",
    "    # set seed\n",
    "    np.random.seed(988)\n",
    "\n",
    "    # init ALS\n",
    "    user_features, item_features = init_MF(train, num_features)\n",
    "    \n",
    "    # ***************************************************\n",
    "    # INSERT YOUR CODE HERE\n",
    "    # TODO\n",
    "    # start you ALS-WR algorithm.\n",
    "    # ***************************************************\n",
    "    raise NotImplementedError\n",
    "\n",
    "ALS(train, test)"
   ]
  },
  {
   "cell_type": "code",
   "execution_count": null,
   "metadata": {
    "collapsed": true
   },
   "outputs": [],
   "source": [
    "###Computing prediction"
   ]
  },
  {
   "cell_type": "code",
   "execution_count": null,
   "metadata": {
    "collapsed": true
   },
   "outputs": [],
   "source": [
    "pred = np.ones(valid_ratings.shape)\n",
    "for col in range(valid_ratings.shape[0]):\n",
    "    pred[col,:] *= ratings_means_list[col]\n",
    "    \n",
    "exportSubmission(\"data/final_submission.csv\", pred)"
   ]
  }
 ],
 "metadata": {
  "anaconda-cloud": {},
  "kernelspec": {
   "display_name": "Python [Root]",
   "language": "python",
   "name": "Python [Root]"
  },
  "language_info": {
   "codemirror_mode": {
    "name": "ipython",
    "version": 3
   },
   "file_extension": ".py",
   "mimetype": "text/x-python",
   "name": "python",
   "nbconvert_exporter": "python",
   "pygments_lexer": "ipython3",
   "version": "3.5.2"
  }
 },
 "nbformat": 4,
 "nbformat_minor": 0
}
