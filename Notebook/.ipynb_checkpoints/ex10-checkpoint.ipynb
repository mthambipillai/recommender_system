{
 "cells": [
  {
   "cell_type": "code",
   "execution_count": 1,
   "metadata": {
    "collapsed": false
   },
   "outputs": [],
   "source": [
    "# Useful starting lines\n",
    "%matplotlib inline\n",
    "\n",
    "import numpy as np\n",
    "import scipy\n",
    "import scipy.io\n",
    "import scipy.sparse as sp\n",
    "import matplotlib.pyplot as plt\n",
    "%load_ext autoreload\n",
    "%autoreload 2"
   ]
  },
  {
   "cell_type": "markdown",
   "metadata": {},
   "source": [
    "## Load the Data\n",
    "Note that `ratings` is a sparse matrix that in the shape of (num_items, num_users)"
   ]
  },
  {
   "cell_type": "code",
   "execution_count": 2,
   "metadata": {
    "collapsed": false
   },
   "outputs": [
    {
     "name": "stdout",
     "output_type": "stream",
     "text": [
      "number of items: 1000, number of users: 10000\n"
     ]
    }
   ],
   "source": [
    "from helpers import load_data, preprocess_data\n",
    "\n",
    "path_dataset = \"data/data_train.csv\"\n",
    "ratings = load_data(path_dataset)"
   ]
  },
  {
   "cell_type": "markdown",
   "metadata": {},
   "source": [
    "### Plot the number of ratings per movie and user"
   ]
  },
  {
   "cell_type": "code",
   "execution_count": 3,
   "metadata": {
    "collapsed": false,
    "scrolled": true
   },
   "outputs": [
    {
     "data": {
      "image/png": "[encoded data removed]",
      "text/plain": [
       "<matplotlib.figure.Figure at 0x217b5242da0>"
      ]
     },
     "metadata": {},
     "output_type": "display_data"
    },
    {
     "name": "stdout",
     "output_type": "stream",
     "text": [
      "min # of items per user = 3, min # of users per item = 8.\n"
     ]
    }
   ],
   "source": [
    "from plots import plot_raw_data\n",
    "\n",
    "num_items_per_user, num_users_per_item = plot_raw_data(ratings)\n",
    "\n",
    "print(\"min # of items per user = {}, min # of users per item = {}.\".format(\n",
    "        min(num_items_per_user), min(num_users_per_item)))"
   ]
  },
  {
   "cell_type": "markdown",
   "metadata": {},
   "source": [
    "### Split the data into a train and test set"
   ]
  },
  {
   "cell_type": "code",
   "execution_count": 4,
   "metadata": {
    "collapsed": false,
    "scrolled": true
   },
   "outputs": [
    {
     "name": "stdout",
     "output_type": "stream",
     "text": [
      "1000 10000\n",
      "1176873\n",
      "1176873\n",
      "Total number of nonzero elements in original data:1176873\n",
      "Total number of nonzero elements in train data:1058916\n",
      "Total number of nonzero elements in test data:117957\n"
     ]
    }
   ],
   "source": [
    "from plots import plot_train_test_data\n",
    "from helpers import split_data\n",
    "\n",
    "valid_ratings, train_unfiltered, test = split_data(\n",
    "    ratings, num_items_per_user, num_users_per_item, min_num_ratings=10, p_test=0.1)\n"
   ]
  },
  {
   "cell_type": "code",
   "execution_count": 33,
   "metadata": {
    "collapsed": false
   },
   "outputs": [
    {
     "name": "stdout",
     "output_type": "stream",
     "text": [
      "number of filtered ratings : 2086\n"
     ]
    }
   ],
   "source": [
    "from outliers_filtering import *\n",
    "#d = disagreements(train_unfiltered)\n",
    "#plot_disagreements(d)\n",
    "#train = filter_outliers(train_unfiltered,d)\n",
    "#nfiltered = train_unfiltered.nnz - train.nnz\n",
    "#print(\"number of filtered ratings : {}\".format(nfiltered))\n",
    "train = train_unfiltered"
   ]
  },
  {
   "cell_type": "code",
   "execution_count": 47,
   "metadata": {
    "collapsed": false
   },
   "outputs": [
    {
     "ename": "KeyboardInterrupt",
     "evalue": "",
     "output_type": "error",
     "traceback": [
      "\u001b[1;31m---------------------------------------------------------------------------\u001b[0m",
      "\u001b[1;31mKeyboardInterrupt\u001b[0m                         Traceback (most recent call last)",
      "\u001b[1;32m<ipython-input-47-d7afaa1084ab>\u001b[0m in \u001b[0;36m<module>\u001b[1;34m()\u001b[0m\n\u001b[0;32m      1\u001b[0m \u001b[1;32mfrom\u001b[0m \u001b[0moutliers_filtering\u001b[0m \u001b[1;32mimport\u001b[0m \u001b[0mthreshold_tests\u001b[0m\u001b[1;33m\u001b[0m\u001b[0m\n\u001b[1;32m----> 2\u001b[1;33m \u001b[0mthreshold_tests\u001b[0m\u001b[1;33m(\u001b[0m\u001b[0md\u001b[0m\u001b[1;33m,\u001b[0m \u001b[0mtrain_unfiltered\u001b[0m\u001b[1;33m,\u001b[0m \u001b[0mvalid_ratings\u001b[0m\u001b[1;33m,\u001b[0m \u001b[0mtest\u001b[0m\u001b[1;33m)\u001b[0m\u001b[1;33m\u001b[0m\u001b[0m\n\u001b[0m",
      "\u001b[1;32mC:\\Users\\Melkior\\Documents\\EPFL\\Master semester 1\\Pattern Classification and Machine Learning\\project 2\\recommender_system\\Notebook\\outliers_filtering.py\u001b[0m in \u001b[0;36mthreshold_tests\u001b[1;34m(d, train_unfiltered, valid_ratings, test)\u001b[0m\n\u001b[0;32m     59\u001b[0m         \u001b[1;32mfor\u001b[0m \u001b[0mcol\u001b[0m \u001b[1;32min\u001b[0m \u001b[0mrange\u001b[0m\u001b[1;33m(\u001b[0m\u001b[0mtrain_i\u001b[0m\u001b[1;33m.\u001b[0m\u001b[0mshape\u001b[0m\u001b[1;33m[\u001b[0m\u001b[1;36m0\u001b[0m\u001b[1;33m]\u001b[0m\u001b[1;33m)\u001b[0m\u001b[1;33m:\u001b[0m\u001b[1;33m\u001b[0m\u001b[0m\n\u001b[0;32m     60\u001b[0m             \u001b[0mpred\u001b[0m\u001b[1;33m[\u001b[0m\u001b[0mcol\u001b[0m\u001b[1;33m,\u001b[0m\u001b[1;33m:\u001b[0m\u001b[1;33m]\u001b[0m \u001b[1;33m*=\u001b[0m \u001b[0mtrain_means_list\u001b[0m\u001b[1;33m[\u001b[0m\u001b[0mcol\u001b[0m\u001b[1;33m]\u001b[0m\u001b[1;33m\u001b[0m\u001b[0m\n\u001b[1;32m---> 61\u001b[1;33m         \u001b[0mrmse\u001b[0m \u001b[1;33m=\u001b[0m \u001b[0mcompute_rmse\u001b[0m\u001b[1;33m(\u001b[0m\u001b[0mvalid_ratings\u001b[0m\u001b[1;33m,\u001b[0m \u001b[0mpred\u001b[0m\u001b[1;33m)\u001b[0m\u001b[1;33m\u001b[0m\u001b[0m\n\u001b[0m\u001b[0;32m     62\u001b[0m         \u001b[0merrors\u001b[0m\u001b[1;33m.\u001b[0m\u001b[0mappend\u001b[0m\u001b[1;33m(\u001b[0m\u001b[0mrmse\u001b[0m\u001b[1;33m)\u001b[0m\u001b[1;33m\u001b[0m\u001b[0m\n\u001b[0;32m     63\u001b[0m \u001b[1;33m\u001b[0m\u001b[0m\n",
      "\u001b[1;32mC:\\Users\\Melkior\\Documents\\EPFL\\Master semester 1\\Pattern Classification and Machine Learning\\project 2\\recommender_system\\Notebook\\baselines.py\u001b[0m in \u001b[0;36mcompute_rmse\u001b[1;34m(valid_ratings, pred)\u001b[0m\n\u001b[0;32m     30\u001b[0m \u001b[1;32mdef\u001b[0m \u001b[0mcompute_rmse\u001b[0m\u001b[1;33m(\u001b[0m\u001b[0mvalid_ratings\u001b[0m\u001b[1;33m,\u001b[0m \u001b[0mpred\u001b[0m\u001b[1;33m)\u001b[0m\u001b[1;33m:\u001b[0m\u001b[1;33m\u001b[0m\u001b[0m\n\u001b[0;32m     31\u001b[0m     \u001b[0mnz\u001b[0m \u001b[1;33m=\u001b[0m \u001b[0mvalid_ratings\u001b[0m\u001b[1;33m.\u001b[0m\u001b[0mnonzero\u001b[0m\u001b[1;33m(\u001b[0m\u001b[1;33m)\u001b[0m\u001b[1;33m\u001b[0m\u001b[0m\n\u001b[1;32m---> 32\u001b[1;33m     \u001b[0mdiff\u001b[0m \u001b[1;33m=\u001b[0m \u001b[0mvalid_ratings\u001b[0m\u001b[1;33m[\u001b[0m\u001b[0mnz\u001b[0m\u001b[1;33m]\u001b[0m \u001b[1;33m-\u001b[0m \u001b[0mpred\u001b[0m\u001b[1;33m[\u001b[0m\u001b[0mnz\u001b[0m\u001b[1;33m]\u001b[0m\u001b[1;33m\u001b[0m\u001b[0m\n\u001b[0m\u001b[0;32m     33\u001b[0m     \u001b[0mrmse\u001b[0m \u001b[1;33m=\u001b[0m \u001b[0mnp\u001b[0m\u001b[1;33m.\u001b[0m\u001b[0msqrt\u001b[0m\u001b[1;33m(\u001b[0m\u001b[0mnp\u001b[0m\u001b[1;33m.\u001b[0m\u001b[0msum\u001b[0m\u001b[1;33m(\u001b[0m\u001b[0mnp\u001b[0m\u001b[1;33m.\u001b[0m\u001b[0msquare\u001b[0m\u001b[1;33m(\u001b[0m\u001b[0mdiff\u001b[0m\u001b[1;33m)\u001b[0m\u001b[1;33m)\u001b[0m \u001b[1;33m/\u001b[0m \u001b[0mlen\u001b[0m\u001b[1;33m(\u001b[0m\u001b[0mnz\u001b[0m\u001b[1;33m[\u001b[0m\u001b[1;36m0\u001b[0m\u001b[1;33m]\u001b[0m\u001b[1;33m)\u001b[0m\u001b[1;33m)\u001b[0m\u001b[1;33m\u001b[0m\u001b[0m\n\u001b[0;32m     34\u001b[0m     \u001b[1;32mreturn\u001b[0m \u001b[0mrmse\u001b[0m\u001b[1;33m\u001b[0m\u001b[0m\n",
      "\u001b[1;32mC:\\Users\\Melkior\\Anaconda3\\lib\\site-packages\\scipy\\sparse\\base.py\u001b[0m in \u001b[0;36m__sub__\u001b[1;34m(self, other)\u001b[0m\n\u001b[0;32m    285\u001b[0m     \u001b[1;32mdef\u001b[0m \u001b[0m__sub__\u001b[0m\u001b[1;33m(\u001b[0m\u001b[0mself\u001b[0m\u001b[1;33m,\u001b[0m \u001b[0mother\u001b[0m\u001b[1;33m)\u001b[0m\u001b[1;33m:\u001b[0m   \u001b[1;31m# self - other\u001b[0m\u001b[1;33m\u001b[0m\u001b[0m\n\u001b[0;32m    286\u001b[0m         \u001b[1;31m# note: this can't be replaced by self + (-other) for unsigned types\u001b[0m\u001b[1;33m\u001b[0m\u001b[1;33m\u001b[0m\u001b[0m\n\u001b[1;32m--> 287\u001b[1;33m         \u001b[1;32mreturn\u001b[0m \u001b[0mself\u001b[0m\u001b[1;33m.\u001b[0m\u001b[0mtocsr\u001b[0m\u001b[1;33m(\u001b[0m\u001b[1;33m)\u001b[0m\u001b[1;33m.\u001b[0m\u001b[0m__sub__\u001b[0m\u001b[1;33m(\u001b[0m\u001b[0mother\u001b[0m\u001b[1;33m)\u001b[0m\u001b[1;33m\u001b[0m\u001b[0m\n\u001b[0m\u001b[0;32m    288\u001b[0m \u001b[1;33m\u001b[0m\u001b[0m\n\u001b[0;32m    289\u001b[0m     \u001b[1;32mdef\u001b[0m \u001b[0m__rsub__\u001b[0m\u001b[1;33m(\u001b[0m\u001b[0mself\u001b[0m\u001b[1;33m,\u001b[0m \u001b[0mother\u001b[0m\u001b[1;33m)\u001b[0m\u001b[1;33m:\u001b[0m  \u001b[1;31m# other - self\u001b[0m\u001b[1;33m\u001b[0m\u001b[0m\n",
      "\u001b[1;32mC:\\Users\\Melkior\\Anaconda3\\lib\\site-packages\\scipy\\sparse\\lil.py\u001b[0m in \u001b[0;36mtocsr\u001b[1;34m(self)\u001b[0m\n\u001b[0;32m    383\u001b[0m         \u001b[1;32mfor\u001b[0m \u001b[0mx\u001b[0m \u001b[1;32min\u001b[0m \u001b[0mself\u001b[0m\u001b[1;33m.\u001b[0m\u001b[0mrows\u001b[0m\u001b[1;33m:\u001b[0m\u001b[1;33m\u001b[0m\u001b[0m\n\u001b[0;32m    384\u001b[0m             \u001b[0mindices\u001b[0m\u001b[1;33m.\u001b[0m\u001b[0mextend\u001b[0m\u001b[1;33m(\u001b[0m\u001b[0mx\u001b[0m\u001b[1;33m)\u001b[0m\u001b[1;33m\u001b[0m\u001b[0m\n\u001b[1;32m--> 385\u001b[1;33m         \u001b[0mindices\u001b[0m \u001b[1;33m=\u001b[0m \u001b[0mnp\u001b[0m\u001b[1;33m.\u001b[0m\u001b[0masarray\u001b[0m\u001b[1;33m(\u001b[0m\u001b[0mindices\u001b[0m\u001b[1;33m,\u001b[0m \u001b[0mdtype\u001b[0m\u001b[1;33m=\u001b[0m\u001b[0midx_dtype\u001b[0m\u001b[1;33m)\u001b[0m\u001b[1;33m\u001b[0m\u001b[0m\n\u001b[0m\u001b[0;32m    386\u001b[0m \u001b[1;33m\u001b[0m\u001b[0m\n\u001b[0;32m    387\u001b[0m         \u001b[0mdata\u001b[0m \u001b[1;33m=\u001b[0m \u001b[1;33m[\u001b[0m\u001b[1;33m]\u001b[0m\u001b[1;33m\u001b[0m\u001b[0m\n",
      "\u001b[1;31mKeyboardInterrupt\u001b[0m: "
     ]
    }
   ],
   "source": [
    "from outliers_filtering import threshold_tests\n",
    "threshold_tests(d, train_unfiltered, valid_ratings, test)"
   ]
  },
  {
   "cell_type": "code",
   "execution_count": 44,
   "metadata": {
    "collapsed": false
   },
   "outputs": [
    {
     "data": {
      "image/png": "[encoded data removed]",
      "text/plain": [
       "<matplotlib.figure.Figure at 0x217b5f66978>"
      ]
     },
     "metadata": {},
     "output_type": "display_data"
    }
   ],
   "source": []
  },
  {
   "cell_type": "markdown",
   "metadata": {},
   "source": [
    "## Implementing Baselines "
   ]
  },
  {
   "cell_type": "markdown",
   "metadata": {},
   "source": [
    "### Use the global mean to do the prediction"
   ]
  },
  {
   "cell_type": "code",
   "execution_count": 37,
   "metadata": {
    "collapsed": false,
    "scrolled": true
   },
   "outputs": [
    {
     "name": "stdout",
     "output_type": "stream",
     "text": [
      "1.11567752157\n",
      "1.11906520486\n",
      "3.0\n",
      "3.05\n",
      "3.1\n",
      "3.15\n",
      "3.2\n",
      "3.25\n",
      "3.3\n",
      "3.35\n",
      "3.4\n",
      "3.45\n",
      "3.5\n",
      "3.55\n",
      "3.6\n",
      "3.65\n",
      "3.7\n",
      "3.75\n",
      "3.8\n",
      "3.85\n",
      "3.9\n",
      "3.95\n"
     ]
    }
   ],
   "source": [
    "from helpers import calculate_mse\n",
    "from baselines import baseline_global_mean, compute_rmse\n",
    "\n",
    "train_mean, test_mean = baseline_global_mean(train, test)\n",
    "pred = np.ones(train.shape) * train_mean\n",
    "test_pred = np.ones(test.shape) * test_mean\n",
    "\n",
    "\n",
    "rmse_test = compute_rmse(test, test_pred)\n",
    "rmse_submission = compute_rmse(valid_ratings, pred)\n",
    "print(rmse_test)\n",
    "print(rmse_submission)"
   ]
  },
  {
   "cell_type": "markdown",
   "metadata": {},
   "source": [
    "### Use the user means as the prediction"
   ]
  },
  {
   "cell_type": "code",
   "execution_count": 35,
   "metadata": {
    "collapsed": false
   },
   "outputs": [
    {
     "name": "stdout",
     "output_type": "stream",
     "text": [
      "1.04098450678\n",
      "1.08564041423\n"
     ]
    }
   ],
   "source": [
    "from baselines import baseline_user_mean\n",
    "\n",
    "train_means, test_means = baseline_user_mean(train, test)\n",
    "train_means_list = train_means.tolist()\n",
    "pred = np.ones(train.shape)\n",
    "for col in range(train.shape[1]):\n",
    "    pred[:,col] *= train_means_list[0][col]\n",
    "test_means_list = test_means.tolist()\n",
    "test_pred = np.ones(test.shape)\n",
    "for col in range(test.shape[1]):\n",
    "    test_pred[:,col] *= test_means_list[0][col]\n",
    "\n",
    "rmse_test = compute_rmse(test, test_pred)\n",
    "rmse_submission = compute_rmse(valid_ratings, pred)\n",
    "print(rmse_test)\n",
    "print(rmse_submission)"
   ]
  },
  {
   "cell_type": "markdown",
   "metadata": {},
   "source": [
    "### Use the item means as the prediction"
   ]
  },
  {
   "cell_type": "code",
   "execution_count": 36,
   "metadata": {
    "collapsed": false
   },
   "outputs": [
    {
     "name": "stdout",
     "output_type": "stream",
     "text": [
      "1.02375140741\n",
      "1.02962450428\n",
      "number of items: 1000, number of users: 10000\n"
     ]
    }
   ],
   "source": [
    "from baselines import baseline_item_mean\n",
    "from helpers import exportSubmission\n",
    "\n",
    "train_means, test_means = baseline_item_mean(train, test)\n",
    "train_means_list = train_means.tolist()\n",
    "pred = np.ones(train.shape)\n",
    "for col in range(train.shape[0]):\n",
    "    pred[col,:] *= train_means_list[col]\n",
    "test_means_list = test_means.tolist()\n",
    "test_pred = np.ones(test.shape)\n",
    "for col in range(test.shape[0]):\n",
    "    test_pred[col,:] *= test_means_list[col]\n",
    "\n",
    "rmse_test = compute_rmse(test, test_pred)\n",
    "rmse_submission = compute_rmse(valid_ratings, pred)\n",
    "print(rmse_test)\n",
    "print(rmse_submission)\n",
    "\n",
    "exportSubmission(\"data/submission_item_mean.csv\", pred)"
   ]
  },
  {
   "cell_type": "markdown",
   "metadata": {},
   "source": [
    "### Learn the Matrix Factorization using SGD"
   ]
  },
  {
   "cell_type": "markdown",
   "metadata": {},
   "source": [
    "#### Initialize matrix factorization"
   ]
  },
  {
   "cell_type": "markdown",
   "metadata": {},
   "source": [
    "Compute the cost by the method of matrix factorization.\n"
   ]
  },
  {
   "cell_type": "code",
   "execution_count": 9,
   "metadata": {
    "collapsed": false
   },
   "outputs": [
    {
     "name": "stdout",
     "output_type": "stream",
     "text": [
      "iter: k = 20, RMSE on training set: 1.111073124141305.\n",
      "learn the matrix factorization using SGD...\n",
      "iter: 0, RMSE on training set: 1.0457723105958785.\n",
      "iter: 1, RMSE on training set: 1.0287825697590396.\n",
      "iter: 2, RMSE on training set: 1.0209463292528187.\n",
      "iter: 3, RMSE on training set: 1.0156257613897455.\n",
      "iter: 4, RMSE on training set: 1.0117709607788716.\n",
      "iter: 5, RMSE on training set: 1.008705076107168.\n",
      "iter: 6, RMSE on training set: 1.0061373299463756.\n",
      "iter: 7, RMSE on training set: 1.0040911840177809.\n",
      "iter: 8, RMSE on training set: 1.0022551378912383.\n",
      "iter: 9, RMSE on training set: 1.0006928750006923.\n",
      "iter: 10, RMSE on training set: 0.9992658340087964.\n",
      "iter: 11, RMSE on training set: 0.9980218939604355.\n",
      "iter: 12, RMSE on training set: 0.9968976691161776.\n",
      "iter: 13, RMSE on training set: 0.9958929707091057.\n",
      "iter: 14, RMSE on training set: 0.9949962779135805.\n",
      "iter: 15, RMSE on training set: 0.9941940005307146.\n",
      "iter: 16, RMSE on training set: 0.9933778295892053.\n",
      "iter: 17, RMSE on training set: 0.9927032221475591.\n",
      "iter: 18, RMSE on training set: 0.9920563970652674.\n",
      "iter: 19, RMSE on training set: 0.9914846569267016.\n",
      "iter: 20, RMSE on training set: 0.9909634011390815.\n",
      "iter: 21, RMSE on training set: 0.9904412280870935.\n",
      "iter: 22, RMSE on training set: 0.9900114483795963.\n",
      "iter: 23, RMSE on training set: 0.9896133974692568.\n",
      "iter: 24, RMSE on training set: 0.9891387851268244.\n",
      "iter: 25, RMSE on training set: 0.9887831872813491.\n",
      "iter: 26, RMSE on training set: 0.9883761090568381.\n",
      "iter: 27, RMSE on training set: 0.9879969680751114.\n",
      "iter: 28, RMSE on training set: 0.9876870293123904.\n",
      "iter: 29, RMSE on training set: 0.9873609481145849.\n",
      "iter: 30, RMSE on training set: 0.9870295137109059.\n",
      "iter: 31, RMSE on training set: 0.9868062245766888.\n",
      "iter: 32, RMSE on training set: 0.9865024812099363.\n",
      "iter: 33, RMSE on training set: 0.9862784543458792.\n",
      "iter: 34, RMSE on training set: 0.986034738447288.\n",
      "iter: 35, RMSE on training set: 0.9858997196951899.\n",
      "iter: 36, RMSE on training set: 0.9856220902944145.\n",
      "iter: 37, RMSE on training set: 0.9854254169893786.\n",
      "iter: 38, RMSE on training set: 0.9852159060212847.\n",
      "iter: 39, RMSE on training set: 0.9850391291214544.\n",
      "iter: 40, RMSE on training set: 0.9848929384196576.\n",
      "iter: 41, RMSE on training set: 0.9847102675298991.\n",
      "iter: 42, RMSE on training set: 0.9845668399051074.\n",
      "iter: 43, RMSE on training set: 0.9844051696869285.\n",
      "iter: 44, RMSE on training set: 0.9842812672417559.\n",
      "iter: 45, RMSE on training set: 0.9841591931909404.\n",
      "iter: 46, RMSE on training set: 0.9840153912132478.\n",
      "iter: 47, RMSE on training set: 0.9838849663147584.\n",
      "iter: 48, RMSE on training set: 0.9837633358377338.\n",
      "iter: 49, RMSE on training set: 0.9836496227911754.\n",
      "50\n",
      "50\n",
      "[  1.   2.   3.   4.   5.   6.   7.   8.   9.  10.  11.  12.  13.  14.  15.\n",
      "  16.  17.  18.  19.  20.  21.  22.  23.  24.  25.  26.  27.  28.  29.  30.\n",
      "  31.  32.  33.  34.  35.  36.  37.  38.  39.  40.  41.  42.  43.  44.  45.\n",
      "  46.  47.  48.  49.  50.]\n"
     ]
    },
    {
     "data": {
      "image/png": "[encoded data removed]",
      "text/plain": [
       "<matplotlib.figure.Figure at 0x217b5f42550>"
      ]
     },
     "metadata": {},
     "output_type": "display_data"
    }
   ],
   "source": [
    "from matrix_factorization import matrix_factorization_SGD\n",
    "user_features, item_features = matrix_factorization_SGD(train, test)"
   ]
  },
  {
   "cell_type": "code",
   "execution_count": 10,
   "metadata": {
    "collapsed": false
   },
   "outputs": [
    {
     "name": "stdout",
     "output_type": "stream",
     "text": [
      "0.997465632573\n"
     ]
    }
   ],
   "source": [
    "from helpers import compute_error\n",
    "print(compute_error(valid_ratings, user_features, item_features, valid_ratings.nonzero()))"
   ]
  },
  {
   "cell_type": "code",
   "execution_count": 11,
   "metadata": {
    "collapsed": false
   },
   "outputs": [
    {
     "name": "stdout",
     "output_type": "stream",
     "text": [
      "number of items: 1000, number of users: 10000\n"
     ]
    }
   ],
   "source": [
    "pred =  (item_features @ user_features.T)\n",
    "exportSubmission(\"data/submission_MF.csv\", pred)"
   ]
  },
  {
   "cell_type": "code",
   "execution_count": 12,
   "metadata": {
    "collapsed": false
   },
   "outputs": [
    {
     "name": "stdout",
     "output_type": "stream",
     "text": [
      "iter: k = 10, RMSE on training set: 1.111073124141305.\n",
      "learn the matrix factorization using SGD...\n",
      "iter: 0, RMSE on training set: 1.0457723105958785.\n",
      "iter: 1, RMSE on training set: 1.0287825697590396.\n",
      "iter: 2, RMSE on training set: 1.0209463292528187.\n",
      "iter: 3, RMSE on training set: 1.0156257613897455.\n",
      "iter: 4, RMSE on training set: 1.0117709607788716.\n",
      "iter: 5, RMSE on training set: 1.008705076107168.\n",
      "iter: 6, RMSE on training set: 1.0061373299463756.\n",
      "iter: 7, RMSE on training set: 1.0040911840177809.\n",
      "iter: 8, RMSE on training set: 1.0022551378912383.\n",
      "iter: 9, RMSE on training set: 1.0006928750006923.\n",
      "iter: 10, RMSE on training set: 0.9992658340087964.\n",
      "iter: 11, RMSE on training set: 0.9980218939604355.\n",
      "iter: 12, RMSE on training set: 0.9968976691161776.\n",
      "iter: 13, RMSE on training set: 0.9958929707091057.\n",
      "iter: 14, RMSE on training set: 0.9949962779135805.\n",
      "15\n",
      "15\n",
      "[  1.   2.   3.   4.   5.   6.   7.   8.   9.  10.  11.  12.  13.  14.  15.]\n",
      "iter: k = 12, RMSE on training set: 1.111073124141305.\n",
      "learn the matrix factorization using SGD...\n",
      "iter: 0, RMSE on training set: 1.0457723105958787.\n",
      "iter: 1, RMSE on training set: 1.0287825697590396.\n",
      "iter: 2, RMSE on training set: 1.0209463292528187.\n",
      "iter: 3, RMSE on training set: 1.0156257613897455.\n",
      "iter: 4, RMSE on training set: 1.0117709607788716.\n",
      "iter: 5, RMSE on training set: 1.008705076107168.\n",
      "iter: 6, RMSE on training set: 1.0061373299463756.\n",
      "iter: 7, RMSE on training set: 1.0040911840177806.\n",
      "iter: 8, RMSE on training set: 1.0022551378912383.\n",
      "iter: 9, RMSE on training set: 1.0006928750006923.\n",
      "iter: 10, RMSE on training set: 0.9992658340087963.\n",
      "iter: 11, RMSE on training set: 0.9980218939604355.\n",
      "iter: 12, RMSE on training set: 0.9968976691161776.\n",
      "iter: 13, RMSE on training set: 0.9958929707091057.\n",
      "iter: 14, RMSE on training set: 0.9949962779135805.\n",
      "15\n",
      "15\n",
      "[  1.   2.   3.   4.   5.   6.   7.   8.   9.  10.  11.  12.  13.  14.  15.]\n",
      "iter: k = 14, RMSE on training set: 1.111073124141305.\n",
      "learn the matrix factorization using SGD...\n",
      "iter: 0, RMSE on training set: 1.045772310595878.\n",
      "iter: 1, RMSE on training set: 1.0287825697590396.\n",
      "iter: 2, RMSE on training set: 1.0209463292528187.\n",
      "iter: 3, RMSE on training set: 1.0156257613897455.\n",
      "iter: 4, RMSE on training set: 1.0117709607788716.\n",
      "iter: 5, RMSE on training set: 1.008705076107168.\n",
      "iter: 6, RMSE on training set: 1.0061373299463756.\n",
      "iter: 7, RMSE on training set: 1.0040911840177809.\n",
      "iter: 8, RMSE on training set: 1.0022551378912383.\n",
      "iter: 9, RMSE on training set: 1.0006928750006925.\n",
      "iter: 10, RMSE on training set: 0.9992658340087963.\n",
      "iter: 11, RMSE on training set: 0.9980218939604355.\n",
      "iter: 12, RMSE on training set: 0.9968976691161776.\n",
      "iter: 13, RMSE on training set: 0.9958929707091057.\n",
      "iter: 14, RMSE on training set: 0.9949962779135805.\n",
      "15\n",
      "15\n",
      "[  1.   2.   3.   4.   5.   6.   7.   8.   9.  10.  11.  12.  13.  14.  15.]\n",
      "iter: k = 16, RMSE on training set: 1.1110731241413052.\n",
      "learn the matrix factorization using SGD...\n",
      "iter: 0, RMSE on training set: 1.0457723105958785.\n",
      "iter: 1, RMSE on training set: 1.0287825697590396.\n",
      "iter: 2, RMSE on training set: 1.0209463292528187.\n",
      "iter: 3, RMSE on training set: 1.0156257613897455.\n",
      "iter: 4, RMSE on training set: 1.0117709607788716.\n",
      "iter: 5, RMSE on training set: 1.008705076107168.\n",
      "iter: 6, RMSE on training set: 1.0061373299463756.\n",
      "iter: 7, RMSE on training set: 1.0040911840177809.\n",
      "iter: 8, RMSE on training set: 1.0022551378912383.\n",
      "iter: 9, RMSE on training set: 1.0006928750006923.\n",
      "iter: 10, RMSE on training set: 0.9992658340087963.\n",
      "iter: 11, RMSE on training set: 0.9980218939604355.\n",
      "iter: 12, RMSE on training set: 0.9968976691161776.\n",
      "iter: 13, RMSE on training set: 0.9958929707091057.\n",
      "iter: 14, RMSE on training set: 0.9949962779135804.\n",
      "15\n",
      "15\n",
      "[  1.   2.   3.   4.   5.   6.   7.   8.   9.  10.  11.  12.  13.  14.  15.]\n",
      "iter: k = 18, RMSE on training set: 1.111073124141305.\n",
      "learn the matrix factorization using SGD...\n",
      "iter: 0, RMSE on training set: 1.0457723105958785.\n",
      "iter: 1, RMSE on training set: 1.0287825697590396.\n",
      "iter: 2, RMSE on training set: 1.0209463292528187.\n",
      "iter: 3, RMSE on training set: 1.0156257613897455.\n",
      "iter: 4, RMSE on training set: 1.0117709607788716.\n",
      "iter: 5, RMSE on training set: 1.008705076107168.\n",
      "iter: 6, RMSE on training set: 1.0061373299463756.\n",
      "iter: 7, RMSE on training set: 1.0040911840177809.\n",
      "iter: 8, RMSE on training set: 1.0022551378912383.\n",
      "iter: 9, RMSE on training set: 1.0006928750006923.\n",
      "iter: 10, RMSE on training set: 0.9992658340087963.\n",
      "iter: 11, RMSE on training set: 0.9980218939604355.\n",
      "iter: 12, RMSE on training set: 0.9968976691161776.\n",
      "iter: 13, RMSE on training set: 0.9958929707091057.\n",
      "iter: 14, RMSE on training set: 0.9949962779135805.\n",
      "15\n",
      "15\n",
      "[  1.   2.   3.   4.   5.   6.   7.   8.   9.  10.  11.  12.  13.  14.  15.]\n"
     ]
    },
    {
     "data": {
      "image/png": "[encoded data removed]",
      "text/plain": [
       "<matplotlib.figure.Figure at 0x217c69d0c88>"
      ]
     },
     "metadata": {},
     "output_type": "display_data"
    }
   ],
   "source": [
    "errors = []\n",
    "for i in np.arange(10, 20, 2):\n",
    "    user_features, item_features = matrix_factorization_SGD(train, test, num_epochs = 15, num_features = i)\n",
    "    error = compute_error(valid_ratings, user_features, item_features, valid_ratings.nonzero())\n",
    "    errors.append(error)\n"
   ]
  },
  {
   "cell_type": "code",
   "execution_count": 13,
   "metadata": {
    "collapsed": false
   },
   "outputs": [
    {
     "data": {
      "image/png": "[encoded data removed]",
      "text/plain": [
       "<matplotlib.figure.Figure at 0x217b5f99470>"
      ]
     },
     "metadata": {},
     "output_type": "display_data"
    }
   ],
   "source": [
    "from plots import visualization\n",
    "visualization(np.arange(10, 20, 2),errors,errors)"
   ]
  },
  {
   "cell_type": "markdown",
   "metadata": {},
   "source": [
    "### Learn the Matrix Factorization using Alternating Least Squares"
   ]
  },
  {
   "cell_type": "code",
   "execution_count": 14,
   "metadata": {
    "collapsed": true
   },
   "outputs": [],
   "source": [
    "def update_user_feature(\n",
    "        train, item_features, lambda_user,\n",
    "        nnz_items_per_user, nz_user_itemindices):\n",
    "    \"\"\"update user feature matrix.\"\"\"\n",
    "    # ***************************************************\n",
    "    # INSERT YOUR CODE HERE\n",
    "    # TODO\n",
    "    # update and return user feature.\n",
    "    # ***************************************************\n",
    "    raise NotImplementedError\n",
    "\n",
    "def update_item_feature(\n",
    "        train, user_features, lambda_item,\n",
    "        nnz_users_per_item, nz_item_userindices):\n",
    "    \"\"\"update item feature matrix.\"\"\"\n",
    "    # ***************************************************\n",
    "    # INSERT YOUR CODE HERE\n",
    "    # TODO\n",
    "    # update and return item feature.\n",
    "    # ***************************************************\n",
    "    raise NotImplementedError"
   ]
  },
  {
   "cell_type": "code",
   "execution_count": 15,
   "metadata": {
    "collapsed": false
   },
   "outputs": [
    {
     "ename": "NameError",
     "evalue": "name 'init_MF' is not defined",
     "output_type": "error",
     "traceback": [
      "\u001b[1;31m---------------------------------------------------------------------------\u001b[0m",
      "\u001b[1;31mNameError\u001b[0m                                 Traceback (most recent call last)",
      "\u001b[1;32m<ipython-input-15-f20fcd385f3d>\u001b[0m in \u001b[0;36m<module>\u001b[1;34m()\u001b[0m\n\u001b[0;32m     25\u001b[0m     \u001b[1;32mraise\u001b[0m \u001b[0mNotImplementedError\u001b[0m\u001b[1;33m\u001b[0m\u001b[0m\n\u001b[0;32m     26\u001b[0m \u001b[1;33m\u001b[0m\u001b[0m\n\u001b[1;32m---> 27\u001b[1;33m \u001b[0mALS\u001b[0m\u001b[1;33m(\u001b[0m\u001b[0mtrain\u001b[0m\u001b[1;33m,\u001b[0m \u001b[0mtest\u001b[0m\u001b[1;33m)\u001b[0m\u001b[1;33m\u001b[0m\u001b[0m\n\u001b[0m",
      "\u001b[1;32m<ipython-input-15-f20fcd385f3d>\u001b[0m in \u001b[0;36mALS\u001b[1;34m(train, test)\u001b[0m\n\u001b[0;32m     16\u001b[0m \u001b[1;33m\u001b[0m\u001b[0m\n\u001b[0;32m     17\u001b[0m     \u001b[1;31m# init ALS\u001b[0m\u001b[1;33m\u001b[0m\u001b[1;33m\u001b[0m\u001b[0m\n\u001b[1;32m---> 18\u001b[1;33m     \u001b[0muser_features\u001b[0m\u001b[1;33m,\u001b[0m \u001b[0mitem_features\u001b[0m \u001b[1;33m=\u001b[0m \u001b[0minit_MF\u001b[0m\u001b[1;33m(\u001b[0m\u001b[0mtrain\u001b[0m\u001b[1;33m,\u001b[0m \u001b[0mnum_features\u001b[0m\u001b[1;33m)\u001b[0m\u001b[1;33m\u001b[0m\u001b[0m\n\u001b[0m\u001b[0;32m     19\u001b[0m \u001b[1;33m\u001b[0m\u001b[0m\n\u001b[0;32m     20\u001b[0m     \u001b[1;31m# ***************************************************\u001b[0m\u001b[1;33m\u001b[0m\u001b[1;33m\u001b[0m\u001b[0m\n",
      "\u001b[1;31mNameError\u001b[0m: name 'init_MF' is not defined"
     ]
    }
   ],
   "source": [
    "from helpers import build_index_groups\n",
    "\n",
    "\n",
    "def ALS(train, test):\n",
    "    \"\"\"Alternating Least Squares (ALS) algorithm.\"\"\"\n",
    "    # define parameters\n",
    "    num_features = 20   # K in the lecture notes\n",
    "    lambda_user = 0.1\n",
    "    lambda_item = 0.7\n",
    "    stop_criterion = 1e-4\n",
    "    change = 1\n",
    "    error_list = [0, 0]\n",
    "    \n",
    "    # set seed\n",
    "    np.random.seed(988)\n",
    "\n",
    "    # init ALS\n",
    "    user_features, item_features = init_MF(train, num_features)\n",
    "    \n",
    "    # ***************************************************\n",
    "    # INSERT YOUR CODE HERE\n",
    "    # TODO\n",
    "    # start you ALS-WR algorithm.\n",
    "    # ***************************************************\n",
    "    raise NotImplementedError\n",
    "\n",
    "ALS(train, test)"
   ]
  }
 ],
 "metadata": {
  "anaconda-cloud": {},
  "kernelspec": {
   "display_name": "Python [Root]",
   "language": "python",
   "name": "Python [Root]"
  },
  "language_info": {
   "codemirror_mode": {
    "name": "ipython",
    "version": 3
   },
   "file_extension": ".py",
   "mimetype": "text/x-python",
   "name": "python",
   "nbconvert_exporter": "python",
   "pygments_lexer": "ipython3",
   "version": "3.5.2"
  }
 },
 "nbformat": 4,
 "nbformat_minor": 0
}
