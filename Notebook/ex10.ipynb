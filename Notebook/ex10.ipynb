{
 "cells": [
  {
   "cell_type": "code",
   "execution_count": 26,
   "metadata": {
    "collapsed": false
   },
   "outputs": [
    {
     "name": "stdout",
     "output_type": "stream",
     "text": [
      "The autoreload extension is already loaded. To reload it, use:\n",
      "  %reload_ext autoreload\n"
     ]
    }
   ],
   "source": [
    "# Useful starting lines\n",
    "%matplotlib inline\n",
    "\n",
    "import numpy as np\n",
    "import math\n",
    "import scipy\n",
    "import scipy.io\n",
    "import scipy.sparse as sp\n",
    "import matplotlib.pyplot as plt\n",
    "%load_ext autoreload\n",
    "%autoreload 2"
   ]
  },
  {
   "cell_type": "markdown",
   "metadata": {},
   "source": [
    "## Load the Data\n",
    "Note that `ratings` is a sparse matrix that in the shape of (num_items, num_users)"
   ]
  },
  {
   "cell_type": "code",
   "execution_count": 27,
   "metadata": {
    "collapsed": false
   },
   "outputs": [
    {
     "name": "stdout",
     "output_type": "stream",
     "text": [
      "number of items: 1000, number of users: 10000\n"
     ]
    }
   ],
   "source": [
    "from helpers import load_data, preprocess_data\n",
    "\n",
    "path_dataset = \"data/data_train.csv\"\n",
    "ratings = load_data(path_dataset)"
   ]
  },
  {
   "cell_type": "markdown",
   "metadata": {},
   "source": [
    "### Plot the number of ratings per movie and user"
   ]
  },
  {
   "cell_type": "code",
   "execution_count": null,
   "metadata": {
    "collapsed": false,
    "scrolled": true
   },
   "outputs": [],
   "source": [
    "from plots import plot_raw_data\n",
    "\n",
    "num_items_per_user, num_users_per_item = plot_raw_data(ratings)\n",
    "\n",
    "print(\"min # of items per user = {}, min # of users per item = {}.\".format(\n",
    "        min(num_items_per_user), min(num_users_per_item)))"
   ]
  },
  {
   "cell_type": "markdown",
   "metadata": {},
   "source": [
    "### Split the data into a train and test set"
   ]
  },
  {
   "cell_type": "code",
   "execution_count": 28,
   "metadata": {
    "collapsed": false,
    "scrolled": true
   },
   "outputs": [
    {
     "name": "stdout",
     "output_type": "stream",
     "text": [
      "Total number of nonzero elements in original data:1176873\n",
      "Total number of nonzero elements in train data:1058916\n",
      "Total number of nonzero elements in test data:117957\n"
     ]
    }
   ],
   "source": [
    "from plots import plot_train_test_data\n",
    "from helpers import split_data\n",
    "\n",
    "valid_ratings, train_unfiltered, test = split_data(\n",
    "    ratings, num_items_per_user, num_users_per_item, min_num_ratings=10, p_test=0.1)\n"
   ]
  },
  {
   "cell_type": "code",
   "execution_count": 29,
   "metadata": {
    "collapsed": false
   },
   "outputs": [],
   "source": [
    "from outliers_filtering import *\n",
    "#d = disagreements(train_unfiltered)\n",
    "#plot_disagreements(d)\n",
    "#train = filter_outliers(train_unfiltered,d)\n",
    "#nfiltered = train_unfiltered.nnz - train.nnz\n",
    "#print(\"number of filtered ratings : {}\".format(nfiltered))\n",
    "train = train_unfiltered"
   ]
  },
  {
   "cell_type": "code",
   "execution_count": null,
   "metadata": {
    "collapsed": false
   },
   "outputs": [],
   "source": [
    "from outliers_filtering import threshold_tests\n",
    "threshold_tests(d, train_unfiltered, valid_ratings, test)"
   ]
  },
  {
   "cell_type": "markdown",
   "metadata": {},
   "source": [
    "## Implementing Baselines "
   ]
  },
  {
   "cell_type": "markdown",
   "metadata": {},
   "source": [
    "### Use the global mean to do the prediction"
   ]
  },
  {
   "cell_type": "code",
   "execution_count": 30,
   "metadata": {
    "collapsed": false,
    "scrolled": true
   },
   "outputs": [
    {
     "name": "stdout",
     "output_type": "stream",
     "text": [
      "1.11567752157\n",
      "1.11905221478\n"
     ]
    }
   ],
   "source": [
    "from helpers import calculate_mse\n",
    "from baselines import baseline_global_mean, compute_rmse\n",
    "\n",
    "train_mean, test_mean = baseline_global_mean(train, test)\n",
    "pred = np.ones(train.shape) * train_mean\n",
    "test_pred = np.ones(test.shape) * test_mean\n",
    "\n",
    "\n",
    "rmse_test = compute_rmse(test, test_pred)\n",
    "rmse_submission = compute_rmse(valid_ratings, pred)\n",
    "print(rmse_test)\n",
    "print(rmse_submission)"
   ]
  },
  {
   "cell_type": "markdown",
   "metadata": {},
   "source": [
    "### Use the user means as the prediction"
   ]
  },
  {
   "cell_type": "code",
   "execution_count": null,
   "metadata": {
    "collapsed": false
   },
   "outputs": [],
   "source": [
    "from baselines import baseline_user_mean\n",
    "\n",
    "train_means, test_means = baseline_user_mean(train, test)\n",
    "train_means_list = train_means.tolist()\n",
    "pred = np.ones(train.shape)\n",
    "for col in range(train.shape[1]):\n",
    "    pred[:,col] *= train_means_list[0][col]\n",
    "test_means_list = test_means.tolist()\n",
    "test_pred = np.ones(test.shape)\n",
    "for col in range(test.shape[1]):\n",
    "    test_pred[:,col] *= test_means_list[0][col]\n",
    "\n",
    "rmse_test = compute_rmse(test, test_pred)\n",
    "rmse_submission = compute_rmse(valid_ratings, pred)\n",
    "print(rmse_test)\n",
    "print(rmse_submission)"
   ]
  },
  {
   "cell_type": "markdown",
   "metadata": {},
   "source": [
    "### Use the item means as the prediction"
   ]
  },
  {
   "cell_type": "code",
   "execution_count": null,
   "metadata": {
    "collapsed": false
   },
   "outputs": [],
   "source": [
    "from baselines import baseline_item_mean\n",
    "from helpers import exportSubmission\n",
    "\n",
    "train_means, test_means = baseline_item_mean(train, test)\n",
    "train_means_list = train_means.tolist()\n",
    "pred = np.ones(train.shape)\n",
    "for col in range(train.shape[0]):\n",
    "    pred[col,:] *= train_means_list[col]\n",
    "test_means_list = test_means.tolist()\n",
    "test_pred = np.ones(test.shape)\n",
    "for col in range(test.shape[0]):\n",
    "    test_pred[col,:] *= test_means_list[col]\n",
    "\n",
    "rmse_test = compute_rmse(test, test_pred)\n",
    "rmse_submission = compute_rmse(valid_ratings, pred)\n",
    "print(rmse_test)\n",
    "print(rmse_submission)"
   ]
  },
  {
   "cell_type": "markdown",
   "metadata": {},
   "source": [
    "### Learn the Matrix Factorization using SGD"
   ]
  },
  {
   "cell_type": "markdown",
   "metadata": {},
   "source": [
    "#### Initialize matrix factorization"
   ]
  },
  {
   "cell_type": "markdown",
   "metadata": {},
   "source": [
    "Compute the cost by the method of matrix factorization.\n"
   ]
  },
  {
   "cell_type": "code",
   "execution_count": 65,
   "metadata": {
    "collapsed": false
   },
   "outputs": [
    {
     "name": "stdout",
     "output_type": "stream",
     "text": [
      "iter: k = 30, RMSE on training set: 2.8472014949081195.\n",
      "learn the matrix factorization using SGD...\n",
      "iter: 0, RMSE on training set: 1.7860476640497496.\n",
      "iter: 10, RMSE on training set: 1.072267813959614.\n",
      "iter: 20, RMSE on training set: 1.029250607266135.\n",
      "iter: 30, RMSE on training set: 1.010452695060202.\n",
      "iter: 40, RMSE on training set: 0.9985192477513356.\n",
      "iter: 50, RMSE on training set: 0.9898284969805184.\n",
      "iter: 60, RMSE on training set: 0.98306042559152.\n",
      "iter: 70, RMSE on training set: 0.977520361640855.\n",
      "iter: 80, RMSE on training set: 0.9727744711594994.\n",
      "iter: 90, RMSE on training set: 0.968712804164225.\n",
      "iter: 100, RMSE on training set: 0.965146057324347.\n",
      "iter: 110, RMSE on training set: 0.9617871970217926.\n",
      "iter: 120, RMSE on training set: 0.9588946017983973.\n",
      "iter: k = 30, RMSE on training set: 2.845651893735437.\n",
      "learn the matrix factorization using SGD...\n",
      "iter: 0, RMSE on training set: 1.7890616400521184.\n",
      "iter: 10, RMSE on training set: 1.0768092672083396.\n",
      "iter: 20, RMSE on training set: 1.0323171685996395.\n",
      "iter: 30, RMSE on training set: 1.0124675971918653.\n",
      "iter: 40, RMSE on training set: 1.0001225313427475.\n",
      "iter: 50, RMSE on training set: 0.9911720384503273.\n",
      "iter: 60, RMSE on training set: 0.9842015224928877.\n",
      "iter: 70, RMSE on training set: 0.9783877930082385.\n",
      "iter: 80, RMSE on training set: 0.9735887103848948.\n",
      "iter: 90, RMSE on training set: 0.9692787670417963.\n",
      "iter: 100, RMSE on training set: 0.9657634759641389.\n",
      "iter: k = 30, RMSE on training set: 2.844020121459129.\n",
      "learn the matrix factorization using SGD...\n",
      "iter: 0, RMSE on training set: 1.785347230242929.\n",
      "iter: 10, RMSE on training set: 1.070296409704634.\n",
      "iter: 20, RMSE on training set: 1.028908945970391.\n",
      "iter: 30, RMSE on training set: 1.0104767620372976.\n",
      "iter: 40, RMSE on training set: 0.9987365626238351.\n",
      "iter: 50, RMSE on training set: 0.990151549045768.\n",
      "iter: 60, RMSE on training set: 0.9833758457771931.\n",
      "iter: 70, RMSE on training set: 0.9775446362364879.\n",
      "iter: 80, RMSE on training set: 0.9728713270872879.\n",
      "iter: 90, RMSE on training set: 0.9686752679272491.\n",
      "iter: 100, RMSE on training set: 0.9649634311297922.\n",
      "iter: k = 30, RMSE on training set: 2.8380971455073962.\n",
      "learn the matrix factorization using SGD...\n",
      "iter: 0, RMSE on training set: 1.7673684823991653.\n",
      "iter: 10, RMSE on training set: 1.0646506587728053.\n",
      "iter: 20, RMSE on training set: 1.0255065943841626.\n",
      "iter: 30, RMSE on training set: 1.0080824048402637.\n",
      "iter: 40, RMSE on training set: 0.9969714056242275.\n",
      "iter: 50, RMSE on training set: 0.9888756519764068.\n",
      "iter: 60, RMSE on training set: 0.9823437933132908.\n",
      "iter: 70, RMSE on training set: 0.9770093830537377.\n",
      "iter: 80, RMSE on training set: 0.9724985199915979.\n",
      "iter: 90, RMSE on training set: 0.9684464638883674.\n",
      "iter: 100, RMSE on training set: 0.9648565111764396.\n",
      "iter: 110, RMSE on training set: 0.9615269133171683.\n",
      "iter: 120, RMSE on training set: 0.9584377663278413.\n",
      "iter: k = 30, RMSE on training set: 2.8454623662870775.\n",
      "learn the matrix factorization using SGD...\n",
      "iter: 0, RMSE on training set: 1.7901072537965308.\n",
      "iter: 10, RMSE on training set: 1.076251978446954.\n",
      "iter: 20, RMSE on training set: 1.033120228657138.\n",
      "iter: 30, RMSE on training set: 1.0131247708356164.\n",
      "iter: 40, RMSE on training set: 1.0008714125445113.\n",
      "iter: 50, RMSE on training set: 0.9917720827336796.\n",
      "iter: 60, RMSE on training set: 0.9843450284459607.\n",
      "iter: 70, RMSE on training set: 0.9786189295914288.\n",
      "iter: 80, RMSE on training set: 0.9738560541884114.\n",
      "iter: 90, RMSE on training set: 0.9693604294391007.\n",
      "iter: 100, RMSE on training set: 0.9654226382642626.\n",
      "iter: 110, RMSE on training set: 0.9621102935669487.\n",
      "iter: 120, RMSE on training set: 0.9590179224243155.\n",
      "iter: 130, RMSE on training set: 0.9561742830877902.\n",
      "[(array([[  8.59185029e-02,   1.47650817e-01,   8.01284744e-02, ...,\n",
      "          8.09320033e-02,   1.01185134e-01,   7.84178865e-02],\n",
      "       [  1.07328418e-01,   1.14748879e-01,   1.49500028e-01, ...,\n",
      "          1.06355911e-01,   8.78173027e-02,   9.03917317e-02],\n",
      "       [  9.69784011e-02,   1.09125171e-01,   1.16583836e-01, ...,\n",
      "          1.24260498e-01,   1.52797477e-01,   1.20116361e-01],\n",
      "       ..., \n",
      "       [  4.62279062e-02,   4.29968477e-02,   2.62502163e-02, ...,\n",
      "          7.44748130e-02,   6.65306762e-02,   2.46099445e-02],\n",
      "       [  5.38746301e-02,   1.77415570e-03,   5.13351761e-02, ...,\n",
      "          6.46208539e-02,   4.25783820e-02,   4.49711706e-02],\n",
      "       [  1.45109469e-04,   3.60735279e-02,   1.76577866e-02, ...,\n",
      "          3.12014100e-02,   1.27912477e-03,   1.29975223e-02]]), array([[ 1.3734247 ,  0.93284495,  0.0314954 , ...,  1.2160506 ,\n",
      "         1.01511079,  2.14804353],\n",
      "       [ 0.1036058 ,  0.44325154,  1.14421826, ...,  0.86297749,\n",
      "         1.06878514,  2.02077376],\n",
      "       [ 1.69709532,  0.6541169 ,  1.42901819, ...,  0.21342498,\n",
      "         0.8089407 ,  1.51561216],\n",
      "       ..., \n",
      "       [-0.05142836, -0.06079834,  0.52005159, ...,  1.73093767,\n",
      "         0.85561605,  1.79898377],\n",
      "       [ 1.6338292 ,  1.05027413,  1.76108219, ...,  1.94037567,\n",
      "         0.07359572,  1.94301782],\n",
      "       [ 1.64101083,  1.47376025,  1.50730485, ...,  0.29493474,\n",
      "         1.669824  ,  0.0968842 ]])), (array([[ 0.11205316,  0.12995222,  0.11659358, ...,  0.1238822 ,\n",
      "         0.09054216,  0.13200295],\n",
      "       [ 0.05658883,  0.10736417,  0.11600899, ...,  0.12453314,\n",
      "         0.15597529,  0.06083424],\n",
      "       [ 0.0812041 ,  0.08982119,  0.10050206, ...,  0.09688057,\n",
      "         0.09249132,  0.08524456],\n",
      "       ..., \n",
      "       [ 0.01695349,  0.05981861,  0.00661586, ...,  0.05933466,\n",
      "         0.01108654,  0.00324757],\n",
      "       [ 0.00481731,  0.05485594,  0.04535104, ...,  0.0203078 ,\n",
      "         0.05599876,  0.03314686],\n",
      "       [ 0.05605098,  0.01237449,  0.05429222, ...,  0.02540956,\n",
      "         0.0274798 ,  0.02920806]]), array([[ 1.59573736,  1.12177267,  0.48578138, ...,  1.3188514 ,\n",
      "         2.08837136,  0.12907011],\n",
      "       [ 0.18933366,  2.22238379,  2.25853397, ...,  1.23925557,\n",
      "         0.84824038,  1.01220915],\n",
      "       [ 0.93774249,  1.78771775,  0.44154867, ...,  1.48942863,\n",
      "         1.56134529,  1.11050517],\n",
      "       ..., \n",
      "       [ 2.04064494,  0.76588255,  2.01420148, ...,  0.30124597,\n",
      "         1.80119064,  2.10750679],\n",
      "       [ 1.96714741,  2.08085982,  1.07703317, ...,  1.94376938,\n",
      "         0.9730085 ,  1.99007177],\n",
      "       [ 1.86400378,  0.85737258,  2.22550418, ...,  0.02598044,\n",
      "         1.7524864 ,  1.18736271]])), (array([[ 0.12296226,  0.09862018,  0.09795693, ...,  0.12471727,\n",
      "         0.08178089,  0.10426132],\n",
      "       [ 0.14366458,  0.10633109,  0.1464682 , ...,  0.04906707,\n",
      "         0.13513273,  0.04935501],\n",
      "       [ 0.05441001,  0.08302362,  0.13797477, ...,  0.03952187,\n",
      "         0.06505043,  0.11981613],\n",
      "       ..., \n",
      "       [ 0.05121303,  0.05160563,  0.05801062, ...,  0.06128621,\n",
      "         0.026231  ,  0.0267185 ],\n",
      "       [ 0.04816549,  0.0392921 ,  0.03151741, ...,  0.04448854,\n",
      "         0.0086383 ,  0.00500123],\n",
      "       [ 0.06802901,  0.06218789,  0.03356755, ...,  0.00578832,\n",
      "         0.04992226,  0.05327286]]), array([[ 1.70304253,  1.78485874,  1.49119453, ...,  0.2573287 ,\n",
      "         1.12721402,  0.80865969],\n",
      "       [ 2.23590145,  1.1856616 ,  1.86356005, ...,  2.24980093,\n",
      "         0.177242  ,  0.21523351],\n",
      "       [ 1.65537432,  1.97016186,  1.08279363, ...,  1.13269222,\n",
      "         0.49110951,  1.14626931],\n",
      "       ..., \n",
      "       [ 1.3854096 ,  1.16218177,  1.27831553, ...,  1.44053616,\n",
      "         1.98083745,  1.80408338],\n",
      "       [ 0.89688029,  1.60689952,  2.21516642, ...,  1.3870074 ,\n",
      "         0.10361075,  0.88175338],\n",
      "       [ 1.69836184,  0.04959824,  2.05846343, ...,  1.81570399,\n",
      "         1.38717063,  0.38387715]])), (array([[ 0.08692817,  0.12760621,  0.05423438, ...,  0.17227951,\n",
      "         0.06836751,  0.14782297],\n",
      "       [ 0.05169175,  0.10309492,  0.06896123, ...,  0.12007175,\n",
      "         0.16088556,  0.14023306],\n",
      "       [ 0.06193817,  0.16384835,  0.0444382 , ...,  0.08317151,\n",
      "         0.07784258,  0.1094259 ],\n",
      "       ..., \n",
      "       [ 0.07166903,  0.04784806,  0.04143395, ...,  0.00154099,\n",
      "         0.02031534,  0.03789917],\n",
      "       [ 0.0226112 ,  0.0533104 ,  0.04991794, ...,  0.06217333,\n",
      "         0.05136283,  0.0108517 ],\n",
      "       [ 0.01991223,  0.03255866,  0.05449902, ...,  0.06298935,\n",
      "         0.07285473,  0.06660518]]), array([[ 0.65027316,  1.34121994,  2.0915683 , ...,  1.41873796,\n",
      "         1.43972839,  0.32684043],\n",
      "       [ 0.43333093,  1.81154847,  0.23009817, ...,  1.1553868 ,\n",
      "         1.16498657,  0.17055535],\n",
      "       [ 0.68541208,  1.55431987,  0.75932279, ...,  1.26716753,\n",
      "         1.10877878,  0.48773838],\n",
      "       ..., \n",
      "       [ 1.35847425,  0.84169204,  0.09887752, ...,  1.9807433 ,\n",
      "        -0.04998355,  0.72329894],\n",
      "       [ 1.21087335, -0.02528132,  1.94048886, ...,  0.83807939,\n",
      "         1.54151808,  1.34379094],\n",
      "       [ 1.8200069 ,  0.71494044,  0.33931819, ...,  1.34909749,\n",
      "         2.10183477,  1.78261317]])), (array([[ 0.06877752,  0.06865491,  0.13552772, ...,  0.13069413,\n",
      "         0.13288826,  0.12799103],\n",
      "       [ 0.05535047,  0.05543904,  0.0829934 , ...,  0.12490361,\n",
      "         0.17540349,  0.22131316],\n",
      "       [ 0.11720468,  0.05381842,  0.15957293, ...,  0.14813832,\n",
      "         0.11666498,  0.07275365],\n",
      "       ..., \n",
      "       [ 0.02270805,  0.06327086,  0.06529102, ...,  0.03391169,\n",
      "         0.04671733,  0.07361944],\n",
      "       [ 0.01679517,  0.03794693,  0.03761005, ...,  0.01086069,\n",
      "         0.03738958,  0.04393206],\n",
      "       [ 0.03905306,  0.00249388,  0.0003417 , ...,  0.0134394 ,\n",
      "         0.02014148,  0.06862624]]), array([[ 1.7355659 ,  0.83590555,  0.9868364 , ...,  1.76511803,\n",
      "         2.15780268,  1.1481832 ],\n",
      "       [ 1.42864656,  0.36009875,  1.98773648, ...,  0.0150857 ,\n",
      "         1.02477167,  0.5130966 ],\n",
      "       [ 1.12553107,  1.29982684,  1.38869394, ...,  0.20674268,\n",
      "         1.9186806 ,  1.25493551],\n",
      "       ..., \n",
      "       [ 1.92629324,  0.53029415,  0.04535986, ...,  0.42329742,\n",
      "         0.25774296,  1.67400162],\n",
      "       [ 1.66146806,  1.94199969,  0.52093938, ...,  0.71169389,\n",
      "         1.89144094,  0.41285004],\n",
      "       [ 2.21417419,  0.0711751 ,  0.79282701, ...,  2.16820921,\n",
      "         0.8181117 ,  2.23389416]]))]\n",
      "1.02207824693\n",
      "1.02286028394\n",
      "1.02266313406\n",
      "1.02100045275\n",
      "1.0216440304\n",
      "1.02100045275\n"
     ]
    },
    {
     "data": {
      "image/png": "[encoded data removed]",
      "text/plain": [
       "<matplotlib.figure.Figure at 0x2700a853be0>"
      ]
     },
     "metadata": {},
     "output_type": "display_data"
    }
   ],
   "source": [
    "from matrix_factorization import multiple_matrix_factorization_SGD\n",
    "from helpers import pick_lowest_rmse\n",
    "# set seed\n",
    "np.random.seed(988)\n",
    "results = multiple_matrix_factorization_SGD(train, test, num_epochs=500, ntries=5)\n",
    "print(results)\n",
    "rmse, user_features, item_features = pick_lowest_rmse(test, results, test.nonzero())\n",
    "print(rmse)"
   ]
  },
  {
   "cell_type": "code",
   "execution_count": 59,
   "metadata": {
    "collapsed": false
   },
   "outputs": [
    {
     "name": "stdout",
     "output_type": "stream",
     "text": [
      "number of items: 1000, number of users: 10000\n"
     ]
    }
   ],
   "source": [
    "from helpers import exportSubmission\n",
    "pred =  (item_features @ user_features.T)\n",
    "exportSubmission(\"data/submission_MF.csv\", pred)"
   ]
  },
  {
   "cell_type": "code",
   "execution_count": null,
   "metadata": {
    "collapsed": false
   },
   "outputs": [],
   "source": [
    "from matrix_factorization import matrix_factorization_SGD\n",
    "from helpers import compute_error\n",
    "errors = []\n",
    "for i in np.arange(5, 40, 5):\n",
    "    user_features, item_features = matrix_factorization_SGD(train, test, num_epochs = 1000, num_features = i)\n",
    "    error = compute_error(test, user_features, item_features, test.nonzero())\n",
    "    errors.append(error)\n"
   ]
  },
  {
   "cell_type": "code",
   "execution_count": null,
   "metadata": {
    "collapsed": false
   },
   "outputs": [],
   "source": [
    "from plots import visualization\n",
    "visualization(np.arange(5, 40, 5),errors,errors)\n",
    "print(errors)"
   ]
  },
  {
   "cell_type": "markdown",
   "metadata": {},
   "source": [
    "### Learn the Matrix Factorization using Alternating Least Squares"
   ]
  },
  {
   "cell_type": "code",
   "execution_count": null,
   "metadata": {
    "collapsed": true
   },
   "outputs": [],
   "source": [
    "def update_user_feature(\n",
    "        train, item_features, lambda_user,\n",
    "        nnz_items_per_user, nz_user_itemindices):\n",
    "    \"\"\"update user feature matrix.\"\"\"\n",
    "    # ***************************************************\n",
    "    # INSERT YOUR CODE HERE\n",
    "    # TODO\n",
    "    # update and return user feature.\n",
    "    # ***************************************************\n",
    "    raise NotImplementedError\n",
    "\n",
    "def update_item_feature(\n",
    "        train, user_features, lambda_item,\n",
    "        nnz_users_per_item, nz_item_userindices):\n",
    "    \"\"\"update item feature matrix.\"\"\"\n",
    "    # ***************************************************\n",
    "    # INSERT YOUR CODE HERE\n",
    "    # TODO\n",
    "    # update and return item feature.\n",
    "    # ***************************************************\n",
    "    raise NotImplementedError"
   ]
  },
  {
   "cell_type": "code",
   "execution_count": null,
   "metadata": {
    "collapsed": false
   },
   "outputs": [],
   "source": [
    "from helpers import build_index_groups\n",
    "\n",
    "\n",
    "def ALS(train, test):\n",
    "    \"\"\"Alternating Least Squares (ALS) algorithm.\"\"\"\n",
    "    # define parameters\n",
    "    num_features = 20   # K in the lecture notes\n",
    "    lambda_user = 0.1\n",
    "    lambda_item = 0.7\n",
    "    stop_criterion = 1e-4\n",
    "    change = 1\n",
    "    error_list = [0, 0]\n",
    "    \n",
    "    # set seed\n",
    "    np.random.seed(988)\n",
    "\n",
    "    # init ALS\n",
    "    user_features, item_features = init_MF(train, num_features)\n",
    "    \n",
    "    # ***************************************************\n",
    "    # INSERT YOUR CODE HERE\n",
    "    # TODO\n",
    "    # start you ALS-WR algorithm.\n",
    "    # ***************************************************\n",
    "    raise NotImplementedError\n",
    "\n",
    "ALS(train, test)"
   ]
  },
  {
   "cell_type": "code",
   "execution_count": null,
   "metadata": {
    "collapsed": true
   },
   "outputs": [],
   "source": [
    "###Computing prediction"
   ]
  },
  {
   "cell_type": "code",
   "execution_count": null,
   "metadata": {
    "collapsed": true
   },
   "outputs": [],
   "source": [
    "pred = np.ones(valid_ratings.shape)\n",
    "for col in range(valid_ratings.shape[0]):\n",
    "    pred[col,:] *= ratings_means_list[col]\n",
    "    \n",
    "exportSubmission(\"data/final_submission.csv\", pred)"
   ]
  }
 ],
 "metadata": {
  "anaconda-cloud": {},
  "kernelspec": {
   "display_name": "Python [Root]",
   "language": "python",
   "name": "Python [Root]"
  },
  "language_info": {
   "codemirror_mode": {
    "name": "ipython",
    "version": 3
   },
   "file_extension": ".py",
   "mimetype": "text/x-python",
   "name": "python",
   "nbconvert_exporter": "python",
   "pygments_lexer": "ipython3",
   "version": "3.5.2"
  }
 },
 "nbformat": 4,
 "nbformat_minor": 0
}
